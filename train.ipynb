{
 "cells": [
  {
   "cell_type": "code",
   "execution_count": 1,
   "metadata": {},
   "outputs": [
    {
     "name": "stderr",
     "output_type": "stream",
     "text": [
      "/home/nicbat/miniconda3/envs/drawenv/lib/python3.11/site-packages/tqdm/auto.py:21: TqdmWarning: IProgress not found. Please update jupyter and ipywidgets. See https://ipywidgets.readthedocs.io/en/stable/user_install.html\n",
      "  from .autonotebook import tqdm as notebook_tqdm\n"
     ]
    }
   ],
   "source": [
    "import time\n",
    "import math\n",
    "from functools import partial\n",
    "from tqdm.auto import tqdm\n",
    "from tqdm.utils import _term_move_up\n",
    "\n",
    "prefix = _term_move_up() + '\\r'\n",
    "\n",
    "import torch\n",
    "from torch import nn\n",
    "from torch.utils.data import DataLoader\n",
    "from torch.utils.tensorboard import SummaryWriter\n",
    "\n",
    "# from mamba import Mamba, MambaConfig\n",
    "from mamba_ssm import Mamba\n",
    "# from mamba_ssm.modules.mamba_simple import Block\n",
    "from mamba_ssm.models.mixer_seq_simple import create_block, _init_weights\n",
    "\n",
    "from transformers import get_cosine_schedule_with_warmup\n",
    "\n",
    "from data import DrawingDataset\n",
    "from customModel import customModel\n",
    "\n",
    "%load_ext autoreload\n",
    "%autoreload 2"
   ]
  },
  {
   "cell_type": "code",
   "execution_count": 2,
   "metadata": {},
   "outputs": [
    {
     "name": "stdout",
     "output_type": "stream",
     "text": [
      "True\n",
      "NVIDIA GeForce RTX 3050 Ti Laptop GPU\n",
      "_CudaDeviceProperties(name='NVIDIA GeForce RTX 3050 Ti Laptop GPU', major=8, minor=6, total_memory=4095MB, multi_processor_count=20)\n"
     ]
    }
   ],
   "source": [
    "print(torch.cuda.is_available())\n",
    "print(torch.cuda.get_device_name())\n",
    "print(torch.cuda.get_device_properties(0))"
   ]
  },
  {
   "cell_type": "code",
   "execution_count": 3,
   "metadata": {},
   "outputs": [
    {
     "name": "stdout",
     "output_type": "stream",
     "text": [
      "['./data/The Eiffel Tower.npz', './data/The Great Wall of China.npz', './data/The Mona Lisa.npz', './data/aircraft carrier.npz', './data/airplane.npz', './data/alarm clock.npz', './data/ambulance.npz', './data/angel.npz', './data/animal migration.npz', './data/ant.npz', './data/anvil.npz', './data/apple.npz', './data/arm.npz', './data/asparagus.npz', './data/axe.npz', './data/backpack.npz', './data/banana.npz', './data/bandage.npz', './data/barn.npz', './data/baseball bat.npz', './data/baseball.npz', './data/basket.npz', './data/basketball.npz', './data/bat.npz', './data/bathtub.npz', './data/beach.npz', './data/bear.npz', './data/beard.npz', './data/bed.npz', './data/bee.npz', './data/belt.npz', './data/bench.npz', './data/bicycle.npz', './data/binoculars.npz', './data/bird.npz', './data/birthday cake.npz', './data/blackberry.npz', './data/blueberry.npz', './data/book.npz', './data/boomerang.npz', './data/bottlecap.npz', './data/bowtie.npz', './data/bracelet.npz', './data/brain.npz', './data/bread.npz', './data/bridge.npz', './data/broccoli.npz', './data/broom.npz', './data/bucket.npz', './data/bulldozer.npz', './data/bus.npz', './data/bush.npz', './data/butterfly.npz', './data/cactus.npz', './data/cake.npz', './data/calculator.npz', './data/calendar.npz', './data/camel.npz', './data/camera.npz', './data/camouflage.npz', './data/campfire.npz', './data/candle.npz', './data/cannon.npz', './data/canoe.npz', './data/car.npz', './data/carrot.npz', './data/castle.npz', './data/cat.npz', './data/ceiling fan.npz', './data/cell phone.npz', './data/cello.npz', './data/chair.npz', './data/chandelier.npz', './data/church.npz', './data/circle.npz', './data/clarinet.npz', './data/clock.npz', './data/cloud.npz', './data/coffee cup.npz', './data/compass.npz', './data/computer.npz', './data/cookie.npz', './data/cooler.npz', './data/couch.npz', './data/cow.npz', './data/crab.npz', './data/crayon.npz', './data/crocodile.npz', './data/crown.npz', './data/cruise ship.npz', './data/cup.npz', './data/diamond.npz', './data/dishwasher.npz', './data/diving board.npz', './data/dog.npz', './data/dolphin.npz', './data/donut.npz', './data/door.npz', './data/dragon.npz', './data/dresser.npz', './data/drill.npz', './data/drums.npz', './data/duck.npz', './data/dumbbell.npz', './data/ear.npz', './data/elbow.npz', './data/elephant.npz', './data/envelope.npz', './data/eraser.npz', './data/eye.npz', './data/eyeglasses.npz', './data/face.npz', './data/fan.npz', './data/feather.npz', './data/fence.npz', './data/finger.npz', './data/fire hydrant.npz', './data/fireplace.npz', './data/firetruck.npz', './data/fish.npz', './data/flamingo.npz', './data/flashlight.npz', './data/flip flops.npz', './data/floor lamp.npz', './data/flower.npz', './data/flying saucer.npz', './data/foot.npz', './data/fork.npz', './data/frog.npz', './data/frying pan.npz', './data/garden hose.npz', './data/garden.npz', './data/giraffe.npz', './data/goatee.npz', './data/golf club.npz', './data/grapes.npz', './data/grass.npz', './data/guitar.npz', './data/hamburger.npz', './data/hammer.npz', './data/hand.npz', './data/harp.npz', './data/hat.npz', './data/headphones.npz', './data/hedgehog.npz', './data/helicopter.npz', './data/helmet.npz', './data/hexagon.npz', './data/hockey puck.npz', './data/hockey stick.npz', './data/horse.npz', './data/hospital.npz', './data/hot air balloon.npz', './data/hot dog.npz', './data/hot tub.npz', './data/hourglass.npz', './data/house plant.npz', './data/house.npz', './data/hurricane.npz', './data/ice cream.npz', './data/jacket.npz', './data/jail.npz', './data/kangaroo.npz', './data/key.npz', './data/keyboard.npz', './data/knee.npz', './data/knife.npz', './data/ladder.npz', './data/lantern.npz', './data/laptop.npz', './data/leaf.npz', './data/leg.npz', './data/light bulb.npz', './data/lighter.npz', './data/lighthouse.npz', './data/lightning.npz', './data/line.npz', './data/lion.npz', './data/lipstick.npz', './data/lobster.npz', './data/lollipop.npz', './data/mailbox.npz', './data/map.npz', './data/marker.npz', './data/matches.npz', './data/megaphone.npz', './data/mermaid.npz', './data/microphone.npz', './data/microwave.npz', './data/monkey.npz', './data/moon.npz', './data/mosquito.npz', './data/motorbike.npz', './data/mountain.npz', './data/mouse.npz', './data/moustache.npz', './data/mouth.npz', './data/mug.npz', './data/mushroom.npz', './data/nail.npz', './data/necklace.npz', './data/nose.npz', './data/ocean.npz', './data/octagon.npz', './data/octopus.npz', './data/onion.npz', './data/oven.npz', './data/owl.npz', './data/paint can.npz', './data/paintbrush.npz', './data/palm tree.npz', './data/panda.npz', './data/pants.npz', './data/paper clip.npz', './data/parachute.npz', './data/parrot.npz', './data/passport.npz', './data/peanut.npz', './data/pear.npz', './data/peas.npz', './data/pencil.npz', './data/penguin.npz', './data/piano.npz', './data/pickup truck.npz', './data/picture frame.npz', './data/pig.npz', './data/pillow.npz', './data/pineapple.npz', './data/pizza.npz', './data/pliers.npz', './data/police car.npz', './data/pond.npz', './data/pool.npz', './data/popsicle.npz', './data/postcard.npz', './data/potato.npz', './data/power outlet.npz', './data/purse.npz', './data/rabbit.npz', './data/raccoon.npz', './data/radio.npz', './data/rain.npz', './data/rainbow.npz', './data/rake.npz', './data/remote control.npz', './data/rhinoceros.npz', './data/rifle.npz', './data/river.npz', './data/roller coaster.npz', './data/rollerskates.npz', './data/sailboat.npz', './data/sandwich.npz', './data/saw.npz', './data/saxophone.npz', './data/school bus.npz', './data/scissors.npz', './data/scorpion.npz', './data/screwdriver.npz', './data/sea turtle.npz', './data/see saw.npz', './data/shark.npz', './data/sheep.npz', './data/shoe.npz', './data/shorts.npz', './data/shovel.npz', './data/sink.npz', './data/skateboard.npz', './data/skull.npz', './data/skyscraper.npz', './data/sleeping bag.npz', './data/smiley face.npz', './data/snail.npz', './data/snake.npz', './data/snorkel.npz', './data/snowflake.npz', './data/snowman.npz', './data/soccer ball.npz', './data/sock.npz', './data/speedboat.npz', './data/spider.npz', './data/spoon.npz', './data/spreadsheet.npz', './data/square.npz', './data/squiggle.npz', './data/squirrel.npz', './data/stairs.npz', './data/star.npz', './data/steak.npz', './data/stereo.npz', './data/stethoscope.npz', './data/stitches.npz', './data/stop sign.npz', './data/stove.npz', './data/strawberry.npz', './data/streetlight.npz', './data/string bean.npz', './data/submarine.npz', './data/suitcase.npz', './data/sun.npz', './data/swan.npz', './data/sweater.npz', './data/swing set.npz', './data/sword.npz', './data/syringe.npz', './data/t-shirt.npz', './data/table.npz', './data/teapot.npz', './data/teddy-bear.npz', './data/telephone.npz', './data/television.npz', './data/tennis racquet.npz', './data/tent.npz', './data/tiger.npz', './data/toaster.npz', './data/toe.npz', './data/toilet.npz', './data/tooth.npz', './data/toothbrush.npz', './data/toothpaste.npz', './data/tornado.npz', './data/tractor.npz', './data/traffic light.npz', './data/train.npz', './data/tree.npz', './data/triangle.npz', './data/trombone.npz', './data/truck.npz', './data/trumpet.npz', './data/umbrella.npz', './data/underwear.npz', './data/van.npz', './data/vase.npz', './data/violin.npz', './data/washing machine.npz', './data/watermelon.npz', './data/waterslide.npz', './data/whale.npz', './data/wheel.npz', './data/windmill.npz', './data/wine bottle.npz', './data/wine glass.npz', './data/wristwatch.npz', './data/yoga.npz', './data/zebra.npz', './data/zigzag.npz']\n"
     ]
    },
    {
     "name": "stderr",
     "output_type": "stream",
     "text": [
      "  0%|          | 0/345 [00:00<?, ?it/s]"
     ]
    },
    {
     "name": "stderr",
     "output_type": "stream",
     "text": [
      "  0%|          | 1/345 [00:00<02:12,  2.60it/s]\n"
     ]
    },
    {
     "name": "stdout",
     "output_type": "stream",
     "text": [
      "['./data/The Eiffel Tower.npz', './data/The Great Wall of China.npz', './data/The Mona Lisa.npz', './data/aircraft carrier.npz', './data/airplane.npz', './data/alarm clock.npz', './data/ambulance.npz', './data/angel.npz', './data/animal migration.npz', './data/ant.npz', './data/anvil.npz', './data/apple.npz', './data/arm.npz', './data/asparagus.npz', './data/axe.npz', './data/backpack.npz', './data/banana.npz', './data/bandage.npz', './data/barn.npz', './data/baseball bat.npz', './data/baseball.npz', './data/basket.npz', './data/basketball.npz', './data/bat.npz', './data/bathtub.npz', './data/beach.npz', './data/bear.npz', './data/beard.npz', './data/bed.npz', './data/bee.npz', './data/belt.npz', './data/bench.npz', './data/bicycle.npz', './data/binoculars.npz', './data/bird.npz', './data/birthday cake.npz', './data/blackberry.npz', './data/blueberry.npz', './data/book.npz', './data/boomerang.npz', './data/bottlecap.npz', './data/bowtie.npz', './data/bracelet.npz', './data/brain.npz', './data/bread.npz', './data/bridge.npz', './data/broccoli.npz', './data/broom.npz', './data/bucket.npz', './data/bulldozer.npz', './data/bus.npz', './data/bush.npz', './data/butterfly.npz', './data/cactus.npz', './data/cake.npz', './data/calculator.npz', './data/calendar.npz', './data/camel.npz', './data/camera.npz', './data/camouflage.npz', './data/campfire.npz', './data/candle.npz', './data/cannon.npz', './data/canoe.npz', './data/car.npz', './data/carrot.npz', './data/castle.npz', './data/cat.npz', './data/ceiling fan.npz', './data/cell phone.npz', './data/cello.npz', './data/chair.npz', './data/chandelier.npz', './data/church.npz', './data/circle.npz', './data/clarinet.npz', './data/clock.npz', './data/cloud.npz', './data/coffee cup.npz', './data/compass.npz', './data/computer.npz', './data/cookie.npz', './data/cooler.npz', './data/couch.npz', './data/cow.npz', './data/crab.npz', './data/crayon.npz', './data/crocodile.npz', './data/crown.npz', './data/cruise ship.npz', './data/cup.npz', './data/diamond.npz', './data/dishwasher.npz', './data/diving board.npz', './data/dog.npz', './data/dolphin.npz', './data/donut.npz', './data/door.npz', './data/dragon.npz', './data/dresser.npz', './data/drill.npz', './data/drums.npz', './data/duck.npz', './data/dumbbell.npz', './data/ear.npz', './data/elbow.npz', './data/elephant.npz', './data/envelope.npz', './data/eraser.npz', './data/eye.npz', './data/eyeglasses.npz', './data/face.npz', './data/fan.npz', './data/feather.npz', './data/fence.npz', './data/finger.npz', './data/fire hydrant.npz', './data/fireplace.npz', './data/firetruck.npz', './data/fish.npz', './data/flamingo.npz', './data/flashlight.npz', './data/flip flops.npz', './data/floor lamp.npz', './data/flower.npz', './data/flying saucer.npz', './data/foot.npz', './data/fork.npz', './data/frog.npz', './data/frying pan.npz', './data/garden hose.npz', './data/garden.npz', './data/giraffe.npz', './data/goatee.npz', './data/golf club.npz', './data/grapes.npz', './data/grass.npz', './data/guitar.npz', './data/hamburger.npz', './data/hammer.npz', './data/hand.npz', './data/harp.npz', './data/hat.npz', './data/headphones.npz', './data/hedgehog.npz', './data/helicopter.npz', './data/helmet.npz', './data/hexagon.npz', './data/hockey puck.npz', './data/hockey stick.npz', './data/horse.npz', './data/hospital.npz', './data/hot air balloon.npz', './data/hot dog.npz', './data/hot tub.npz', './data/hourglass.npz', './data/house plant.npz', './data/house.npz', './data/hurricane.npz', './data/ice cream.npz', './data/jacket.npz', './data/jail.npz', './data/kangaroo.npz', './data/key.npz', './data/keyboard.npz', './data/knee.npz', './data/knife.npz', './data/ladder.npz', './data/lantern.npz', './data/laptop.npz', './data/leaf.npz', './data/leg.npz', './data/light bulb.npz', './data/lighter.npz', './data/lighthouse.npz', './data/lightning.npz', './data/line.npz', './data/lion.npz', './data/lipstick.npz', './data/lobster.npz', './data/lollipop.npz', './data/mailbox.npz', './data/map.npz', './data/marker.npz', './data/matches.npz', './data/megaphone.npz', './data/mermaid.npz', './data/microphone.npz', './data/microwave.npz', './data/monkey.npz', './data/moon.npz', './data/mosquito.npz', './data/motorbike.npz', './data/mountain.npz', './data/mouse.npz', './data/moustache.npz', './data/mouth.npz', './data/mug.npz', './data/mushroom.npz', './data/nail.npz', './data/necklace.npz', './data/nose.npz', './data/ocean.npz', './data/octagon.npz', './data/octopus.npz', './data/onion.npz', './data/oven.npz', './data/owl.npz', './data/paint can.npz', './data/paintbrush.npz', './data/palm tree.npz', './data/panda.npz', './data/pants.npz', './data/paper clip.npz', './data/parachute.npz', './data/parrot.npz', './data/passport.npz', './data/peanut.npz', './data/pear.npz', './data/peas.npz', './data/pencil.npz', './data/penguin.npz', './data/piano.npz', './data/pickup truck.npz', './data/picture frame.npz', './data/pig.npz', './data/pillow.npz', './data/pineapple.npz', './data/pizza.npz', './data/pliers.npz', './data/police car.npz', './data/pond.npz', './data/pool.npz', './data/popsicle.npz', './data/postcard.npz', './data/potato.npz', './data/power outlet.npz', './data/purse.npz', './data/rabbit.npz', './data/raccoon.npz', './data/radio.npz', './data/rain.npz', './data/rainbow.npz', './data/rake.npz', './data/remote control.npz', './data/rhinoceros.npz', './data/rifle.npz', './data/river.npz', './data/roller coaster.npz', './data/rollerskates.npz', './data/sailboat.npz', './data/sandwich.npz', './data/saw.npz', './data/saxophone.npz', './data/school bus.npz', './data/scissors.npz', './data/scorpion.npz', './data/screwdriver.npz', './data/sea turtle.npz', './data/see saw.npz', './data/shark.npz', './data/sheep.npz', './data/shoe.npz', './data/shorts.npz', './data/shovel.npz', './data/sink.npz', './data/skateboard.npz', './data/skull.npz', './data/skyscraper.npz', './data/sleeping bag.npz', './data/smiley face.npz', './data/snail.npz', './data/snake.npz', './data/snorkel.npz', './data/snowflake.npz', './data/snowman.npz', './data/soccer ball.npz', './data/sock.npz', './data/speedboat.npz', './data/spider.npz', './data/spoon.npz', './data/spreadsheet.npz', './data/square.npz', './data/squiggle.npz', './data/squirrel.npz', './data/stairs.npz', './data/star.npz', './data/steak.npz', './data/stereo.npz', './data/stethoscope.npz', './data/stitches.npz', './data/stop sign.npz', './data/stove.npz', './data/strawberry.npz', './data/streetlight.npz', './data/string bean.npz', './data/submarine.npz', './data/suitcase.npz', './data/sun.npz', './data/swan.npz', './data/sweater.npz', './data/swing set.npz', './data/sword.npz', './data/syringe.npz', './data/t-shirt.npz', './data/table.npz', './data/teapot.npz', './data/teddy-bear.npz', './data/telephone.npz', './data/television.npz', './data/tennis racquet.npz', './data/tent.npz', './data/tiger.npz', './data/toaster.npz', './data/toe.npz', './data/toilet.npz', './data/tooth.npz', './data/toothbrush.npz', './data/toothpaste.npz', './data/tornado.npz', './data/tractor.npz', './data/traffic light.npz', './data/train.npz', './data/tree.npz', './data/triangle.npz', './data/trombone.npz', './data/truck.npz', './data/trumpet.npz', './data/umbrella.npz', './data/underwear.npz', './data/van.npz', './data/vase.npz', './data/violin.npz', './data/washing machine.npz', './data/watermelon.npz', './data/waterslide.npz', './data/whale.npz', './data/wheel.npz', './data/windmill.npz', './data/wine bottle.npz', './data/wine glass.npz', './data/wristwatch.npz', './data/yoga.npz', './data/zebra.npz', './data/zigzag.npz']\n"
     ]
    },
    {
     "name": "stderr",
     "output_type": "stream",
     "text": [
      "  0%|          | 1/345 [00:00<00:05, 64.73it/s]\n"
     ]
    },
    {
     "name": "stdout",
     "output_type": "stream",
     "text": [
      "['./data/The Eiffel Tower.npz', './data/The Great Wall of China.npz', './data/The Mona Lisa.npz', './data/aircraft carrier.npz', './data/airplane.npz', './data/alarm clock.npz', './data/ambulance.npz', './data/angel.npz', './data/animal migration.npz', './data/ant.npz', './data/anvil.npz', './data/apple.npz', './data/arm.npz', './data/asparagus.npz', './data/axe.npz', './data/backpack.npz', './data/banana.npz', './data/bandage.npz', './data/barn.npz', './data/baseball bat.npz', './data/baseball.npz', './data/basket.npz', './data/basketball.npz', './data/bat.npz', './data/bathtub.npz', './data/beach.npz', './data/bear.npz', './data/beard.npz', './data/bed.npz', './data/bee.npz', './data/belt.npz', './data/bench.npz', './data/bicycle.npz', './data/binoculars.npz', './data/bird.npz', './data/birthday cake.npz', './data/blackberry.npz', './data/blueberry.npz', './data/book.npz', './data/boomerang.npz', './data/bottlecap.npz', './data/bowtie.npz', './data/bracelet.npz', './data/brain.npz', './data/bread.npz', './data/bridge.npz', './data/broccoli.npz', './data/broom.npz', './data/bucket.npz', './data/bulldozer.npz', './data/bus.npz', './data/bush.npz', './data/butterfly.npz', './data/cactus.npz', './data/cake.npz', './data/calculator.npz', './data/calendar.npz', './data/camel.npz', './data/camera.npz', './data/camouflage.npz', './data/campfire.npz', './data/candle.npz', './data/cannon.npz', './data/canoe.npz', './data/car.npz', './data/carrot.npz', './data/castle.npz', './data/cat.npz', './data/ceiling fan.npz', './data/cell phone.npz', './data/cello.npz', './data/chair.npz', './data/chandelier.npz', './data/church.npz', './data/circle.npz', './data/clarinet.npz', './data/clock.npz', './data/cloud.npz', './data/coffee cup.npz', './data/compass.npz', './data/computer.npz', './data/cookie.npz', './data/cooler.npz', './data/couch.npz', './data/cow.npz', './data/crab.npz', './data/crayon.npz', './data/crocodile.npz', './data/crown.npz', './data/cruise ship.npz', './data/cup.npz', './data/diamond.npz', './data/dishwasher.npz', './data/diving board.npz', './data/dog.npz', './data/dolphin.npz', './data/donut.npz', './data/door.npz', './data/dragon.npz', './data/dresser.npz', './data/drill.npz', './data/drums.npz', './data/duck.npz', './data/dumbbell.npz', './data/ear.npz', './data/elbow.npz', './data/elephant.npz', './data/envelope.npz', './data/eraser.npz', './data/eye.npz', './data/eyeglasses.npz', './data/face.npz', './data/fan.npz', './data/feather.npz', './data/fence.npz', './data/finger.npz', './data/fire hydrant.npz', './data/fireplace.npz', './data/firetruck.npz', './data/fish.npz', './data/flamingo.npz', './data/flashlight.npz', './data/flip flops.npz', './data/floor lamp.npz', './data/flower.npz', './data/flying saucer.npz', './data/foot.npz', './data/fork.npz', './data/frog.npz', './data/frying pan.npz', './data/garden hose.npz', './data/garden.npz', './data/giraffe.npz', './data/goatee.npz', './data/golf club.npz', './data/grapes.npz', './data/grass.npz', './data/guitar.npz', './data/hamburger.npz', './data/hammer.npz', './data/hand.npz', './data/harp.npz', './data/hat.npz', './data/headphones.npz', './data/hedgehog.npz', './data/helicopter.npz', './data/helmet.npz', './data/hexagon.npz', './data/hockey puck.npz', './data/hockey stick.npz', './data/horse.npz', './data/hospital.npz', './data/hot air balloon.npz', './data/hot dog.npz', './data/hot tub.npz', './data/hourglass.npz', './data/house plant.npz', './data/house.npz', './data/hurricane.npz', './data/ice cream.npz', './data/jacket.npz', './data/jail.npz', './data/kangaroo.npz', './data/key.npz', './data/keyboard.npz', './data/knee.npz', './data/knife.npz', './data/ladder.npz', './data/lantern.npz', './data/laptop.npz', './data/leaf.npz', './data/leg.npz', './data/light bulb.npz', './data/lighter.npz', './data/lighthouse.npz', './data/lightning.npz', './data/line.npz', './data/lion.npz', './data/lipstick.npz', './data/lobster.npz', './data/lollipop.npz', './data/mailbox.npz', './data/map.npz', './data/marker.npz', './data/matches.npz', './data/megaphone.npz', './data/mermaid.npz', './data/microphone.npz', './data/microwave.npz', './data/monkey.npz', './data/moon.npz', './data/mosquito.npz', './data/motorbike.npz', './data/mountain.npz', './data/mouse.npz', './data/moustache.npz', './data/mouth.npz', './data/mug.npz', './data/mushroom.npz', './data/nail.npz', './data/necklace.npz', './data/nose.npz', './data/ocean.npz', './data/octagon.npz', './data/octopus.npz', './data/onion.npz', './data/oven.npz', './data/owl.npz', './data/paint can.npz', './data/paintbrush.npz', './data/palm tree.npz', './data/panda.npz', './data/pants.npz', './data/paper clip.npz', './data/parachute.npz', './data/parrot.npz', './data/passport.npz', './data/peanut.npz', './data/pear.npz', './data/peas.npz', './data/pencil.npz', './data/penguin.npz', './data/piano.npz', './data/pickup truck.npz', './data/picture frame.npz', './data/pig.npz', './data/pillow.npz', './data/pineapple.npz', './data/pizza.npz', './data/pliers.npz', './data/police car.npz', './data/pond.npz', './data/pool.npz', './data/popsicle.npz', './data/postcard.npz', './data/potato.npz', './data/power outlet.npz', './data/purse.npz', './data/rabbit.npz', './data/raccoon.npz', './data/radio.npz', './data/rain.npz', './data/rainbow.npz', './data/rake.npz', './data/remote control.npz', './data/rhinoceros.npz', './data/rifle.npz', './data/river.npz', './data/roller coaster.npz', './data/rollerskates.npz', './data/sailboat.npz', './data/sandwich.npz', './data/saw.npz', './data/saxophone.npz', './data/school bus.npz', './data/scissors.npz', './data/scorpion.npz', './data/screwdriver.npz', './data/sea turtle.npz', './data/see saw.npz', './data/shark.npz', './data/sheep.npz', './data/shoe.npz', './data/shorts.npz', './data/shovel.npz', './data/sink.npz', './data/skateboard.npz', './data/skull.npz', './data/skyscraper.npz', './data/sleeping bag.npz', './data/smiley face.npz', './data/snail.npz', './data/snake.npz', './data/snorkel.npz', './data/snowflake.npz', './data/snowman.npz', './data/soccer ball.npz', './data/sock.npz', './data/speedboat.npz', './data/spider.npz', './data/spoon.npz', './data/spreadsheet.npz', './data/square.npz', './data/squiggle.npz', './data/squirrel.npz', './data/stairs.npz', './data/star.npz', './data/steak.npz', './data/stereo.npz', './data/stethoscope.npz', './data/stitches.npz', './data/stop sign.npz', './data/stove.npz', './data/strawberry.npz', './data/streetlight.npz', './data/string bean.npz', './data/submarine.npz', './data/suitcase.npz', './data/sun.npz', './data/swan.npz', './data/sweater.npz', './data/swing set.npz', './data/sword.npz', './data/syringe.npz', './data/t-shirt.npz', './data/table.npz', './data/teapot.npz', './data/teddy-bear.npz', './data/telephone.npz', './data/television.npz', './data/tennis racquet.npz', './data/tent.npz', './data/tiger.npz', './data/toaster.npz', './data/toe.npz', './data/toilet.npz', './data/tooth.npz', './data/toothbrush.npz', './data/toothpaste.npz', './data/tornado.npz', './data/tractor.npz', './data/traffic light.npz', './data/train.npz', './data/tree.npz', './data/triangle.npz', './data/trombone.npz', './data/truck.npz', './data/trumpet.npz', './data/umbrella.npz', './data/underwear.npz', './data/van.npz', './data/vase.npz', './data/violin.npz', './data/washing machine.npz', './data/watermelon.npz', './data/waterslide.npz', './data/whale.npz', './data/wheel.npz', './data/windmill.npz', './data/wine bottle.npz', './data/wine glass.npz', './data/wristwatch.npz', './data/yoga.npz', './data/zebra.npz', './data/zigzag.npz']\n"
     ]
    },
    {
     "name": "stderr",
     "output_type": "stream",
     "text": [
      "  0%|          | 1/345 [00:00<00:05, 66.78it/s]\n"
     ]
    }
   ],
   "source": [
    "batch_size = 512\n",
    "max_length = 100\n",
    "\n",
    "train_dataset = DrawingDataset(data_path=\"./data\", split=\"train\", max_length=max_length)\n",
    "val_dataset = DrawingDataset(data_path=\"./data\", split=\"valid\", max_length=max_length)\n",
    "test_dataset = DrawingDataset(data_path=\"./data\", split=\"test\", max_length=max_length)\n",
    "\n",
    "train = DataLoader(dataset=train_dataset, batch_size=batch_size, shuffle=True)\n",
    "val = DataLoader(dataset=val_dataset, batch_size=batch_size, shuffle=True)\n",
    "test = DataLoader(dataset=test_dataset, batch_size=batch_size, shuffle=True)"
   ]
  },
  {
   "cell_type": "code",
   "execution_count": 4,
   "metadata": {},
   "outputs": [
    {
     "name": "stdout",
     "output_type": "stream",
     "text": [
      "(373, 166)\n",
      "(324, 220)\n",
      "(173, 67)\n",
      "(299, 102)\n",
      "(443, 154)\n",
      "(183, 79)\n",
      "(341, 187)\n",
      "(314, 220)\n",
      "(310, 172)\n",
      "(387, 231)\n",
      "(190, 153)\n",
      "(314, 186)\n",
      "(259, 135)\n",
      "(249, 122)\n",
      "(238, 154)\n",
      "(351, 134)\n",
      "(478, 151)\n",
      "(425, 197)\n",
      "(179, 122)\n",
      "(204, 240)\n",
      "(265, 151)\n",
      "(286, 127)\n",
      "(139, 156)\n",
      "(248, 141)\n",
      "(109, 265)\n"
     ]
    }
   ],
   "source": [
    "def get_drawing_size(drawing):\n",
    "    minx, miny = 0, 0\n",
    "    maxx, maxy = 0, 0\n",
    "    for stroke in drawing:\n",
    "        minx = min(minx, stroke[0])\n",
    "        miny = min(miny, stroke[1])\n",
    "        maxx = max(maxx, stroke[0])\n",
    "        maxy = max(maxy, stroke[1])\n",
    "    return int(maxx - minx), int(maxy - miny)\n",
    "for i in range(25):\n",
    "    print(get_drawing_size(train_dataset[1000+i][0]))\n",
    "# print(len(train_dataset[1]))"
   ]
  },
  {
   "cell_type": "code",
   "execution_count": 5,
   "metadata": {},
   "outputs": [],
   "source": [
    "# class mambaBlock(nn.Module):\n",
    "#     def __init__(self, d_model, d_state, d_conv, expand, n_layers):\n",
    "#         super(mambaBlock, self).__init__()\n",
    "#         self.d_model = d_model\n",
    "#         self.d_state = d_state\n",
    "#         self.d_conv = d_conv\n",
    "#         self.expand = expand\n",
    "#         self.n_layers = n_layers\n",
    "#         self.layers = []\n",
    "\n",
    "#         self.layers = nn.ModuleList([Mamba(d_model, d_state, d_conv, expand) for _ in range(n_layers)])\n",
    "\n",
    "#     def forward(self, x):\n",
    "#         for layer in self.layers:\n",
    "#             x = layer(x)\n",
    "#         return x\n",
    "\n",
    "# class customModel(nn.Module):\n",
    "#     def __init__(self, nb, no, ns, embed_dim):\n",
    "#         super(customModel, self).__init__()\n",
    "        \n",
    "#         self.embed_dim = embed_dim\n",
    "#         self.proj = nn.Linear(in_features=5, out_features=self.embed_dim, bias=False)\n",
    "        \n",
    "#         self.m1 = nn.ModuleList([create_block(self.embed_dim , device='cuda', layer_idx=f'm{i}') for i in range(nb)])\n",
    "#         self.leftm = nn.ModuleList([create_block(self.embed_dim , device='cuda', layer_idx=f'l{i}') for i in range(no)])\n",
    "#         self.rightm = nn.ModuleList([create_block(self.embed_dim , device='cuda', layer_idx=f'r{i}') for i in range(ns)])\n",
    "        \n",
    "#         self.offset_hidden = nn.Linear(in_features=self.embed_dim, out_features=16)\n",
    "#         self.relu = nn.ReLU()\n",
    "#         self.offset_out = nn.Linear(in_features=16, out_features=2)\n",
    "#         self.state_out = nn.Linear(in_features=self.embed_dim, out_features=3, bias=False)\n",
    "        \n",
    "#         initializer_cfg = None\n",
    "#         for layer in self.m1:\n",
    "#             layer.apply(partial(_init_weights, n_layer=nb, **(initializer_cfg if initializer_cfg is not None else {})))\n",
    "#         for layer in self.leftm:\n",
    "#             layer.apply(partial(_init_weights, n_layer=no, **(initializer_cfg if initializer_cfg is not None else {})))\n",
    "#         for layer in self.rightm:\n",
    "#             layer.apply(partial(_init_weights, n_layer=ns, **(initializer_cfg if initializer_cfg is not None else {})))\n",
    "        \n",
    "            \n",
    "\n",
    "#     def forward(self, x): # x is of shape (B, L, 5) (Batchsize, sequence length, dimension)\n",
    "#         x = self.proj(x)\n",
    "#         hidden_states, residuals = x, None\n",
    "#         for layer in self.m1:\n",
    "#             hidden_states, residuals = layer(hidden_states, residuals)\n",
    "        \n",
    "#         left_hidden_states, left_residuals = hidden_states, residuals\n",
    "#         right_hidden_states, right_residuals = hidden_states, residuals\n",
    "\n",
    "#         for layer in self.leftm:\n",
    "#             left_hidden_states, left_residuals = layer(left_hidden_states, left_residuals)\n",
    "#         for layer in self.rightm:\n",
    "#             right_hidden_states, right_residuals = layer(right_hidden_states, right_residuals)\n",
    "        \n",
    "#         offset_out = self.relu(self.offset_hidden(left_hidden_states))\n",
    "#         offset_out = self.offset_out(offset_out)\n",
    "#         state_out = self.state_out(right_hidden_states)\n",
    "#         return offset_out, state_out\n",
    "\n",
    "#     @torch.inference_mode()\n",
    "#     def generate(model, input_seq):\n",
    "#         prev = input_seq\n",
    "        \n",
    "#         i = 0\n",
    "#         while i < 20:\n",
    "#             offset, state = model.forward(prev)\n",
    "#             indices = torch.argmax(state, dim=-1)\n",
    "#             one_hot = torch.nn.functional.one_hot(indices, 3)\n",
    "#             pred = torch.cat((offset, one_hot), dim=-1)\n",
    "#             next_seg = pred[:, -1:, :]\n",
    "#             prev = torch.cat((prev, next_seg), dim=1)\n",
    "#             i += 1\n",
    "        \n",
    "#         return prev\n",
    "\n",
    "#     def save(self, path):\n",
    "#         torch.save(self.state_dict(), path)\n",
    "    \n",
    "#     def load(self, path):\n",
    "#         self.load_state_dict(torch.load(path))"
   ]
  },
  {
   "cell_type": "code",
   "execution_count": 11,
   "metadata": {},
   "outputs": [
    {
     "name": "stdout",
     "output_type": "stream",
     "text": [
      "0.014426714154678916\n"
     ]
    }
   ],
   "source": [
    "log_interval = 10\n",
    "epochs = 50\n",
    "\n",
    "batches = len(train)\n",
    "\n",
    "model = customModel(nb=3, no=20, ns=2, embed_dim=32).to(\"cuda\")\n",
    "\n",
    "offset_crit = nn.MSELoss(reduction='none')\n",
    "state_crit = nn.CrossEntropyLoss()\n",
    "\n",
    "#optimizer = torch.optim.RAdam(model.parameters(), lr=5e-4)\n",
    "warmup_ratio = 0.03\n",
    "\n",
    "print(0.05 * math.sqrt(batch_size / (batches * epochs)))\n",
    "optimizer = torch.optim.AdamW(model.parameters(), \n",
    "                              lr=1e-3, betas=(0.99, 0.95), eps=1e-4,\n",
    "                              weight_decay=0.05 * math.sqrt(batch_size / (batches * epochs)))   \n",
    "# scheduler = get_cosine_schedule_with_warmup(optimizer, \n",
    "#                                             num_warmup_steps=batches * warmup_ratio,\n",
    "#                                             num_training_steps=batches)\n",
    "\n",
    "writer = SummaryWriter('./logs')\n",
    "\n",
    "def train_model(model, data_loader, optimizer, epoch):\n",
    "    model.train()\n",
    "    \n",
    "    size = len(data_loader)\n",
    "    \n",
    "    # Total Losses\n",
    "    total_loss = 0\n",
    "    total_offset_loss = 0\n",
    "    total_state_loss = 0\n",
    "    \n",
    "    # Running Losses\n",
    "    running_loss = 0\n",
    "    running_offset_loss = 0\n",
    "    running_state_loss = 0\n",
    "    \n",
    "    running_correct = 0\n",
    "    running_total = 0\n",
    "    \n",
    "    running_mse = 0\n",
    "    \n",
    "    start_time = time.time()\n",
    "    \n",
    "    for i, data in enumerate(tqdm(data_loader)):\n",
    "        optimizer.zero_grad()\n",
    "        \n",
    "        inputs, targets = data\n",
    "        inputs = inputs.to(\"cuda\")\n",
    "        targets = targets.to(\"cuda\")\n",
    "        \n",
    "        offsets, states = model(inputs)\n",
    "        \n",
    "        # Split Target\n",
    "        offset_target = targets[:, :, :2]\n",
    "        state_target = targets[:, :, 2:].argmax(dim=-1)\n",
    "        no_pad_mask = state_target != 2\n",
    "        \n",
    "        # Masked MSE Loss for offset\n",
    "        offset_loss = offset_crit(offsets, offset_target)\n",
    "        offset_loss_mask = offset_loss * no_pad_mask.unsqueeze(-1).float()\n",
    "        \n",
    "        offset_loss = offset_loss_mask.sum() / no_pad_mask.sum()\n",
    "        \n",
    "        # Cross Entropy Loss for State\n",
    "        state_loss = state_crit(states.transpose(1, 2), state_target)\n",
    "        loss = offset_loss + state_loss\n",
    "        \n",
    "        # Calculate other metrics (accuracy)\n",
    "        with torch.no_grad():\n",
    "            states_softmax = torch.nn.functional.softmax(states, dim=-1)\n",
    "            states_pred = states_softmax.argmax(dim=-1)\n",
    "            \n",
    "            no_pad_mask = state_target.flatten() != 2\n",
    "\n",
    "            running_correct += (states_pred.flatten()[no_pad_mask] == state_target.flatten()[no_pad_mask]).sum().item()\n",
    "            running_total += states_pred.flatten()[no_pad_mask].size().numel()\n",
    "            \n",
    "            flat_offsets_pred = offsets.reshape(-1, 2)[no_pad_mask, :]\n",
    "            flat_offset_target = targets[:, :, :2].reshape(-1, 2)[no_pad_mask, :]\n",
    "            running_mse += nn.functional.mse_loss(flat_offsets_pred, flat_offset_target)\n",
    "        \n",
    "        # Backprop\n",
    "        loss.backward(retain_graph=True)\n",
    "        \n",
    "        # Gradient Clipping\n",
    "        for name, param in model.named_parameters():\n",
    "            torch.nn.utils.clip_grad_norm_(param, max_norm=1.5)\n",
    "        \n",
    "        # Optimizer Steps\n",
    "        optimizer.step()\n",
    "        \n",
    "        running_loss += loss.item()\n",
    "        running_offset_loss += offset_loss.item()\n",
    "        running_state_loss += state_loss.item()\n",
    "        \n",
    "        total_loss += loss.item()\n",
    "        total_offset_loss += offset_loss.item()\n",
    "        total_state_loss += state_loss.item()\n",
    "        \n",
    "        # Print speed, losses, and accuracy every 25 batchs\n",
    "        if i % log_interval == 0 and i > 0:\n",
    "            ms_per_batch = (time.time() - start_time) * 1000 / log_interval\n",
    "            cur_loss = running_loss / log_interval\n",
    "            cur_offset_loss = running_offset_loss / log_interval\n",
    "            cur_state_loss = running_state_loss / log_interval\n",
    "            cur_accuracy = running_correct / running_total\n",
    "            cur_mse = running_mse / log_interval\n",
    "            tqdm.write(f'{prefix}| epoch {(epoch+1):3d} | {i:5d}/{size:5d} batches '\n",
    "                  f'| ms/batch {ms_per_batch:5.2f} | '\n",
    "                  f'offset_loss {cur_offset_loss:5.2f} | state_loss {cur_state_loss:5.4f} | '\n",
    "                  f'accuracy {cur_accuracy:5.4f} | mse {cur_mse:5.2f}')\n",
    "            time.sleep(0)\n",
    "            running_loss = 0\n",
    "            running_offset_loss = 0\n",
    "            running_state_loss = 0\n",
    "            running_correct = 0\n",
    "            running_total = 0\n",
    "            running_mse = 0\n",
    "            start_time = time.time()\n",
    "    \n",
    "    return total_loss / size, total_offset_loss / size, total_state_loss / size\n",
    "        \n",
    "def evaluate_model(model, data_loader):\n",
    "    model.eval()\n",
    "    size = len(data_loader)\n",
    "    \n",
    "    # Running Losses\n",
    "    running_loss = 0\n",
    "    running_offset_loss = 0\n",
    "    running_state_loss = 0\n",
    "    \n",
    "    # Correct\n",
    "    correct = 0\n",
    "    total_samples = 0\n",
    "    \n",
    "    with torch.no_grad():\n",
    "        for data in tqdm(data_loader):\n",
    "            inputs, targets = data\n",
    "            inputs = inputs.to(\"cuda\")\n",
    "            targets = targets.to(\"cuda\")\n",
    "            \n",
    "            offsets, states = model(inputs)\n",
    "            \n",
    "            # Masked MSE Loss\n",
    "            offset_target = targets[:, :, :2]\n",
    "            state_target = targets[:, :, 2:].argmax(dim=-1)\n",
    "            no_pad_mask = state_target != 2\n",
    "            \n",
    "            offset_loss = offset_crit(offsets, offset_target)\n",
    "            offset_loss_mask = offset_loss * no_pad_mask.unsqueeze(-1).float()\n",
    "            offset_loss = offset_loss_mask.sum() / no_pad_mask.sum()\n",
    "            \n",
    "            state_loss = state_crit(states.transpose(1, 2), state_target)\n",
    "            loss = offset_loss + state_loss\n",
    "            \n",
    "            # Accuracy Calculation\n",
    "            states_softmax = torch.nn.functional.softmax(states, dim=-1)\n",
    "            states_pred = states_softmax.argmax(dim=-1)\n",
    "            \n",
    "            no_pad_mask = no_pad_mask.flatten()\n",
    "            \n",
    "            correct += (states_pred.flatten()[no_pad_mask] == state_target.flatten()[no_pad_mask]).sum().item()\n",
    "            total_samples += states_pred.flatten()[no_pad_mask].size().numel()\n",
    "            \n",
    "            running_loss += loss.item()\n",
    "            running_offset_loss += offset_loss.item()\n",
    "            running_state_loss += state_loss.item()\n",
    "    \n",
    "    return running_loss / size, running_offset_loss / size, running_state_loss / size, correct / total_samples\n",
    "            \n"
   ]
  },
  {
   "cell_type": "code",
   "execution_count": 7,
   "metadata": {},
   "outputs": [
    {
     "name": "stderr",
     "output_type": "stream",
     "text": [
      "  0%|          | 0/123 [00:00<?, ?it/s]"
     ]
    },
    {
     "name": "stderr",
     "output_type": "stream",
     "text": [
      "  9%|▉         | 11/123 [00:12<02:07,  1.14s/it]"
     ]
    },
    {
     "name": "stdout",
     "output_type": "stream",
     "text": [
      "| epoch   1 |    10/  123 batches | ms/batch 1283.82 | offset_loss 3858.65 | state_loss 1.1774 | accuracy 0.5716 | mse 1929.33\n"
     ]
    },
    {
     "name": "stderr",
     "output_type": "stream",
     "text": [
      " 17%|█▋        | 21/123 [00:26<02:20,  1.38s/it]"
     ]
    },
    {
     "name": "stdout",
     "output_type": "stream",
     "text": [
      "| epoch   1 |    20/  123 batches | ms/batch 1321.61 | offset_loss 3473.73 | state_loss 0.9734 | accuracy 0.7758 | mse 1736.87\n"
     ]
    },
    {
     "name": "stderr",
     "output_type": "stream",
     "text": [
      " 25%|██▌       | 31/123 [00:40<02:07,  1.39s/it]"
     ]
    },
    {
     "name": "stdout",
     "output_type": "stream",
     "text": [
      "| epoch   1 |    30/  123 batches | ms/batch 1444.73 | offset_loss 3520.33 | state_loss 0.8298 | accuracy 0.8286 | mse 1760.17\n"
     ]
    },
    {
     "name": "stderr",
     "output_type": "stream",
     "text": [
      " 33%|███▎      | 41/123 [00:53<01:48,  1.32s/it]"
     ]
    },
    {
     "name": "stdout",
     "output_type": "stream",
     "text": [
      "| epoch   1 |    40/  123 batches | ms/batch 1348.39 | offset_loss 3528.92 | state_loss 0.6731 | accuracy 0.8319 | mse 1764.46\n"
     ]
    },
    {
     "name": "stderr",
     "output_type": "stream",
     "text": [
      " 41%|████▏     | 51/123 [01:22<03:27,  2.89s/it]"
     ]
    },
    {
     "name": "stdout",
     "output_type": "stream",
     "text": [
      "| epoch   1 |    50/  123 batches | ms/batch 2880.52 | offset_loss 3511.27 | state_loss 0.5444 | accuracy 0.8361 | mse 1755.63\n"
     ]
    },
    {
     "name": "stderr",
     "output_type": "stream",
     "text": [
      " 50%|████▉     | 61/123 [01:40<01:52,  1.81s/it]"
     ]
    },
    {
     "name": "stdout",
     "output_type": "stream",
     "text": [
      "| epoch   1 |    60/  123 batches | ms/batch 1798.63 | offset_loss 3474.60 | state_loss 0.4473 | accuracy 0.8401 | mse 1737.30\n"
     ]
    },
    {
     "name": "stderr",
     "output_type": "stream",
     "text": [
      " 58%|█████▊    | 71/123 [02:16<04:28,  5.16s/it]"
     ]
    },
    {
     "name": "stdout",
     "output_type": "stream",
     "text": [
      "| epoch   1 |    70/  123 batches | ms/batch 3585.35 | offset_loss 3452.94 | state_loss 0.3980 | accuracy 0.8439 | mse 1726.47\n"
     ]
    },
    {
     "name": "stderr",
     "output_type": "stream",
     "text": [
      " 66%|██████▌   | 81/123 [02:53<01:22,  1.96s/it]"
     ]
    },
    {
     "name": "stdout",
     "output_type": "stream",
     "text": [
      "| epoch   1 |    80/  123 batches | ms/batch 3635.43 | offset_loss 3369.52 | state_loss 0.4166 | accuracy 0.8479 | mse 1684.76\n"
     ]
    },
    {
     "name": "stderr",
     "output_type": "stream",
     "text": [
      " 74%|███████▍  | 91/123 [03:04<00:37,  1.16s/it]"
     ]
    },
    {
     "name": "stdout",
     "output_type": "stream",
     "text": [
      "| epoch   1 |    90/  123 batches | ms/batch 1126.42 | offset_loss 3442.34 | state_loss 0.4351 | accuracy 0.8508 | mse 1721.17\n"
     ]
    },
    {
     "name": "stderr",
     "output_type": "stream",
     "text": [
      " 82%|████████▏ | 101/123 [03:29<00:54,  2.48s/it]"
     ]
    },
    {
     "name": "stdout",
     "output_type": "stream",
     "text": [
      "| epoch   1 |   100/  123 batches | ms/batch 2539.32 | offset_loss 3527.40 | state_loss 0.4131 | accuracy 0.8513 | mse 1763.70\n"
     ]
    },
    {
     "name": "stderr",
     "output_type": "stream",
     "text": [
      " 90%|█████████ | 111/123 [03:40<00:15,  1.26s/it]"
     ]
    },
    {
     "name": "stdout",
     "output_type": "stream",
     "text": [
      "| epoch   1 |   110/  123 batches | ms/batch 1130.04 | offset_loss 3463.26 | state_loss 0.3746 | accuracy 0.8512 | mse 1731.63\n"
     ]
    },
    {
     "name": "stderr",
     "output_type": "stream",
     "text": [
      " 98%|█████████▊| 121/123 [03:54<00:03,  1.52s/it]"
     ]
    },
    {
     "name": "stdout",
     "output_type": "stream",
     "text": [
      "| epoch   1 |   120/  123 batches | ms/batch 1389.21 | offset_loss 3461.48 | state_loss 0.3386 | accuracy 0.8524 | mse 1730.74\n"
     ]
    },
    {
     "name": "stderr",
     "output_type": "stream",
     "text": [
      "100%|██████████| 123/123 [03:58<00:00,  1.94s/it]\n"
     ]
    },
    {
     "name": "stdout",
     "output_type": "stream",
     "text": [
      "Training: Epoch: 1, offset_loss: 3475.6593, state_loss: 0.5761\n"
     ]
    },
    {
     "name": "stderr",
     "output_type": "stream",
     "text": [
      "100%|██████████| 5/5 [00:00<00:00,  5.77it/s]\n"
     ]
    },
    {
     "name": "stdout",
     "output_type": "stream",
     "text": [
      "Validation: Epoch: 1, offset_loss: 3399.97, state_loss: 0.3282, accuracy: 0.8523\n"
     ]
    },
    {
     "name": "stderr",
     "output_type": "stream",
     "text": [
      "  1%|          | 1/123 [00:08<18:05,  8.90s/it]\n"
     ]
    },
    {
     "ename": "KeyboardInterrupt",
     "evalue": "",
     "output_type": "error",
     "traceback": [
      "\u001b[0;31m---------------------------------------------------------------------------\u001b[0m",
      "\u001b[0;31mKeyboardInterrupt\u001b[0m                         Traceback (most recent call last)",
      "Cell \u001b[0;32mIn[7], line 3\u001b[0m\n\u001b[1;32m      1\u001b[0m torch\u001b[38;5;241m.\u001b[39mautograd\u001b[38;5;241m.\u001b[39mset_detect_anomaly(\u001b[38;5;28;01mTrue\u001b[39;00m)\n\u001b[1;32m      2\u001b[0m \u001b[38;5;28;01mfor\u001b[39;00m epoch \u001b[38;5;129;01min\u001b[39;00m \u001b[38;5;28mrange\u001b[39m(epochs):\n\u001b[0;32m----> 3\u001b[0m     train_loss, train_offset_loss, train_state_loss \u001b[38;5;241m=\u001b[39m \u001b[43mtrain_model\u001b[49m\u001b[43m(\u001b[49m\u001b[43mmodel\u001b[49m\u001b[43m,\u001b[49m\u001b[43m \u001b[49m\u001b[43mtrain\u001b[49m\u001b[43m,\u001b[49m\u001b[43m \u001b[49m\u001b[43moptimizer\u001b[49m\u001b[43m,\u001b[49m\u001b[43m \u001b[49m\u001b[43mepoch\u001b[49m\u001b[43m)\u001b[49m\n\u001b[1;32m      4\u001b[0m     \u001b[38;5;28mprint\u001b[39m(\u001b[38;5;124mf\u001b[39m\u001b[38;5;124m\"\u001b[39m\u001b[38;5;124mTraining: Epoch: \u001b[39m\u001b[38;5;132;01m{\u001b[39;00mepoch\u001b[38;5;241m+\u001b[39m\u001b[38;5;241m1\u001b[39m\u001b[38;5;132;01m}\u001b[39;00m\u001b[38;5;124m, offset_loss: \u001b[39m\u001b[38;5;132;01m{\u001b[39;00mtrain_offset_loss\u001b[38;5;132;01m:\u001b[39;00m\u001b[38;5;124m5.4f\u001b[39m\u001b[38;5;132;01m}\u001b[39;00m\u001b[38;5;124m, state_loss: \u001b[39m\u001b[38;5;132;01m{\u001b[39;00mtrain_state_loss\u001b[38;5;132;01m:\u001b[39;00m\u001b[38;5;124m5.4f\u001b[39m\u001b[38;5;132;01m}\u001b[39;00m\u001b[38;5;124m\"\u001b[39m)\n\u001b[1;32m      5\u001b[0m     writer\u001b[38;5;241m.\u001b[39madd_scalar(\u001b[38;5;124m\"\u001b[39m\u001b[38;5;124mTrain/Loss/Epoch\u001b[39m\u001b[38;5;124m\"\u001b[39m, train_loss, epoch)\n",
      "Cell \u001b[0;32mIn[6], line 85\u001b[0m, in \u001b[0;36mtrain_model\u001b[0;34m(model, data_loader, optimizer, epoch)\u001b[0m\n\u001b[1;32m     82\u001b[0m     running_mse \u001b[38;5;241m+\u001b[39m\u001b[38;5;241m=\u001b[39m nn\u001b[38;5;241m.\u001b[39mfunctional\u001b[38;5;241m.\u001b[39mmse_loss(flat_offsets_pred, flat_offset_target)\n\u001b[1;32m     84\u001b[0m \u001b[38;5;66;03m# Backprop\u001b[39;00m\n\u001b[0;32m---> 85\u001b[0m \u001b[43mloss\u001b[49m\u001b[38;5;241;43m.\u001b[39;49m\u001b[43mbackward\u001b[49m\u001b[43m(\u001b[49m\u001b[43mretain_graph\u001b[49m\u001b[38;5;241;43m=\u001b[39;49m\u001b[38;5;28;43;01mTrue\u001b[39;49;00m\u001b[43m)\u001b[49m\n\u001b[1;32m     87\u001b[0m \u001b[38;5;66;03m# Gradient Clipping\u001b[39;00m\n\u001b[1;32m     88\u001b[0m \u001b[38;5;28;01mfor\u001b[39;00m name, param \u001b[38;5;129;01min\u001b[39;00m model\u001b[38;5;241m.\u001b[39mnamed_parameters():\n",
      "File \u001b[0;32m~/miniconda3/envs/drawenv/lib/python3.11/site-packages/torch/_tensor.py:522\u001b[0m, in \u001b[0;36mTensor.backward\u001b[0;34m(self, gradient, retain_graph, create_graph, inputs)\u001b[0m\n\u001b[1;32m    512\u001b[0m \u001b[38;5;28;01mif\u001b[39;00m has_torch_function_unary(\u001b[38;5;28mself\u001b[39m):\n\u001b[1;32m    513\u001b[0m     \u001b[38;5;28;01mreturn\u001b[39;00m handle_torch_function(\n\u001b[1;32m    514\u001b[0m         Tensor\u001b[38;5;241m.\u001b[39mbackward,\n\u001b[1;32m    515\u001b[0m         (\u001b[38;5;28mself\u001b[39m,),\n\u001b[0;32m   (...)\u001b[0m\n\u001b[1;32m    520\u001b[0m         inputs\u001b[38;5;241m=\u001b[39minputs,\n\u001b[1;32m    521\u001b[0m     )\n\u001b[0;32m--> 522\u001b[0m \u001b[43mtorch\u001b[49m\u001b[38;5;241;43m.\u001b[39;49m\u001b[43mautograd\u001b[49m\u001b[38;5;241;43m.\u001b[39;49m\u001b[43mbackward\u001b[49m\u001b[43m(\u001b[49m\n\u001b[1;32m    523\u001b[0m \u001b[43m    \u001b[49m\u001b[38;5;28;43mself\u001b[39;49m\u001b[43m,\u001b[49m\u001b[43m \u001b[49m\u001b[43mgradient\u001b[49m\u001b[43m,\u001b[49m\u001b[43m \u001b[49m\u001b[43mretain_graph\u001b[49m\u001b[43m,\u001b[49m\u001b[43m \u001b[49m\u001b[43mcreate_graph\u001b[49m\u001b[43m,\u001b[49m\u001b[43m \u001b[49m\u001b[43minputs\u001b[49m\u001b[38;5;241;43m=\u001b[39;49m\u001b[43minputs\u001b[49m\n\u001b[1;32m    524\u001b[0m \u001b[43m\u001b[49m\u001b[43m)\u001b[49m\n",
      "File \u001b[0;32m~/miniconda3/envs/drawenv/lib/python3.11/site-packages/torch/autograd/__init__.py:266\u001b[0m, in \u001b[0;36mbackward\u001b[0;34m(tensors, grad_tensors, retain_graph, create_graph, grad_variables, inputs)\u001b[0m\n\u001b[1;32m    261\u001b[0m     retain_graph \u001b[38;5;241m=\u001b[39m create_graph\n\u001b[1;32m    263\u001b[0m \u001b[38;5;66;03m# The reason we repeat the same comment below is that\u001b[39;00m\n\u001b[1;32m    264\u001b[0m \u001b[38;5;66;03m# some Python versions print out the first line of a multi-line function\u001b[39;00m\n\u001b[1;32m    265\u001b[0m \u001b[38;5;66;03m# calls in the traceback and some print out the last line\u001b[39;00m\n\u001b[0;32m--> 266\u001b[0m \u001b[43mVariable\u001b[49m\u001b[38;5;241;43m.\u001b[39;49m\u001b[43m_execution_engine\u001b[49m\u001b[38;5;241;43m.\u001b[39;49m\u001b[43mrun_backward\u001b[49m\u001b[43m(\u001b[49m\u001b[43m  \u001b[49m\u001b[38;5;66;43;03m# Calls into the C++ engine to run the backward pass\u001b[39;49;00m\n\u001b[1;32m    267\u001b[0m \u001b[43m    \u001b[49m\u001b[43mtensors\u001b[49m\u001b[43m,\u001b[49m\n\u001b[1;32m    268\u001b[0m \u001b[43m    \u001b[49m\u001b[43mgrad_tensors_\u001b[49m\u001b[43m,\u001b[49m\n\u001b[1;32m    269\u001b[0m \u001b[43m    \u001b[49m\u001b[43mretain_graph\u001b[49m\u001b[43m,\u001b[49m\n\u001b[1;32m    270\u001b[0m \u001b[43m    \u001b[49m\u001b[43mcreate_graph\u001b[49m\u001b[43m,\u001b[49m\n\u001b[1;32m    271\u001b[0m \u001b[43m    \u001b[49m\u001b[43minputs\u001b[49m\u001b[43m,\u001b[49m\n\u001b[1;32m    272\u001b[0m \u001b[43m    \u001b[49m\u001b[43mallow_unreachable\u001b[49m\u001b[38;5;241;43m=\u001b[39;49m\u001b[38;5;28;43;01mTrue\u001b[39;49;00m\u001b[43m,\u001b[49m\n\u001b[1;32m    273\u001b[0m \u001b[43m    \u001b[49m\u001b[43maccumulate_grad\u001b[49m\u001b[38;5;241;43m=\u001b[39;49m\u001b[38;5;28;43;01mTrue\u001b[39;49;00m\u001b[43m,\u001b[49m\n\u001b[1;32m    274\u001b[0m \u001b[43m\u001b[49m\u001b[43m)\u001b[49m\n",
      "\u001b[0;31mKeyboardInterrupt\u001b[0m: "
     ]
    }
   ],
   "source": [
    "torch.autograd.set_detect_anomaly(True)\n",
    "for epoch in range(epochs):\n",
    "    train_loss, train_offset_loss, train_state_loss = train_model(model, train, optimizer, epoch)\n",
    "    print(f\"Training: Epoch: {epoch+1}, offset_loss: {train_offset_loss:5.4f}, state_loss: {train_state_loss:5.4f}\")\n",
    "    writer.add_scalar(\"Train/Loss/Epoch\", train_loss, epoch)\n",
    "    writer.add_scalar(\"Train/Offset_Loss/Epoch\", train_offset_loss, epoch)\n",
    "    writer.add_scalar(\"Train/State_Loss/Epoch\", train_state_loss, epoch)\n",
    "    \n",
    "    val_loss, val_offset_loss, val_state_loss, val_accuracy = evaluate_model(model, val)\n",
    "    print(f\"Validation: Epoch: {epoch+1}, offset_loss: {val_offset_loss:5.2f}, state_loss: {val_state_loss:5.4f}, accuracy: {val_accuracy:5.4f}\")\n",
    "    writer.add_scalar(\"Train/Loss/Epoch\", val_loss, epoch)\n",
    "    writer.add_scalar(\"Train/Offset_Loss/Epoch\", val_offset_loss, epoch)\n",
    "    writer.add_scalar(\"Train/State_Loss/Epoch\", val_state_loss, epoch)\n",
    "    \n",
    "    #scheduler.step()"
   ]
  },
  {
   "cell_type": "code",
   "execution_count": 8,
   "metadata": {},
   "outputs": [
    {
     "name": "stderr",
     "output_type": "stream",
     "text": [
      "100%|██████████| 5/5 [00:10<00:00,  2.20s/it]"
     ]
    },
    {
     "name": "stdout",
     "output_type": "stream",
     "text": [
      "Test: offset_loss: 3461.92, state_loss: 0.3268, accuracy: 0.8522\n"
     ]
    },
    {
     "name": "stderr",
     "output_type": "stream",
     "text": [
      "\n"
     ]
    }
   ],
   "source": [
    "test_loss, test_offset_loss, test_state_loss, test_accuracy = evaluate_model(model, test)\n",
    "print(f\"Test: offset_loss: {test_offset_loss:5.2f}, state_loss: {test_state_loss:5.4f}, accuracy: {test_accuracy:5.4f}\")"
   ]
  },
  {
   "cell_type": "code",
   "execution_count": 9,
   "metadata": {},
   "outputs": [],
   "source": [
    "model.save('./saved/model1.pth')"
   ]
  },
  {
   "cell_type": "code",
   "execution_count": null,
   "metadata": {},
   "outputs": [],
   "source": [
    "loaded_model = customModel(nb=3, no=20, ns=2, embed_dim=32).to(\"cuda\")\n",
    "loaded_model.load('./saved/model.pth')"
   ]
  },
  {
   "cell_type": "code",
   "execution_count": null,
   "metadata": {},
   "outputs": [],
   "source": [
    "test_loss, test_offset_loss, test_state_loss, test_accuracy = evaluate_model(loaded_model, test)\n",
    "print(f\"Test: offset_loss: {test_offset_loss:5.2f}, state_loss: {test_state_loss:5.4f}, accuracy: {test_accuracy:5.4f}\")"
   ]
  },
  {
   "cell_type": "code",
   "execution_count": null,
   "metadata": {},
   "outputs": [],
   "source": [
    "from utils import draw_strokes\n",
    "\n",
    "@torch.inference_mode()\n",
    "def generate(model, input_seq):\n",
    "    prev = input_seq\n",
    "    \n",
    "    i = 0\n",
    "    while i < 20:\n",
    "        offset, state = model.forward(prev)\n",
    "        indices = torch.argmax(state, dim=-1)\n",
    "        one_hot = torch.nn.functional.one_hot(indices, 3)\n",
    "        pred = torch.cat((offset, one_hot), dim=-1)\n",
    "        next_seg = pred[:, -1:, :]\n",
    "        prev = torch.cat((prev, next_seg), dim=1)\n",
    "        i += 1\n",
    "    \n",
    "    return prev\n",
    "\n",
    "strokes = train_dataset[10][0]\n",
    "i = (strokes[:20]).unsqueeze(0)\n",
    "\n",
    "output_pred = generate(model, i.to(\"cuda\")).cpu().numpy()[0]\n",
    "output_actual = strokes[:30].numpy()\n",
    "draw_strokes(i[0], svg_filename='./input.svg')\n",
    "draw_strokes(output_pred, svg_filename='./sample.svg')\n",
    "draw_strokes(output_actual, svg_filename='./actual.svg')"
   ]
  }
 ],
 "metadata": {
  "kernelspec": {
   "display_name": "drawenv",
   "language": "python",
   "name": "python3"
  },
  "language_info": {
   "codemirror_mode": {
    "name": "ipython",
    "version": 3
   },
   "file_extension": ".py",
   "mimetype": "text/x-python",
   "name": "python",
   "nbconvert_exporter": "python",
   "pygments_lexer": "ipython3",
   "version": "3.11.8"
  }
 },
 "nbformat": 4,
 "nbformat_minor": 2
}

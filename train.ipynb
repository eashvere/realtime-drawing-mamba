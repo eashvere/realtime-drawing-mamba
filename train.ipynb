{
 "cells": [
  {
   "cell_type": "code",
   "execution_count": 2,
   "metadata": {},
   "outputs": [
    {
     "name": "stderr",
     "output_type": "stream",
     "text": [
      "/home/nicbat/miniconda3/envs/drawenv/lib/python3.11/site-packages/tqdm/auto.py:21: TqdmWarning: IProgress not found. Please update jupyter and ipywidgets. See https://ipywidgets.readthedocs.io/en/stable/user_install.html\n",
      "  from .autonotebook import tqdm as notebook_tqdm\n"
     ]
    }
   ],
   "source": [
    "from tqdm import tqdm\n",
    "\n",
    "import torch\n",
    "from torch import nn\n",
    "from torch.utils.data import DataLoader\n",
    "\n",
    "from data import DrawingDataset, collate_batch\n",
    "\n",
    "# from mamba import Mamba, MambaConfig\n",
    "from mamba_ssm import Mamba"
   ]
  },
  {
   "cell_type": "code",
   "execution_count": 3,
   "metadata": {},
   "outputs": [
    {
     "name": "stderr",
     "output_type": "stream",
     "text": [
      "  3%|▎         | 9/345 [00:03<02:25,  2.30it/s]\n",
      "  3%|▎         | 9/345 [00:00<00:05, 57.51it/s]\n",
      "  3%|▎         | 9/345 [00:00<00:06, 55.40it/s]\n"
     ]
    }
   ],
   "source": [
    "train_dataset = DrawingDataset(data_path=\"./data\", split=\"train\", max_length=100)\n",
    "val_dataset = DrawingDataset(data_path=\"./data\", split=\"valid\", max_length=100)\n",
    "test_dataset = DrawingDataset(data_path=\"./data\", split=\"test\", max_length=100)\n",
    "\n",
    "train = DataLoader(dataset=train_dataset, batch_size=64, shuffle=True, collate_fn=collate_batch)\n",
    "val = DataLoader(dataset=val_dataset, batch_size=64, shuffle=True, collate_fn=collate_batch)\n",
    "test = DataLoader(dataset=test_dataset, batch_size=64, shuffle=True, collate_fn=collate_batch)"
   ]
  },
  {
   "cell_type": "code",
   "execution_count": 4,
   "metadata": {},
   "outputs": [],
   "source": [
    "# print(f\"Length of train dataloader: {len(train)}\")\n",
    "# print(f\"Length of validation dataloader: {len(val)}\")\n",
    "# print(f\"Length of test dataloader: {len(test)}\")\n",
    "\n",
    "# for i,data in tqdm(enumerate(train)):\n",
    "#     sketch, label = data\n",
    "#     if i == 0:\n",
    "#         print(sketch.shape, len(label))\n",
    "#         print(sketch[0])\n",
    "#     break"
   ]
  },
  {
   "cell_type": "code",
   "execution_count": 5,
   "metadata": {},
   "outputs": [],
   "source": [
    "# from mamba_ssm.models.config_mamba import MambaConfig"
   ]
  },
  {
   "cell_type": "code",
   "execution_count": 7,
   "metadata": {},
   "outputs": [
    {
     "name": "stderr",
     "output_type": "stream",
     "text": [
      "100%|██████████| 8633/8633 [00:51<00:00, 167.58it/s]\n"
     ]
    },
    {
     "name": "stdout",
     "output_type": "stream",
     "text": [
      "Epoch: 1, Loss: 91.30762481689453\n"
     ]
    },
    {
     "name": "stderr",
     "output_type": "stream",
     "text": [
      "100%|██████████| 8633/8633 [00:52<00:00, 165.94it/s]\n"
     ]
    },
    {
     "name": "stdout",
     "output_type": "stream",
     "text": [
      "Epoch: 2, Loss: 86.7203598022461\n"
     ]
    },
    {
     "name": "stderr",
     "output_type": "stream",
     "text": [
      "100%|██████████| 8633/8633 [01:04<00:00, 134.57it/s]\n"
     ]
    },
    {
     "name": "stdout",
     "output_type": "stream",
     "text": [
      "Epoch: 3, Loss: 84.125732421875\n"
     ]
    },
    {
     "name": "stderr",
     "output_type": "stream",
     "text": [
      "100%|██████████| 8633/8633 [00:59<00:00, 146.09it/s]\n"
     ]
    },
    {
     "name": "stdout",
     "output_type": "stream",
     "text": [
      "Epoch: 4, Loss: 82.7577896118164\n"
     ]
    },
    {
     "name": "stderr",
     "output_type": "stream",
     "text": [
      "100%|██████████| 8633/8633 [00:55<00:00, 155.53it/s]"
     ]
    },
    {
     "name": "stdout",
     "output_type": "stream",
     "text": [
      "Epoch: 5, Loss: -31.58777618408203\n"
     ]
    },
    {
     "name": "stderr",
     "output_type": "stream",
     "text": [
      "\n"
     ]
    }
   ],
   "source": [
    "# print(sketch.shape, label)\n",
    "# print(sketch[0][0].shape)\n",
    "# model = nn.Sequential(\n",
    "# )\n",
    "# reshaped = torch.reshape(sketch, (64, 5, 100))\n",
    "# print(reshaped.shape)\n",
    "# print(reshaped[0])\n",
    "# config = MambaConfig(\n",
    "#     d_model = 5,\n",
    "#     # d_state = 16,\n",
    "#     # d_conv = 4,\n",
    "#     # expand=2\n",
    "# )\n",
    "model = nn.Sequential(\n",
    "    Mamba( d_model = 5, d_state = 16, d_conv = 4, expand=2),\n",
    "    Mamba( d_model = 5, d_state = 16, d_conv = 4, expand=2),\n",
    "    # Mamba( d_model = 5, d_state = 16, d_conv = 4, expand=2),\n",
    "    # Mamba( d_model = 5, d_state = 16, d_conv = 4, expand=2),\n",
    "    # Mamba( d_model = 5, d_state = 16, d_conv = 4, expand=2),\n",
    ").to(\"cuda\")\n",
    "\n",
    "# print(sketch.dtype, sketch[0].size())\n",
    "criterion = nn.CrossEntropyLoss()\n",
    "# criterion = nn.MSELoss()\n",
    "optimizer = torch.optim.Adam(model.parameters(), lr=1e-5)\n",
    "# test = model(train[0][0].to(\"cuda\"))\n",
    "# print(test.shape)\n",
    "# print(test[0][0])\n",
    "# (B,L,D) - (64, 5, ???????????)\n",
    "print_every = 500\n",
    "epochs = 5\n",
    "for epoch in range(epochs):\n",
    "    loss = None\n",
    "    for data in tqdm(train):\n",
    "    # for i, data in enumerate(val):\n",
    "        inputs, targets = data\n",
    "        inputs = inputs.to(\"cuda\")\n",
    "        targets = targets.to(\"cuda\")\n",
    "        optimizer.zero_grad()\n",
    "        outputs = model(inputs)\n",
    "        loss = criterion(outputs, targets)\n",
    "        loss.backward()\n",
    "        optimizer.step()\n",
    "        # if i % print_every == 0:\n",
    "        #     print(f\"Epoch: {epoch+1}, Batch: {i}, Loss: {loss}\")\n",
    "    print(f\"Epoch: {epoch+1}, Loss: {loss.item()}\")"
   ]
  },
  {
   "cell_type": "code",
   "execution_count": null,
   "metadata": {},
   "outputs": [],
   "source": []
  }
 ],
 "metadata": {
  "kernelspec": {
   "display_name": "drawenv",
   "language": "python",
   "name": "python3"
  },
  "language_info": {
   "codemirror_mode": {
    "name": "ipython",
    "version": 3
   },
   "file_extension": ".py",
   "mimetype": "text/x-python",
   "name": "python",
   "nbconvert_exporter": "python",
   "pygments_lexer": "ipython3",
   "version": "3.11.8"
  }
 },
 "nbformat": 4,
 "nbformat_minor": 2
}

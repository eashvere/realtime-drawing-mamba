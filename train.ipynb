{
 "cells": [
  {
   "cell_type": "code",
   "execution_count": 1,
   "metadata": {},
   "outputs": [
    {
     "name": "stderr",
     "output_type": "stream",
     "text": [
      "2024-03-09 22:37:46.086962: I tensorflow/core/platform/cpu_feature_guard.cc:182] This TensorFlow binary is optimized to use available CPU instructions in performance-critical operations.\n",
      "To enable the following instructions: AVX2 FMA, in other operations, rebuild TensorFlow with the appropriate compiler flags.\n",
      "2024-03-09 22:37:46.728274: W tensorflow/compiler/tf2tensorrt/utils/py_utils.cc:38] TF-TRT Warning: Could not find TensorRT\n"
     ]
    }
   ],
   "source": [
    "import time\n",
    "import math\n",
    "from tqdm.auto import tqdm\n",
    "from tqdm.utils import _term_move_up\n",
    "\n",
    "prefix = _term_move_up() + '\\r'\n",
    "\n",
    "import torch\n",
    "from torch import nn\n",
    "from torch.utils.data import DataLoader\n",
    "from torch.utils.tensorboard import SummaryWriter\n",
    "\n",
    "from data import DrawingDataset\n",
    "from customModel import customModel, EarlyStopper\n",
    "\n",
    "%load_ext autoreload\n",
    "%autoreload 2"
   ]
  },
  {
   "cell_type": "code",
   "execution_count": 2,
   "metadata": {},
   "outputs": [
    {
     "name": "stdout",
     "output_type": "stream",
     "text": [
      "True\n",
      "NVIDIA GeForce RTX 3050 Ti Laptop GPU\n",
      "_CudaDeviceProperties(name='NVIDIA GeForce RTX 3050 Ti Laptop GPU', major=8, minor=6, total_memory=4095MB, multi_processor_count=20)\n"
     ]
    }
   ],
   "source": [
    "print(torch.cuda.is_available())\n",
    "print(torch.cuda.get_device_name())\n",
    "print(torch.cuda.get_device_properties(0))"
   ]
  },
  {
   "cell_type": "code",
   "execution_count": 3,
   "metadata": {},
   "outputs": [
    {
     "name": "stdout",
     "output_type": "stream",
     "text": [
      "['./data/cat.npz', './data/sailboat.npz', './data/marker.npz', './data/headphones.npz', './data/airplane.npz']\n"
     ]
    },
    {
     "name": "stderr",
     "output_type": "stream",
     "text": [
      "100%|██████████| 5/5 [00:02<00:00,  2.47it/s]\n"
     ]
    },
    {
     "name": "stdout",
     "output_type": "stream",
     "text": [
      "['./data/cat.npz', './data/sailboat.npz', './data/marker.npz', './data/headphones.npz', './data/airplane.npz']\n"
     ]
    },
    {
     "name": "stderr",
     "output_type": "stream",
     "text": [
      "100%|██████████| 5/5 [00:00<00:00, 65.98it/s]\n"
     ]
    },
    {
     "name": "stdout",
     "output_type": "stream",
     "text": [
      "['./data/cat.npz', './data/sailboat.npz', './data/marker.npz', './data/headphones.npz', './data/airplane.npz']\n"
     ]
    },
    {
     "name": "stderr",
     "output_type": "stream",
     "text": [
      "100%|██████████| 5/5 [00:00<00:00, 63.90it/s]\n"
     ]
    }
   ],
   "source": [
    "batch_size = 256\n",
    "max_length = 100\n",
    "\n",
    "train_dataset = DrawingDataset(data_path=\"./data\", split=\"train\", max_length=max_length)\n",
    "val_dataset = DrawingDataset(data_path=\"./data\", split=\"valid\", max_length=max_length)\n",
    "test_dataset = DrawingDataset(data_path=\"./data\", split=\"test\", max_length=max_length)\n",
    "\n",
    "train = DataLoader(dataset=train_dataset, batch_size=batch_size, shuffle=True)\n",
    "val = DataLoader(dataset=val_dataset, batch_size=batch_size, shuffle=True)\n",
    "test = DataLoader(dataset=test_dataset, batch_size=batch_size, shuffle=True)"
   ]
  },
  {
   "cell_type": "code",
   "execution_count": 4,
   "metadata": {},
   "outputs": [
    {
     "name": "stdout",
     "output_type": "stream",
     "text": [
      "0.004888602220003379\n"
     ]
    }
   ],
   "source": [
    "log_interval = 25\n",
    "epochs = 20\n",
    "\n",
    "batches = len(train)\n",
    "\n",
    "model = customModel(nb=20, no=20, ns=1, embed_dim=64).to(\"cuda\")\n",
    "\n",
    "offset_crit = nn.MSELoss(reduction='none')\n",
    "state_crit = nn.CrossEntropyLoss()\n",
    "\n",
    "#optimizer = torch.optim.RAdam(model.parameters(), lr=5e-4)\n",
    "#warmup_ratio = 0.03s\n",
    "\n",
    "print(0.05 * math.sqrt(batch_size / (batches * epochs)))\n",
    "optimizer = torch.optim.AdamW(model.parameters(), \n",
    "                              lr=1e-3, betas=(0.99, 0.95), eps=1e-4,\n",
    "                              weight_decay=0.05 * math.sqrt(batch_size / (batches * epochs)))   \n",
    "# scheduler = get_cosine_schedule_with_warmup(optimizer, \n",
    "#                                             num_warmup_steps=1,\n",
    "#                                             num_training_steps=epochs)\n",
    "scheduler = torch.optim.lr_scheduler.CosineAnnealingLR(optimizer=optimizer, \n",
    "                                                       T_max=epochs, eta_min=1e-5)\n",
    "\n",
    "writer = SummaryWriter('./logs/30_30_1_model')\n",
    "\n",
    "def train_model(model, data_loader, optimizer, epoch):\n",
    "    model.train()\n",
    "    \n",
    "    size = len(data_loader)\n",
    "    \n",
    "    # Total Losses\n",
    "    total_loss = 0\n",
    "    total_offset_loss = 0\n",
    "    total_state_loss = 0\n",
    "    \n",
    "    # Running Losses\n",
    "    running_loss = 0\n",
    "    running_offset_loss = 0\n",
    "    running_state_loss = 0\n",
    "    \n",
    "    running_correct = 0\n",
    "    running_total = 0\n",
    "    \n",
    "    running_mse = 0\n",
    "    \n",
    "    start_time = time.time()\n",
    "    \n",
    "    for i, data in enumerate(tqdm(data_loader)):\n",
    "        optimizer.zero_grad()\n",
    "        \n",
    "        inputs, targets = data\n",
    "        inputs = inputs.to(\"cuda\")\n",
    "        targets = targets.to(\"cuda\")\n",
    "        \n",
    "        offsets, states = model(inputs)\n",
    "        \n",
    "        # Split Target\n",
    "        offset_target = targets[:, :, :2]\n",
    "        state_target = targets[:, :, 2:].argmax(dim=-1)\n",
    "        no_pad_mask = state_target != 2\n",
    "        \n",
    "        # Masked MSE Loss for offset\n",
    "        offset_loss = offset_crit(offsets, offset_target)\n",
    "        offset_loss_mask = offset_loss * no_pad_mask.unsqueeze(-1).float()\n",
    "        \n",
    "        offset_loss = offset_loss_mask.sum() / no_pad_mask.sum()\n",
    "        \n",
    "        # Cross Entropy Loss for State\n",
    "        state_loss = state_crit(states.transpose(1, 2), state_target)\n",
    "        loss = offset_loss + state_loss\n",
    "        \n",
    "        # Calculate other metrics (accuracy)\n",
    "        with torch.no_grad():\n",
    "            states_softmax = torch.nn.functional.softmax(states, dim=-1)\n",
    "            states_pred = states_softmax.argmax(dim=-1)\n",
    "            \n",
    "            no_pad_mask = state_target.flatten() != 2\n",
    "\n",
    "            running_correct += (states_pred.flatten()[no_pad_mask] == state_target.flatten()[no_pad_mask]).sum().item()\n",
    "            running_total += states_pred.flatten()[no_pad_mask].size().numel()\n",
    "            \n",
    "            flat_offsets_pred = offsets.reshape(-1, 2)[no_pad_mask, :]\n",
    "            flat_offset_target = targets[:, :, :2].reshape(-1, 2)[no_pad_mask, :]\n",
    "            running_mse += nn.functional.mse_loss(flat_offsets_pred, flat_offset_target)\n",
    "        \n",
    "        # Backprop\n",
    "        loss.backward(retain_graph=True)\n",
    "        \n",
    "        # Gradient Clipping\n",
    "        for name, param in model.named_parameters():\n",
    "            torch.nn.utils.clip_grad_norm_(param, max_norm=1.5)\n",
    "        \n",
    "        # Optimizer Steps\n",
    "        optimizer.step()\n",
    "        \n",
    "        running_loss += loss.item()\n",
    "        running_offset_loss += offset_loss.item()\n",
    "        running_state_loss += state_loss.item()\n",
    "        \n",
    "        total_loss += loss.item()\n",
    "        total_offset_loss += offset_loss.item()\n",
    "        total_state_loss += state_loss.item()\n",
    "        \n",
    "        # Print speed, losses, and accuracy every 25 batchs\n",
    "        if i % log_interval == 0 and i > 0:\n",
    "            ms_per_batch = (time.time() - start_time) * 1000 / log_interval\n",
    "            cur_loss = running_loss / log_interval\n",
    "            cur_offset_loss = running_offset_loss / log_interval\n",
    "            cur_state_loss = running_state_loss / log_interval\n",
    "            cur_accuracy = running_correct / running_total\n",
    "            cur_mse = running_mse / log_interval\n",
    "            tqdm.write(f'{prefix}| epoch {(epoch+1):3d} | {i:5d}/{size:5d} batches '\n",
    "                  f'| ms/batch {ms_per_batch:5.2f} | '\n",
    "                  f'offset_loss {cur_offset_loss/2:5.2f} | state_loss {cur_state_loss:5.4f} | '\n",
    "                  f'accuracy {cur_accuracy:5.4f} | mse {cur_mse:5.2f}')\n",
    "            time.sleep(0)\n",
    "            running_loss = 0\n",
    "            running_offset_loss = 0\n",
    "            running_state_loss = 0\n",
    "            running_correct = 0\n",
    "            running_total = 0\n",
    "            running_mse = 0\n",
    "            start_time = time.time()\n",
    "    \n",
    "    return total_loss / size, total_offset_loss / size, total_state_loss / size\n",
    "        \n",
    "def evaluate_model(model, data_loader):\n",
    "    model.eval()\n",
    "    size = len(data_loader)\n",
    "    \n",
    "    # Running Losses\n",
    "    running_loss = 0\n",
    "    running_offset_loss = 0\n",
    "    running_state_loss = 0\n",
    "    \n",
    "    # Correct\n",
    "    correct = 0\n",
    "    total_samples = 0\n",
    "    \n",
    "    with torch.no_grad():\n",
    "        for data in tqdm(data_loader):\n",
    "            inputs, targets = data\n",
    "            inputs = inputs.to(\"cuda\")\n",
    "            targets = targets.to(\"cuda\")\n",
    "            \n",
    "            offsets, states = model(inputs)\n",
    "            \n",
    "            # Masked MSE Loss\n",
    "            offset_target = targets[:, :, :2]\n",
    "            state_target = targets[:, :, 2:].argmax(dim=-1)\n",
    "            no_pad_mask = state_target != 2\n",
    "            \n",
    "            offset_loss = offset_crit(offsets, offset_target)\n",
    "            offset_loss_mask = offset_loss * no_pad_mask.unsqueeze(-1).float()\n",
    "            offset_loss = offset_loss_mask.sum() / no_pad_mask.sum()\n",
    "            \n",
    "            state_loss = state_crit(states.transpose(1, 2), state_target)\n",
    "            loss = offset_loss + state_loss\n",
    "            \n",
    "            # Accuracy Calculation\n",
    "            states_softmax = torch.nn.functional.softmax(states, dim=-1)\n",
    "            states_pred = states_softmax.argmax(dim=-1)\n",
    "            \n",
    "            no_pad_mask = no_pad_mask.flatten()\n",
    "            \n",
    "            correct += (states_pred.flatten()[no_pad_mask] == state_target.flatten()[no_pad_mask]).sum().item()\n",
    "            total_samples += states_pred.flatten()[no_pad_mask].size().numel()\n",
    "            \n",
    "            running_loss += loss.item()\n",
    "            running_offset_loss += offset_loss.item()\n",
    "            running_state_loss += state_loss.item()\n",
    "    \n",
    "    return running_loss / size, running_offset_loss / size, running_state_loss / size, correct / total_samples\n",
    "            \n"
   ]
  },
  {
   "cell_type": "code",
   "execution_count": 5,
   "metadata": {},
   "outputs": [
    {
     "data": {
      "text/plain": [
       "<torch.autograd.anomaly_mode.set_detect_anomaly at 0x7f5d72922fd0>"
      ]
     },
     "execution_count": 5,
     "metadata": {},
     "output_type": "execute_result"
    }
   ],
   "source": [
    "torch.autograd.set_detect_anomaly(True)"
   ]
  },
  {
   "cell_type": "code",
   "execution_count": 6,
   "metadata": {},
   "outputs": [
    {
     "data": {
      "application/vnd.jupyter.widget-view+json": {
       "model_id": "e8900559435a4735a375c44d11c4f420",
       "version_major": 2,
       "version_minor": 0
      },
      "text/plain": [
       "  0%|          | 0/1339 [00:00<?, ?it/s]"
      ]
     },
     "metadata": {},
     "output_type": "display_data"
    },
    {
     "name": "stdout",
     "output_type": "stream",
     "text": [
      "| epoch   1 |  1325/ 1339 batches | ms/batch 701.67 | offset_loss 1373.46 | state_loss 0.1575 | accuracy 0.8904 | mse 1373.46\n",
      "Training: Epoch: 1, offset_loss: 1713.9959, state_loss: 0.2040\n"
     ]
    },
    {
     "data": {
      "application/vnd.jupyter.widget-view+json": {
       "model_id": "b43247abc6a9401cab9c169bceb6daf8",
       "version_major": 2,
       "version_minor": 0
      },
      "text/plain": [
       "  0%|          | 0/48 [00:00<?, ?it/s]"
      ]
     },
     "metadata": {},
     "output_type": "display_data"
    },
    {
     "name": "stdout",
     "output_type": "stream",
     "text": [
      "Validation: Epoch: 1, offset_loss: 1237.31, state_loss: 0.1472, accuracy: 0.8966\n"
     ]
    },
    {
     "data": {
      "application/vnd.jupyter.widget-view+json": {
       "model_id": "0e74e87354ce42839427e05ed9e9460a",
       "version_major": 2,
       "version_minor": 0
      },
      "text/plain": [
       "  0%|          | 0/1339 [00:00<?, ?it/s]"
      ]
     },
     "metadata": {},
     "output_type": "display_data"
    },
    {
     "name": "stdout",
     "output_type": "stream",
     "text": [
      "| epoch   2 |  1325/ 1339 batches | ms/batch 699.24 | offset_loss 1285.44 | state_loss 0.1485 | accuracy 0.8929 | mse 1285.44\n",
      "Training: Epoch: 2, offset_loss: 1313.1987, state_loss: 0.1515\n"
     ]
    },
    {
     "data": {
      "application/vnd.jupyter.widget-view+json": {
       "model_id": "962574394af94051b6f7209eccdd3cfa",
       "version_major": 2,
       "version_minor": 0
      },
      "text/plain": [
       "  0%|          | 0/48 [00:00<?, ?it/s]"
      ]
     },
     "metadata": {},
     "output_type": "display_data"
    },
    {
     "name": "stdout",
     "output_type": "stream",
     "text": [
      "Validation: Epoch: 2, offset_loss: 1149.45, state_loss: 0.1390, accuracy: 0.8964\n"
     ]
    },
    {
     "data": {
      "application/vnd.jupyter.widget-view+json": {
       "model_id": "92e940f8033a4879b28d23eca9018ed2",
       "version_major": 2,
       "version_minor": 0
      },
      "text/plain": [
       "  0%|          | 0/1339 [00:00<?, ?it/s]"
      ]
     },
     "metadata": {},
     "output_type": "display_data"
    },
    {
     "name": "stdout",
     "output_type": "stream",
     "text": [
      "| epoch   3 |  1325/ 1339 batches | ms/batch 698.88 | offset_loss 1218.59 | state_loss 0.1438 | accuracy 0.8936 | mse 1218.59\n",
      "Training: Epoch: 3, offset_loss: 1260.2305, state_loss: 0.1460\n"
     ]
    },
    {
     "data": {
      "application/vnd.jupyter.widget-view+json": {
       "model_id": "3dfd1e7337be47bd85e708d79f94d96a",
       "version_major": 2,
       "version_minor": 0
      },
      "text/plain": [
       "  0%|          | 0/48 [00:00<?, ?it/s]"
      ]
     },
     "metadata": {},
     "output_type": "display_data"
    },
    {
     "name": "stdout",
     "output_type": "stream",
     "text": [
      "Validation: Epoch: 3, offset_loss: 1124.43, state_loss: 0.1361, accuracy: 0.8953\n"
     ]
    },
    {
     "data": {
      "application/vnd.jupyter.widget-view+json": {
       "model_id": "c2e61ec66a05428d90347d5a1a4f906b",
       "version_major": 2,
       "version_minor": 0
      },
      "text/plain": [
       "  0%|          | 0/1339 [00:00<?, ?it/s]"
      ]
     },
     "metadata": {},
     "output_type": "display_data"
    },
    {
     "name": "stdout",
     "output_type": "stream",
     "text": [
      "| epoch   4 |  1325/ 1339 batches | ms/batch 701.35 | offset_loss 1216.88 | state_loss 0.1412 | accuracy 0.8949 | mse 1216.88\n",
      "Training: Epoch: 4, offset_loss: 1229.0934, state_loss: 0.1431\n"
     ]
    },
    {
     "data": {
      "application/vnd.jupyter.widget-view+json": {
       "model_id": "406248a8b05d43b6a6b89ca74bc8770e",
       "version_major": 2,
       "version_minor": 0
      },
      "text/plain": [
       "  0%|          | 0/48 [00:00<?, ?it/s]"
      ]
     },
     "metadata": {},
     "output_type": "display_data"
    },
    {
     "name": "stdout",
     "output_type": "stream",
     "text": [
      "Validation: Epoch: 4, offset_loss: 1092.32, state_loss: 0.1339, accuracy: 0.8967\n"
     ]
    },
    {
     "data": {
      "application/vnd.jupyter.widget-view+json": {
       "model_id": "cc4a1b14718c46499321e6165d6490e9",
       "version_major": 2,
       "version_minor": 0
      },
      "text/plain": [
       "  0%|          | 0/1339 [00:00<?, ?it/s]"
      ]
     },
     "metadata": {},
     "output_type": "display_data"
    },
    {
     "name": "stdout",
     "output_type": "stream",
     "text": [
      "| epoch   5 |  1325/ 1339 batches | ms/batch 719.60 | offset_loss 1199.64 | state_loss 0.1397 | accuracy 0.8949 | mse 1199.64\n",
      "Training: Epoch: 5, offset_loss: 1203.9957, state_loss: 0.1407\n"
     ]
    },
    {
     "data": {
      "application/vnd.jupyter.widget-view+json": {
       "model_id": "53baec39357844599c861077a7b964ca",
       "version_major": 2,
       "version_minor": 0
      },
      "text/plain": [
       "  0%|          | 0/48 [00:00<?, ?it/s]"
      ]
     },
     "metadata": {},
     "output_type": "display_data"
    },
    {
     "name": "stdout",
     "output_type": "stream",
     "text": [
      "Validation: Epoch: 5, offset_loss: 1078.01, state_loss: 0.1315, accuracy: 0.8960\n"
     ]
    },
    {
     "data": {
      "application/vnd.jupyter.widget-view+json": {
       "model_id": "adb7eac31bdf4c62bd67740137b7226b",
       "version_major": 2,
       "version_minor": 0
      },
      "text/plain": [
       "  0%|          | 0/1339 [00:00<?, ?it/s]"
      ]
     },
     "metadata": {},
     "output_type": "display_data"
    },
    {
     "name": "stdout",
     "output_type": "stream",
     "text": [
      "| epoch   6 |  1325/ 1339 batches | ms/batch 715.94 | offset_loss 1185.45 | state_loss 0.1405 | accuracy 0.8942 | mse 1185.45\n",
      "Training: Epoch: 6, offset_loss: 1190.0463, state_loss: 0.1391\n"
     ]
    },
    {
     "data": {
      "application/vnd.jupyter.widget-view+json": {
       "model_id": "0545e8292a7542eaabc06650cf123fa8",
       "version_major": 2,
       "version_minor": 0
      },
      "text/plain": [
       "  0%|          | 0/48 [00:00<?, ?it/s]"
      ]
     },
     "metadata": {},
     "output_type": "display_data"
    },
    {
     "name": "stdout",
     "output_type": "stream",
     "text": [
      "Validation: Epoch: 6, offset_loss: 1075.18, state_loss: 0.1298, accuracy: 0.8984\n"
     ]
    },
    {
     "data": {
      "application/vnd.jupyter.widget-view+json": {
       "model_id": "bf3a91b5966d4d64be93a8387b78d394",
       "version_major": 2,
       "version_minor": 0
      },
      "text/plain": [
       "  0%|          | 0/1339 [00:00<?, ?it/s]"
      ]
     },
     "metadata": {},
     "output_type": "display_data"
    },
    {
     "name": "stdout",
     "output_type": "stream",
     "text": [
      "| epoch   7 |  1325/ 1339 batches | ms/batch 726.37 | offset_loss 1155.90 | state_loss 0.1388 | accuracy 0.8967 | mse 1155.90\n",
      "Training: Epoch: 7, offset_loss: 1176.6464, state_loss: 0.1379\n"
     ]
    },
    {
     "data": {
      "application/vnd.jupyter.widget-view+json": {
       "model_id": "424b38fc300640fdadfe2f0ae7d2bb24",
       "version_major": 2,
       "version_minor": 0
      },
      "text/plain": [
       "  0%|          | 0/48 [00:00<?, ?it/s]"
      ]
     },
     "metadata": {},
     "output_type": "display_data"
    },
    {
     "name": "stdout",
     "output_type": "stream",
     "text": [
      "Validation: Epoch: 7, offset_loss: 1050.52, state_loss: 0.1286, accuracy: 0.8985\n"
     ]
    },
    {
     "data": {
      "application/vnd.jupyter.widget-view+json": {
       "model_id": "899949f1bdf24534b80ff8297c9410d0",
       "version_major": 2,
       "version_minor": 0
      },
      "text/plain": [
       "  0%|          | 0/1339 [00:00<?, ?it/s]"
      ]
     },
     "metadata": {},
     "output_type": "display_data"
    },
    {
     "name": "stdout",
     "output_type": "stream",
     "text": [
      "| epoch   8 |  1325/ 1339 batches | ms/batch 723.41 | offset_loss 1170.12 | state_loss 0.1354 | accuracy 0.8970 | mse 1170.12\n",
      "Training: Epoch: 8, offset_loss: 1165.8829, state_loss: 0.1367\n"
     ]
    },
    {
     "data": {
      "application/vnd.jupyter.widget-view+json": {
       "model_id": "33fce3929c8a42b2a01eb7d8d340661e",
       "version_major": 2,
       "version_minor": 0
      },
      "text/plain": [
       "  0%|          | 0/48 [00:00<?, ?it/s]"
      ]
     },
     "metadata": {},
     "output_type": "display_data"
    },
    {
     "name": "stdout",
     "output_type": "stream",
     "text": [
      "Validation: Epoch: 8, offset_loss: 1045.52, state_loss: 0.1275, accuracy: 0.8997\n"
     ]
    },
    {
     "data": {
      "application/vnd.jupyter.widget-view+json": {
       "model_id": "ad7b9c138d744da3824a3d008230cd2a",
       "version_major": 2,
       "version_minor": 0
      },
      "text/plain": [
       "  0%|          | 0/1339 [00:00<?, ?it/s]"
      ]
     },
     "metadata": {},
     "output_type": "display_data"
    },
    {
     "name": "stdout",
     "output_type": "stream",
     "text": [
      "| epoch   9 |  1325/ 1339 batches | ms/batch 716.97 | offset_loss 1174.17 | state_loss 0.1343 | accuracy 0.8967 | mse 1174.17\n",
      "Training: Epoch: 9, offset_loss: 1151.9351, state_loss: 0.1360\n"
     ]
    },
    {
     "data": {
      "application/vnd.jupyter.widget-view+json": {
       "model_id": "ffd671610e79482b8402b161ba67a971",
       "version_major": 2,
       "version_minor": 0
      },
      "text/plain": [
       "  0%|          | 0/48 [00:00<?, ?it/s]"
      ]
     },
     "metadata": {},
     "output_type": "display_data"
    },
    {
     "name": "stdout",
     "output_type": "stream",
     "text": [
      "Validation: Epoch: 9, offset_loss: 1038.81, state_loss: 0.1273, accuracy: 0.9009\n"
     ]
    },
    {
     "data": {
      "application/vnd.jupyter.widget-view+json": {
       "model_id": "e0288cc16f4e4b0abba71993c397a56e",
       "version_major": 2,
       "version_minor": 0
      },
      "text/plain": [
       "  0%|          | 0/1339 [00:00<?, ?it/s]"
      ]
     },
     "metadata": {},
     "output_type": "display_data"
    },
    {
     "name": "stdout",
     "output_type": "stream",
     "text": [
      "| epoch  10 |  1325/ 1339 batches | ms/batch 719.24 | offset_loss 1156.11 | state_loss 0.1359 | accuracy 0.8961 | mse 1156.11\n",
      "Training: Epoch: 10, offset_loss: 1144.3499, state_loss: 0.1352\n"
     ]
    },
    {
     "data": {
      "application/vnd.jupyter.widget-view+json": {
       "model_id": "0ee421e50501485baa3cb504a0a81c5f",
       "version_major": 2,
       "version_minor": 0
      },
      "text/plain": [
       "  0%|          | 0/48 [00:00<?, ?it/s]"
      ]
     },
     "metadata": {},
     "output_type": "display_data"
    },
    {
     "name": "stdout",
     "output_type": "stream",
     "text": [
      "Validation: Epoch: 10, offset_loss: 1037.58, state_loss: 0.1267, accuracy: 0.8994\n"
     ]
    },
    {
     "data": {
      "application/vnd.jupyter.widget-view+json": {
       "model_id": "eb098c19c5064cadb79dd01ac163668e",
       "version_major": 2,
       "version_minor": 0
      },
      "text/plain": [
       "  0%|          | 0/1339 [00:00<?, ?it/s]"
      ]
     },
     "metadata": {},
     "output_type": "display_data"
    },
    {
     "name": "stdout",
     "output_type": "stream",
     "text": [
      "| epoch  11 |  1325/ 1339 batches | ms/batch 696.83 | offset_loss 1123.19 | state_loss 0.1354 | accuracy 0.8966 | mse 1123.19\n",
      "Training: Epoch: 11, offset_loss: 1133.5610, state_loss: 0.1345\n"
     ]
    },
    {
     "data": {
      "application/vnd.jupyter.widget-view+json": {
       "model_id": "8b58942c38f040f6a4694e74126667d9",
       "version_major": 2,
       "version_minor": 0
      },
      "text/plain": [
       "  0%|          | 0/48 [00:00<?, ?it/s]"
      ]
     },
     "metadata": {},
     "output_type": "display_data"
    },
    {
     "name": "stdout",
     "output_type": "stream",
     "text": [
      "Validation: Epoch: 11, offset_loss: 1032.69, state_loss: 0.1259, accuracy: 0.8989\n"
     ]
    },
    {
     "data": {
      "application/vnd.jupyter.widget-view+json": {
       "model_id": "e3d22c2104b94d8c945d2312382430d0",
       "version_major": 2,
       "version_minor": 0
      },
      "text/plain": [
       "  0%|          | 0/1339 [00:00<?, ?it/s]"
      ]
     },
     "metadata": {},
     "output_type": "display_data"
    },
    {
     "name": "stdout",
     "output_type": "stream",
     "text": [
      "| epoch  12 |  1325/ 1339 batches | ms/batch 709.48 | offset_loss 1139.44 | state_loss 0.1331 | accuracy 0.8968 | mse 1139.44\n",
      "Training: Epoch: 12, offset_loss: 1124.7799, state_loss: 0.1341\n"
     ]
    },
    {
     "data": {
      "application/vnd.jupyter.widget-view+json": {
       "model_id": "2ecd520237f14cb3b2e859d4443f41cd",
       "version_major": 2,
       "version_minor": 0
      },
      "text/plain": [
       "  0%|          | 0/48 [00:00<?, ?it/s]"
      ]
     },
     "metadata": {},
     "output_type": "display_data"
    },
    {
     "name": "stdout",
     "output_type": "stream",
     "text": [
      "Validation: Epoch: 12, offset_loss: 1026.35, state_loss: 0.1257, accuracy: 0.9014\n"
     ]
    },
    {
     "data": {
      "application/vnd.jupyter.widget-view+json": {
       "model_id": "a32752ebe32f40c687e4f4d44cfd2654",
       "version_major": 2,
       "version_minor": 0
      },
      "text/plain": [
       "  0%|          | 0/1339 [00:00<?, ?it/s]"
      ]
     },
     "metadata": {},
     "output_type": "display_data"
    },
    {
     "name": "stdout",
     "output_type": "stream",
     "text": [
      "| epoch  13 |  1325/ 1339 batches | ms/batch 697.69 | offset_loss 1134.48 | state_loss 0.1333 | accuracy 0.8980 | mse 1134.48\n",
      "Training: Epoch: 13, offset_loss: 1116.5532, state_loss: 0.1336\n"
     ]
    },
    {
     "data": {
      "application/vnd.jupyter.widget-view+json": {
       "model_id": "3a9989b698a9475db00299aac5e52f7a",
       "version_major": 2,
       "version_minor": 0
      },
      "text/plain": [
       "  0%|          | 0/48 [00:00<?, ?it/s]"
      ]
     },
     "metadata": {},
     "output_type": "display_data"
    },
    {
     "name": "stdout",
     "output_type": "stream",
     "text": [
      "Validation: Epoch: 13, offset_loss: 1020.92, state_loss: 0.1253, accuracy: 0.8997\n"
     ]
    },
    {
     "data": {
      "application/vnd.jupyter.widget-view+json": {
       "model_id": "1e59ed8003d84638a3b1b3aadc78122f",
       "version_major": 2,
       "version_minor": 0
      },
      "text/plain": [
       "  0%|          | 0/1339 [00:00<?, ?it/s]"
      ]
     },
     "metadata": {},
     "output_type": "display_data"
    },
    {
     "name": "stdout",
     "output_type": "stream",
     "text": [
      "| epoch  14 |  1325/ 1339 batches | ms/batch 719.37 | offset_loss 1127.95 | state_loss 0.1337 | accuracy 0.8976 | mse 1127.95\n",
      "Training: Epoch: 14, offset_loss: 1110.0451, state_loss: 0.1333\n"
     ]
    },
    {
     "data": {
      "application/vnd.jupyter.widget-view+json": {
       "model_id": "79679abd17d24ffbaf05d4dde172d7c2",
       "version_major": 2,
       "version_minor": 0
      },
      "text/plain": [
       "  0%|          | 0/48 [00:00<?, ?it/s]"
      ]
     },
     "metadata": {},
     "output_type": "display_data"
    },
    {
     "name": "stdout",
     "output_type": "stream",
     "text": [
      "Validation: Epoch: 14, offset_loss: 1019.59, state_loss: 0.1247, accuracy: 0.9006\n"
     ]
    },
    {
     "data": {
      "application/vnd.jupyter.widget-view+json": {
       "model_id": "18a2cf7f01864a5280daddac5e917803",
       "version_major": 2,
       "version_minor": 0
      },
      "text/plain": [
       "  0%|          | 0/1339 [00:00<?, ?it/s]"
      ]
     },
     "metadata": {},
     "output_type": "display_data"
    },
    {
     "name": "stdout",
     "output_type": "stream",
     "text": [
      "| epoch  15 |  1325/ 1339 batches | ms/batch 721.37 | offset_loss 1087.18 | state_loss 0.1316 | accuracy 0.8972 | mse 1087.18\n",
      "Training: Epoch: 15, offset_loss: 1101.6576, state_loss: 0.1330\n"
     ]
    },
    {
     "data": {
      "application/vnd.jupyter.widget-view+json": {
       "model_id": "fc0fe3a3f0274ff3a1f5d86857447922",
       "version_major": 2,
       "version_minor": 0
      },
      "text/plain": [
       "  0%|          | 0/48 [00:00<?, ?it/s]"
      ]
     },
     "metadata": {},
     "output_type": "display_data"
    },
    {
     "name": "stdout",
     "output_type": "stream",
     "text": [
      "Validation: Epoch: 15, offset_loss: 1019.40, state_loss: 0.1244, accuracy: 0.9014\n"
     ]
    },
    {
     "data": {
      "application/vnd.jupyter.widget-view+json": {
       "model_id": "a4d1850202974377a24d7354a7fb6910",
       "version_major": 2,
       "version_minor": 0
      },
      "text/plain": [
       "  0%|          | 0/1339 [00:00<?, ?it/s]"
      ]
     },
     "metadata": {},
     "output_type": "display_data"
    },
    {
     "name": "stdout",
     "output_type": "stream",
     "text": [
      "| epoch  16 |  1325/ 1339 batches | ms/batch 718.33 | offset_loss 1105.03 | state_loss 0.1322 | accuracy 0.8979 | mse 1105.03\n",
      "Training: Epoch: 16, offset_loss: 1096.1595, state_loss: 0.1328\n"
     ]
    },
    {
     "data": {
      "application/vnd.jupyter.widget-view+json": {
       "model_id": "451de0e7072c49379a6debc5b05a6a28",
       "version_major": 2,
       "version_minor": 0
      },
      "text/plain": [
       "  0%|          | 0/48 [00:00<?, ?it/s]"
      ]
     },
     "metadata": {},
     "output_type": "display_data"
    },
    {
     "name": "stdout",
     "output_type": "stream",
     "text": [
      "Validation: Epoch: 16, offset_loss: 1012.74, state_loss: 0.1242, accuracy: 0.9002\n"
     ]
    },
    {
     "data": {
      "application/vnd.jupyter.widget-view+json": {
       "model_id": "54577e2c6b934d81be95190056505165",
       "version_major": 2,
       "version_minor": 0
      },
      "text/plain": [
       "  0%|          | 0/1339 [00:00<?, ?it/s]"
      ]
     },
     "metadata": {},
     "output_type": "display_data"
    },
    {
     "name": "stdout",
     "output_type": "stream",
     "text": [
      "| epoch  17 |  1325/ 1339 batches | ms/batch 719.55 | offset_loss 1115.08 | state_loss 0.1326 | accuracy 0.8971 | mse 1115.08\n",
      "Training: Epoch: 17, offset_loss: 1089.8020, state_loss: 0.1326\n"
     ]
    },
    {
     "data": {
      "application/vnd.jupyter.widget-view+json": {
       "model_id": "35eb23a17435431ab37a3bbf1649242b",
       "version_major": 2,
       "version_minor": 0
      },
      "text/plain": [
       "  0%|          | 0/48 [00:00<?, ?it/s]"
      ]
     },
     "metadata": {},
     "output_type": "display_data"
    },
    {
     "name": "stdout",
     "output_type": "stream",
     "text": [
      "Validation: Epoch: 17, offset_loss: 1010.25, state_loss: 0.1242, accuracy: 0.9004\n"
     ]
    },
    {
     "data": {
      "application/vnd.jupyter.widget-view+json": {
       "model_id": "e3e3f84290ea4a438bbc5314db23fe1b",
       "version_major": 2,
       "version_minor": 0
      },
      "text/plain": [
       "  0%|          | 0/1339 [00:00<?, ?it/s]"
      ]
     },
     "metadata": {},
     "output_type": "display_data"
    },
    {
     "name": "stdout",
     "output_type": "stream",
     "text": [
      "| epoch  18 |  1325/ 1339 batches | ms/batch 720.34 | offset_loss 1096.69 | state_loss 0.1310 | accuracy 0.8986 | mse 1096.69\n",
      "Training: Epoch: 18, offset_loss: 1085.3903, state_loss: 0.1324\n"
     ]
    },
    {
     "data": {
      "application/vnd.jupyter.widget-view+json": {
       "model_id": "666222563107455196254be36cea9001",
       "version_major": 2,
       "version_minor": 0
      },
      "text/plain": [
       "  0%|          | 0/48 [00:00<?, ?it/s]"
      ]
     },
     "metadata": {},
     "output_type": "display_data"
    },
    {
     "name": "stdout",
     "output_type": "stream",
     "text": [
      "Validation: Epoch: 18, offset_loss: 1012.08, state_loss: 0.1240, accuracy: 0.9006\n"
     ]
    },
    {
     "data": {
      "application/vnd.jupyter.widget-view+json": {
       "model_id": "18ff1efc0bdb42529b1271b4e1526968",
       "version_major": 2,
       "version_minor": 0
      },
      "text/plain": [
       "  0%|          | 0/1339 [00:00<?, ?it/s]"
      ]
     },
     "metadata": {},
     "output_type": "display_data"
    },
    {
     "name": "stdout",
     "output_type": "stream",
     "text": [
      "| epoch  19 |  1325/ 1339 batches | ms/batch 719.94 | offset_loss 1071.26 | state_loss 0.1330 | accuracy 0.8977 | mse 1071.26\n",
      "Training: Epoch: 19, offset_loss: 1083.6486, state_loss: 0.1324\n"
     ]
    },
    {
     "data": {
      "application/vnd.jupyter.widget-view+json": {
       "model_id": "f9798f4c901b4b1488611f6b459a69eb",
       "version_major": 2,
       "version_minor": 0
      },
      "text/plain": [
       "  0%|          | 0/48 [00:00<?, ?it/s]"
      ]
     },
     "metadata": {},
     "output_type": "display_data"
    },
    {
     "name": "stdout",
     "output_type": "stream",
     "text": [
      "Validation: Epoch: 19, offset_loss: 1013.41, state_loss: 0.1241, accuracy: 0.9006\n"
     ]
    },
    {
     "data": {
      "application/vnd.jupyter.widget-view+json": {
       "model_id": "114e58cae346438b85e153cdd146451c",
       "version_major": 2,
       "version_minor": 0
      },
      "text/plain": [
       "  0%|          | 0/1339 [00:00<?, ?it/s]"
      ]
     },
     "metadata": {},
     "output_type": "display_data"
    },
    {
     "name": "stdout",
     "output_type": "stream",
     "text": [
      "| epoch  20 |  1325/ 1339 batches | ms/batch 724.61 | offset_loss 1088.02 | state_loss 0.1305 | accuracy 0.8984 | mse 1088.02\n",
      "Training: Epoch: 20, offset_loss: 1081.9133, state_loss: 0.1324\n"
     ]
    },
    {
     "data": {
      "application/vnd.jupyter.widget-view+json": {
       "model_id": "c3053265d0c44b7fb65473fde4fd8292",
       "version_major": 2,
       "version_minor": 0
      },
      "text/plain": [
       "  0%|          | 0/48 [00:00<?, ?it/s]"
      ]
     },
     "metadata": {},
     "output_type": "display_data"
    },
    {
     "name": "stdout",
     "output_type": "stream",
     "text": [
      "Validation: Epoch: 20, offset_loss: 1012.09, state_loss: 0.1240, accuracy: 0.9008\n"
     ]
    }
   ],
   "source": [
    "early_stopper = EarlyStopper(patience=3, min_delta=30)\n",
    "for epoch in range(epochs):\n",
    "    train_loss, train_offset_loss, train_state_loss = train_model(model, train, optimizer, epoch)\n",
    "    print(f\"Training: Epoch: {epoch+1}, offset_loss: {train_offset_loss/2:5.4f}, state_loss: {train_state_loss:5.4f}\")\n",
    "    writer.add_scalar(\"Train/Offset_Loss/Epoch\", train_offset_loss/2, epoch)\n",
    "    writer.add_scalar(\"Train/State_Loss/Epoch\", train_state_loss, epoch)\n",
    "    \n",
    "    val_loss, val_offset_loss, val_state_loss, val_accuracy = evaluate_model(model, val)\n",
    "    print(f\"Validation: Epoch: {epoch+1}, offset_loss: {val_offset_loss/2:5.2f}, state_loss: {val_state_loss:5.4f}, accuracy: {val_accuracy:5.4f}\")\n",
    "    writer.add_scalar(\"Validation/Offset_Loss/Epoch\", val_offset_loss/2, epoch)\n",
    "    writer.add_scalar(\"Validation/State_Loss/Epoch\", val_state_loss, epoch)\n",
    "    writer.add_scalar(\"Validation/State_Accuracy/Epoch\", val_accuracy, epoch)\n",
    "    \n",
    "    if early_stopper.early_stop(val_offset_loss/2):\n",
    "        break\n",
    "    \n",
    "    scheduler.step()"
   ]
  },
  {
   "cell_type": "code",
   "execution_count": 6,
   "metadata": {},
   "outputs": [
    {
     "data": {
      "application/vnd.jupyter.widget-view+json": {
       "model_id": "acae61757e444b4ebb56fda1cd085951",
       "version_major": 2,
       "version_minor": 0
      },
      "text/plain": [
       "  0%|          | 0/48 [00:00<?, ?it/s]"
      ]
     },
     "metadata": {},
     "output_type": "display_data"
    },
    {
     "name": "stdout",
     "output_type": "stream",
     "text": [
      "Test: offset_loss: 1019.94, state_loss: 0.1242, accuracy: 0.9003\n"
     ]
    }
   ],
   "source": [
    "test_loss, test_offset_loss, test_state_loss, test_accuracy = evaluate_model(model, test)\n",
    "print(f\"Test: offset_loss: {test_offset_loss/2:5.2f}, state_loss: {test_state_loss:5.4f}, accuracy: {test_accuracy:5.4f}\")"
   ]
  },
  {
   "cell_type": "code",
   "execution_count": 7,
   "metadata": {},
   "outputs": [],
   "source": [
    "model.save('./saved/20_20_1_model.pth')"
   ]
  },
  {
   "cell_type": "code",
   "execution_count": 8,
   "metadata": {},
   "outputs": [],
   "source": [
    "loaded_model = customModel(nb=20, no=20, ns=1, embed_dim=64).to(\"cuda\")\n",
    "loaded_model.load('./saved/20_20_1_model.pth')"
   ]
  },
  {
   "cell_type": "code",
   "execution_count": 9,
   "metadata": {},
   "outputs": [
    {
     "data": {
      "application/vnd.jupyter.widget-view+json": {
       "model_id": "ea2f487f77e04eb0821d35c3f0a6e02e",
       "version_major": 2,
       "version_minor": 0
      },
      "text/plain": [
       "  0%|          | 0/48 [00:00<?, ?it/s]"
      ]
     },
     "metadata": {},
     "output_type": "display_data"
    },
    {
     "name": "stdout",
     "output_type": "stream",
     "text": [
      "Test: offset_loss: 1019.98, state_loss: 0.1241, accuracy: 0.9003\n"
     ]
    }
   ],
   "source": [
    "test_loss, test_offset_loss, test_state_loss, test_accuracy = evaluate_model(loaded_model, test)\n",
    "print(f\"Test: offset_loss: {test_offset_loss/2:5.2f}, state_loss: {test_state_loss:5.4f}, accuracy: {test_accuracy:5.4f}\")"
   ]
  },
  {
   "cell_type": "code",
   "execution_count": 8,
   "metadata": {},
   "outputs": [
    {
     "data": {
      "image/svg+xml": [
       "<svg xmlns=\"http://www.w3.org/2000/svg\" xmlns:ev=\"http://www.w3.org/2001/xml-events\" xmlns:xlink=\"http://www.w3.org/1999/xlink\" baseProfile=\"full\" height=\"1470.0\" version=\"1.1\" width=\"1315.0\"><defs/><rect fill=\"white\" height=\"1470.0\" width=\"1315.0\" x=\"0\" y=\"0\"/><path d=\"M1290.0,40.0 m-125.0,-15.0 l-145.0,5.0 -195.0,50.0 l-250.0,100.0 -200.0,140.0 l-165.0,170.0 -110.0,200.0 l-60.0,230.0 -15.0,250.0 l65.0,275.0 \" fill=\"none\" stroke=\"black\" stroke-width=\"1\"/></svg>"
      ],
      "text/plain": [
       "<IPython.core.display.SVG object>"
      ]
     },
     "metadata": {},
     "output_type": "display_data"
    },
    {
     "data": {
      "image/svg+xml": [
       "<svg xmlns=\"http://www.w3.org/2000/svg\" xmlns:ev=\"http://www.w3.org/2001/xml-events\" xmlns:xlink=\"http://www.w3.org/1999/xlink\" baseProfile=\"full\" height=\"1473.918435079977\" version=\"1.1\" width=\"1315.0\"><defs/><rect fill=\"white\" height=\"1473.918435079977\" width=\"1315.0\" x=\"0\" y=\"0\"/><path d=\"M1290.0,40.0 m-125.0,-15.0 l-145.0,5.0 -195.0,50.0 l-250.0,100.0 -200.0,140.0 l-165.0,170.0 -110.0,200.0 l-60.0,230.0 -15.0,250.0 l65.0,275.0 -0.052495431154966354,0.08910048753023148 l-0.09297335520386696,0.1023724116384983 -0.0925240758806467,0.09782863780856133 l-0.03147723153233528,0.07129504345357418 -0.052495431154966354,0.08910048753023148 l-0.0450708344578743,0.058665769174695015 -0.052495431154966354,0.08910048753023148 l-0.07232228294014931,0.06766716949641705 -0.045366883277893066,0.05034166853874922 l-0.04558032378554344,0.05064724013209343 -0.04736727103590965,0.060332538560032845 l-0.05249544978141785,0.08910048753023148 -0.04541594535112381,0.06043218541890383 l-0.047328248620033264,0.059830350801348686 -0.047516822814941406,0.0602039135992527 l-0.04124045372009277,0.06491742096841335 -0.0474805012345314,0.059874141588807106 l-0.07306710816919804,0.06845848634839058 -0.047400202602148056,0.06022377870976925 l-0.0734699796885252,0.06867854855954647 -0.04735346883535385,0.06045543123036623 l-0.044792722910642624,0.060459673404693604 -0.04742184653878212,0.060188984498381615 l-0.045322440564632416,0.06085652858018875 -0.04107773303985596,0.06486846599727869 l-0.04500601440668106,0.057443478144705296 -0.04474323242902756,0.0503084622323513 l-0.045599695295095444,0.05050337873399258 -0.05249544978141785,0.08910048753023148 l-0.04553517326712608,0.060618408024311066 -0.045226551592350006,0.05011295434087515 l-0.047458261251449585,0.06007329560816288 -0.04750605672597885,0.060066431760787964 l-0.04739638417959213,0.05993125960230827 -0.04524819552898407,0.05019939038902521 l-0.047353506088256836,0.06007157266139984 -0.04564594477415085,0.05043026991188526 l-0.05249544978141785,0.08910048753023148 -0.05249544978141785,0.08910048753023148 l-0.04772018641233444,0.0595518434420228 -0.04566449671983719,0.05047314800322056 l-0.041175540536642075,0.06513319909572601 -0.047570858150720596,0.05972645245492458 l-0.04741327837109566,0.05996543448418379 -0.044954605400562286,0.0575444009155035 l-0.047620199620723724,0.06020462140440941 -0.04745110869407654,0.060028345324099064 l-0.04743870347738266,0.05998234264552593 -0.04141060635447502,0.06513954140245914 l-0.047521889209747314,0.05988898687064648 -0.04744768142700195,0.06003166548907757 l-0.04747606813907623,0.05999842192977667 -0.04110090434551239,0.06489692255854607 l-0.05249544978141785,0.08910048753023148 -0.04590792581439018,0.05013767629861832 l-0.04522021859884262,0.06085140164941549 -0.04752688109874725,0.06010408978909254 l-0.05249544978141785,0.08910048753023148 -0.041222721338272095,0.06472808308899403 l-0.047457627952098846,0.05978682544082403 \" fill=\"none\" stroke=\"black\" stroke-width=\"1\"/></svg>"
      ],
      "text/plain": [
       "<IPython.core.display.SVG object>"
      ]
     },
     "metadata": {},
     "output_type": "display_data"
    },
    {
     "data": {
      "image/svg+xml": [
       "<svg xmlns=\"http://www.w3.org/2000/svg\" xmlns:ev=\"http://www.w3.org/2001/xml-events\" xmlns:xlink=\"http://www.w3.org/1999/xlink\" baseProfile=\"full\" height=\"2800.0\" version=\"1.1\" width=\"3410.0\"><defs/><rect fill=\"white\" height=\"2800.0\" width=\"3410.0\" x=\"0\" y=\"0\"/><path d=\"M1290.0,465.0 m-125.0,-15.0 l-145.0,5.0 -195.0,50.0 l-250.0,100.0 -200.0,140.0 l-165.0,170.0 -110.0,200.0 l-60.0,230.0 -15.0,250.0 l65.0,275.0 140.0,295.0 l170.0,240.0 185.0,170.0 l165.0,95.0 200.0,55.0 l285.0,35.0 265.0,15.0 l385.0,-10.0 345.0,-85.0 l195.0,-95.0 225.0,-130.0 l400.0,-335.0 140.0,-185.0 l105.0,-180.0 80.0,-215.0 l10.0,-220.0 -50.0,-240.0 l-165.0,-370.0 -70.0,-90.0 l-230.0,-150.0 -375.0,-130.0 l-295.0,-70.0 -245.0,-30.0 l-530.0,125.0 -290.0,125.0 m-380.0,25.0 l0.0,-435.0 35.0,-55.0 l150.0,130.0 105.0,280.0 m1390.0,-135.0 l90.0,-100.0 210.0,-160.0 l65.0,235.0 30.0,205.0 m-1595.0,590.0 l15.0,60.0 25.0,5.0 l15.0,-35.0 -10.0,-70.0 l-25.0,35.0 m780.0,-70.0 l25.0,20.0 75.0,0.0 l-10.0,-35.0 -25.0,-10.0 l-20.0,15.0 m20.0,730.0 l30.0,25.0 575.0,40.0 l500.0,0.0 160.0,-15.0 m-1265.0,-20.0 l230.0,45.0 420.0,145.0 l205.0,40.0 m-875.0,-240.0 l85.0,185.0 355.0,520.0 l100.0,200.0 \" fill=\"none\" stroke=\"black\" stroke-width=\"1\"/></svg>"
      ],
      "text/plain": [
       "<IPython.core.display.SVG object>"
      ]
     },
     "metadata": {},
     "output_type": "display_data"
    }
   ],
   "source": [
    "from utils import draw_strokes\n",
    "\n",
    "@torch.inference_mode()\n",
    "def generate(model, input_seq):\n",
    "    prev = input_seq\n",
    "    \n",
    "    i = 0\n",
    "    while i < 60:\n",
    "        offset, state = model.forward(prev)\n",
    "        indices = torch.argmax(state, dim=-1)\n",
    "        one_hot = torch.nn.functional.one_hot(indices, 3)\n",
    "        pred = torch.cat((offset, one_hot), dim=-1)\n",
    "        next_seg = pred[:, -1:, :]\n",
    "        prev = torch.cat((prev, next_seg), dim=1)\n",
    "        i += 1\n",
    "    \n",
    "    return prev\n",
    "\n",
    "strokes = train_dataset[10][0]\n",
    "i = (strokes[:10]).unsqueeze(0)\n",
    "\n",
    "output_pred = generate(model, i.to(\"cuda\")).cpu().numpy()[0]\n",
    "output_actual = strokes[:70].numpy()\n",
    "draw_strokes(i[0], svg_filename='./input.svg')\n",
    "draw_strokes(output_pred, svg_filename='./sample.svg')\n",
    "draw_strokes(output_actual, svg_filename='./actual.svg')"
   ]
  }
 ],
 "metadata": {
  "kernelspec": {
   "display_name": "drawenv",
   "language": "python",
   "name": "python3"
  },
  "language_info": {
   "codemirror_mode": {
    "name": "ipython",
    "version": 3
   },
   "file_extension": ".py",
   "mimetype": "text/x-python",
   "name": "python",
   "nbconvert_exporter": "python",
   "pygments_lexer": "ipython3",
   "version": "3.11.8"
  }
 },
 "nbformat": 4,
 "nbformat_minor": 2
}

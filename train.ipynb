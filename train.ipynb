{
 "cells": [
  {
   "cell_type": "code",
   "execution_count": 3,
   "metadata": {},
   "outputs": [],
   "source": [
    "from tqdm import tqdm\n",
    "\n",
    "import torch\n",
    "from torch import nn\n",
    "from torch.utils.data import DataLoader\n",
    "\n",
    "from data import DrawingDataset\n",
    "\n",
    "# from mamba import Mamba, MambaConfig\n",
    "from mamba_ssm import Mamba"
   ]
  },
  {
   "cell_type": "code",
   "execution_count": 4,
   "metadata": {},
   "outputs": [
    {
     "name": "stderr",
     "output_type": "stream",
     "text": [
      "100%|██████████| 345/345 [03:30<00:00,  1.64it/s]\n",
      "100%|██████████| 345/345 [00:11<00:00, 28.95it/s]\n",
      "100%|██████████| 345/345 [00:09<00:00, 34.77it/s]\n"
     ]
    }
   ],
   "source": [
    "train_dataset = DrawingDataset(data_path=\"./data\", split=\"train\", max_length=100)\n",
    "val_dataset = DrawingDataset(data_path=\"./data\", split=\"valid\", max_length=100)\n",
    "test_dataset = DrawingDataset(data_path=\"./data\", split=\"test\", max_length=100)\n",
    "\n",
    "train = DataLoader(dataset=train_dataset, batch_size=64, shuffle=True)\n",
    "val = DataLoader(dataset=val_dataset, batch_size=64, shuffle=True)\n",
    "test = DataLoader(dataset=test_dataset, batch_size=64, shuffle=True)"
   ]
  },
  {
   "cell_type": "code",
   "execution_count": 5,
   "metadata": {},
   "outputs": [
    {
     "name": "stdout",
     "output_type": "stream",
     "text": [
      "Length of train dataloader: 351999\n",
      "Length of validation dataloader: 12567\n",
      "Length of test dataloader: 12574\n"
     ]
    },
    {
     "name": "stderr",
     "output_type": "stream",
     "text": [
      "0it [00:00, ?it/s]"
     ]
    },
    {
     "name": "stderr",
     "output_type": "stream",
     "text": [
      "0it [00:01, ?it/s]"
     ]
    },
    {
     "name": "stdout",
     "output_type": "stream",
     "text": [
      "torch.Size([64, 100, 5]) 64\n"
     ]
    },
    {
     "name": "stderr",
     "output_type": "stream",
     "text": [
      "\n"
     ]
    }
   ],
   "source": [
    "print(f\"Length of train dataloader: {len(train)}\")\n",
    "print(f\"Length of validation dataloader: {len(val)}\")\n",
    "print(f\"Length of test dataloader: {len(test)}\")\n",
    "\n",
    "for i,data in tqdm(enumerate(train)):\n",
    "    sketch, label = data\n",
    "    if i == 0:\n",
    "        print(sketch.shape, len(label))\n",
    "    break"
   ]
  },
  {
   "cell_type": "code",
   "execution_count": 39,
   "metadata": {},
   "outputs": [
    {
     "name": "stdout",
     "output_type": "stream",
     "text": [
      "torch.Size([64, 100, 5]) ('mushroom', 'pickup truck', 'headphones', 'spider', 'school bus', 'bed', 'rain', 'house plant', 'syringe', 'coffee cup', 'dog', 'tennis racquet', 'circle', 'door', 'submarine', 'eye', 'windmill', 'belt', 'moon', 'oven', 'crayon', 'calendar', 'swing set', 'camera', 'chair', 'octagon', 'snowman', 'ocean', 'dragon', 'helicopter', 'diving board', 'screwdriver', 'bear', 'hot tub', 'rainbow', 'flamingo', 'washing machine', 'donut', 'square', 'hospital', 'sleeping bag', 'spoon', 'watermelon', 'bathtub', 'airplane', 'bathtub', 'bulldozer', 'rainbow', 'harp', 'yoga', 'donut', 'skyscraper', 'diving board', 'television', 'harp', 'swan', 'mushroom', 'bracelet', 'calculator', 'hospital', 'lantern', 'police car', 'watermelon', 'dog')\n",
      "torch.Size([5])\n",
      "torch.Size([64, 100, 5])\n",
      "tensor([ 2.8204,  0.8388, -0.2776,  1.0534,  6.3715], device='cuda:0',\n",
      "       grad_fn=<SelectBackward0>)\n"
     ]
    }
   ],
   "source": [
    "print(sketch.shape, label)\n",
    "print(sketch[0][0].shape)\n",
    "# model = nn.Sequential(\n",
    "# )\n",
    "# reshaped = torch.reshape(sketch, (64, 5, 100))\n",
    "# print(reshaped.shape)\n",
    "# print(reshaped[0])\n",
    "model = Mamba(\n",
    "        d_model = 5,\n",
    "        d_state = 16,\n",
    "        d_conv = 4,\n",
    "        expand=2\n",
    "    ).to(\"cuda\")\n",
    "\n",
    "# print(sketch.dtype, sketch[0].size())\n",
    "criterion = nn.CrossEntropyLoss()\n",
    "optimizer = torch.optim.Adam(model.parameters(), lr=0.01)\n",
    "test = model(sketch.to(\"cuda\"))\n",
    "print(test.shape)\n",
    "print(test[0][0])\n",
    "# (B,L,D) - (64, 5, ???????????)"
   ]
  },
  {
   "cell_type": "code",
   "execution_count": null,
   "metadata": {},
   "outputs": [],
   "source": []
  }
 ],
 "metadata": {
  "kernelspec": {
   "display_name": "drawenv",
   "language": "python",
   "name": "python3"
  },
  "language_info": {
   "codemirror_mode": {
    "name": "ipython",
    "version": 3
   },
   "file_extension": ".py",
   "mimetype": "text/x-python",
   "name": "python",
   "nbconvert_exporter": "python",
   "pygments_lexer": "ipython3",
   "version": "3.11.8"
  }
 },
 "nbformat": 4,
 "nbformat_minor": 2
}

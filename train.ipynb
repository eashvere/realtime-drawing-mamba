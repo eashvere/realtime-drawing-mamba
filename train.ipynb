{
 "cells": [
  {
   "cell_type": "code",
   "execution_count": 1,
   "metadata": {},
   "outputs": [
    {
     "name": "stderr",
     "output_type": "stream",
     "text": [
      "/home/nicbat/miniconda3/envs/drawenv/lib/python3.11/site-packages/tqdm/auto.py:21: TqdmWarning: IProgress not found. Please update jupyter and ipywidgets. See https://ipywidgets.readthedocs.io/en/stable/user_install.html\n",
      "  from .autonotebook import tqdm as notebook_tqdm\n"
     ]
    }
   ],
   "source": [
    "from tqdm import tqdm\n",
    "\n",
    "import torch\n",
    "from torch import nn\n",
    "from torch.utils.data import DataLoader\n",
    "\n",
    "from data import DrawingDataset\n",
    "\n",
    "# from mamba import Mamba, MambaConfig\n",
    "from mamba_ssm import Mamba"
   ]
  },
  {
   "cell_type": "code",
   "execution_count": 2,
   "metadata": {},
   "outputs": [
    {
     "name": "stderr",
     "output_type": "stream",
     "text": [
      "100%|██████████| 345/345 [02:25<00:00,  2.37it/s]\n",
      "100%|██████████| 345/345 [00:05<00:00, 61.80it/s]\n",
      "100%|██████████| 345/345 [00:06<00:00, 56.32it/s]\n"
     ]
    }
   ],
   "source": [
    "train_dataset = DrawingDataset(data_path=\"./data\", split=\"train\", max_length=100)\n",
    "val_dataset = DrawingDataset(data_path=\"./data\", split=\"valid\", max_length=100)\n",
    "test_dataset = DrawingDataset(data_path=\"./data\", split=\"test\", max_length=100)\n",
    "\n",
    "train = DataLoader(dataset=train_dataset, batch_size=64, shuffle=True)\n",
    "val = DataLoader(dataset=val_dataset, batch_size=64, shuffle=True)\n",
    "test = DataLoader(dataset=test_dataset, batch_size=64, shuffle=True)"
   ]
  },
  {
   "cell_type": "code",
   "execution_count": 3,
   "metadata": {},
   "outputs": [
    {
     "name": "stdout",
     "output_type": "stream",
     "text": [
      "Length of train dataloader: 351999\n",
      "Length of validation dataloader: 12567\n",
      "Length of test dataloader: 12574\n"
     ]
    },
    {
     "name": "stderr",
     "output_type": "stream",
     "text": [
      "0it [00:00, ?it/s]"
     ]
    },
    {
     "name": "stderr",
     "output_type": "stream",
     "text": [
      "0it [00:01, ?it/s]"
     ]
    },
    {
     "name": "stdout",
     "output_type": "stream",
     "text": [
      "torch.Size([64, 100, 5]) 64\n",
      "tensor([[   8.,    1.,    1.,    0.,    0.],\n",
      "        [  15.,  -10.,    1.,    0.,    0.],\n",
      "        [  12.,  -15.,    1.,    0.,    0.],\n",
      "        [   2.,  -62.,    1.,    0.,    0.],\n",
      "        [  -7.,  -18.,    1.,    0.,    0.],\n",
      "        [ -14.,  -16.,    1.,    0.,    0.],\n",
      "        [ -28.,  -13.,    1.,    0.,    0.],\n",
      "        [ -36.,    1.,    1.,    0.,    0.],\n",
      "        [ -15.,   10.,    1.,    0.,    0.],\n",
      "        [ -16.,   28.,    1.,    0.,    0.],\n",
      "        [ -10.,   34.,    1.,    0.,    0.],\n",
      "        [  -7.,   12.,    1.,    0.,    0.],\n",
      "        [  -6.,    4.,    1.,    0.,    0.],\n",
      "        [  -5.,    2.,    1.,    0.,    0.],\n",
      "        [ -41.,   -2.,    1.,    0.,    0.],\n",
      "        [ -30.,   15.,    1.,    0.,    0.],\n",
      "        [  -4.,   22.,    1.,    0.,    0.],\n",
      "        [   3.,    6.,    1.,    0.,    0.],\n",
      "        [  15.,    7.,    1.,    0.,    0.],\n",
      "        [ 142.,   -1.,    1.,    0.,    0.],\n",
      "        [  11.,   -2.,    1.,    0.,    0.],\n",
      "        [  15.,   -8.,    0.,    1.,    0.],\n",
      "        [  26.,  -14.,    1.,    0.,    0.],\n",
      "        [  -7.,    1.,    1.,    0.,    0.],\n",
      "        [ -10.,    8.,    1.,    0.,    0.],\n",
      "        [ -20.,   25.,    1.,    0.,    0.],\n",
      "        [  -1.,   33.,    1.,    0.,    0.],\n",
      "        [  34.,   19.,    1.,    0.,    0.],\n",
      "        [  25.,    8.,    1.,    0.,    0.],\n",
      "        [  30.,    8.,    1.,    0.,    0.],\n",
      "        [ 118.,   16.,    1.,    0.,    0.],\n",
      "        [  86.,    0.,    1.,    0.,    0.],\n",
      "        [  61.,  -10.,    1.,    0.,    0.],\n",
      "        [  14.,   -4.,    1.,    0.,    0.],\n",
      "        [  13.,   -8.,    1.,    0.,    0.],\n",
      "        [  13.,  -24.,    1.,    0.,    0.],\n",
      "        [   1.,  -29.,    1.,    0.,    0.],\n",
      "        [  -9.,  -14.,    1.,    0.,    0.],\n",
      "        [  -7.,   -5.,    1.,    0.,    0.],\n",
      "        [ -22.,   -6.,    1.,    0.,    0.],\n",
      "        [ -70.,   -8.,    1.,    0.,    0.],\n",
      "        [ -13.,   -5.,    1.,    0.,    0.],\n",
      "        [ -90.,  -14.,    1.,    0.,    0.],\n",
      "        [ -98.,    0.,    1.,    0.,    0.],\n",
      "        [ -31.,    3.,    1.,    0.,    0.],\n",
      "        [ -25.,    6.,    1.,    0.,    0.],\n",
      "        [ -10.,    8.,    1.,    0.,    0.],\n",
      "        [   0.,    7.,    0.,    1.,    0.],\n",
      "        [  51.,   86.,    1.,    0.,    0.],\n",
      "        [ -11.,    2.,    1.,    0.,    0.],\n",
      "        [ -41.,   36.,    0.,    1.,    0.],\n",
      "        [  56.,  -36.,    1.,    0.,    0.],\n",
      "        [   4.,   30.,    1.,    0.,    0.],\n",
      "        [   8.,   28.,    1.,    0.,    0.],\n",
      "        [   6.,    1.,    0.,    1.,    0.],\n",
      "        [ 255.,  -52.,    1.,    0.,    0.],\n",
      "        [ -12.,   53.,    1.,    0.,    0.],\n",
      "        [   0.,   12.,    0.,    1.,    0.],\n",
      "        [  21.,  -64.,    1.,    0.,    0.],\n",
      "        [  16.,   81.,    0.,    1.,    0.],\n",
      "        [-429., -300.,    1.,    0.,    0.],\n",
      "        [  19.,    1.,    1.,    0.,    0.],\n",
      "        [  10.,   10.,    1.,    0.,    0.],\n",
      "        [   3.,   10.,    1.,    0.,    0.],\n",
      "        [  -3.,   41.,    1.,    0.,    0.],\n",
      "        [  10.,   13.,    1.,    0.,    0.],\n",
      "        [  17.,    6.,    0.,    1.,    0.],\n",
      "        [   0.,    0.,    0.,    0.,    1.],\n",
      "        [   0.,    0.,    0.,    0.,    1.],\n",
      "        [   0.,    0.,    0.,    0.,    1.],\n",
      "        [   0.,    0.,    0.,    0.,    1.],\n",
      "        [   0.,    0.,    0.,    0.,    1.],\n",
      "        [   0.,    0.,    0.,    0.,    1.],\n",
      "        [   0.,    0.,    0.,    0.,    1.],\n",
      "        [   0.,    0.,    0.,    0.,    1.],\n",
      "        [   0.,    0.,    0.,    0.,    1.],\n",
      "        [   0.,    0.,    0.,    0.,    1.],\n",
      "        [   0.,    0.,    0.,    0.,    1.],\n",
      "        [   0.,    0.,    0.,    0.,    1.],\n",
      "        [   0.,    0.,    0.,    0.,    1.],\n",
      "        [   0.,    0.,    0.,    0.,    1.],\n",
      "        [   0.,    0.,    0.,    0.,    1.],\n",
      "        [   0.,    0.,    0.,    0.,    1.],\n",
      "        [   0.,    0.,    0.,    0.,    1.],\n",
      "        [   0.,    0.,    0.,    0.,    1.],\n",
      "        [   0.,    0.,    0.,    0.,    1.],\n",
      "        [   0.,    0.,    0.,    0.,    1.],\n",
      "        [   0.,    0.,    0.,    0.,    1.],\n",
      "        [   0.,    0.,    0.,    0.,    1.],\n",
      "        [   0.,    0.,    0.,    0.,    1.],\n",
      "        [   0.,    0.,    0.,    0.,    1.],\n",
      "        [   0.,    0.,    0.,    0.,    1.],\n",
      "        [   0.,    0.,    0.,    0.,    1.],\n",
      "        [   0.,    0.,    0.,    0.,    1.],\n",
      "        [   0.,    0.,    0.,    0.,    1.],\n",
      "        [   0.,    0.,    0.,    0.,    1.],\n",
      "        [   0.,    0.,    0.,    0.,    1.],\n",
      "        [   0.,    0.,    0.,    0.,    1.],\n",
      "        [   0.,    0.,    0.,    0.,    1.],\n",
      "        [   0.,    0.,    0.,    0.,    1.]])\n"
     ]
    },
    {
     "name": "stderr",
     "output_type": "stream",
     "text": [
      "\n"
     ]
    }
   ],
   "source": [
    "print(f\"Length of train dataloader: {len(train)}\")\n",
    "print(f\"Length of validation dataloader: {len(val)}\")\n",
    "print(f\"Length of test dataloader: {len(test)}\")\n",
    "\n",
    "for i,data in tqdm(enumerate(train)):\n",
    "    sketch, label = data\n",
    "    if i == 0:\n",
    "        print(sketch.shape, len(label))\n",
    "        print(sketch[0])\n",
    "    break"
   ]
  },
  {
   "cell_type": "code",
   "execution_count": 4,
   "metadata": {},
   "outputs": [],
   "source": [
    "# inference = nn.Sequential(\n",
    "#     nn.RNN(5, 100, 100, 1),\n",
    "#     # nn.Linear(100, 345),\n",
    "# )\n",
    "\n",
    "# lr = 0.001\n",
    "# epochs = 5\n",
    "# criterion = nn.CrossEntropyLoss()\n",
    "# optimizer = torch.optim.Adam(inference.parameters(), lr=lr)\n",
    "# for epoch in range(epochs):\n",
    "#     for i, data in enumerate(train):\n",
    "#         sketch, label = data\n",
    "#         print(sketch.shape)\n",
    "#         optimizer.zero_grad()\n",
    "#         output = inference(sketch)\n",
    "#         loss = criterion(output, label)\n",
    "#         loss.backward()\n",
    "#         optimizer.step()\n",
    "#         print(f\"Epoch: {epoch}, Loss: {loss.item()}\")"
   ]
  },
  {
   "cell_type": "code",
   "execution_count": 5,
   "metadata": {},
   "outputs": [
    {
     "name": "stdout",
     "output_type": "stream",
     "text": [
      "torch.Size([64, 100, 5]) ('dog', 'barn', 'bulldozer', 'floor lamp', 'pillow', 'snail', 'mermaid', 'peas', 'rainbow', 'postcard', 'sword', 'train', 'The Mona Lisa', 'scissors', 'hedgehog', 'bathtub', 'chair', 'ear', 'marker', 'birthday cake', 'lollipop', 'owl', 'eyeglasses', 'mosquito', 'waterslide', 'lantern', 'sword', 'triangle', 'swan', 'teddy-bear', 'campfire', 'microwave', 'flip flops', 'donut', 'sandwich', 'foot', 'rollerskates', 'postcard', 'chandelier', 'sink', 'postcard', 'van', 'nail', 'violin', 'van', 'necklace', 'sock', 'crown', 'pickup truck', 'octopus', 'harp', 'passport', 'knife', 'mouse', 'crocodile', 'speedboat', 'rabbit', 'octopus', 'parachute', 'stove', 'bucket', 'pond', 'crown', 'golf club')\n",
      "torch.Size([5])\n",
      "torch.Size([64, 100, 5])\n",
      "tensor([-0.4441,  0.4422, -0.0507, -0.2075, -0.5100], device='cuda:0',\n",
      "       grad_fn=<SelectBackward0>)\n"
     ]
    }
   ],
   "source": [
    "print(sketch.shape, label)\n",
    "print(sketch[0][0].shape)\n",
    "# model = nn.Sequential(\n",
    "# )\n",
    "# reshaped = torch.reshape(sketch, (64, 5, 100))\n",
    "# print(reshaped.shape)\n",
    "# print(reshaped[0])\n",
    "model = Mamba(\n",
    "        d_model = 5,\n",
    "        d_state = 16,\n",
    "        d_conv = 4,\n",
    "        expand=2\n",
    "    ).to(\"cuda\")\n",
    "\n",
    "# print(sketch.dtype, sketch[0].size())\n",
    "criterion = nn.CrossEntropyLoss()\n",
    "optimizer = torch.optim.Adam(model.parameters(), lr=0.01)\n",
    "test = model(sketch.to(\"cuda\"))\n",
    "print(test.shape)\n",
    "print(test[0][0])\n",
    "# (B,L,D) - (64, 5, ???????????)"
   ]
  },
  {
   "cell_type": "code",
   "execution_count": null,
   "metadata": {},
   "outputs": [],
   "source": []
  }
 ],
 "metadata": {
  "kernelspec": {
   "display_name": "drawenv",
   "language": "python",
   "name": "python3"
  },
  "language_info": {
   "codemirror_mode": {
    "name": "ipython",
    "version": 3
   },
   "file_extension": ".py",
   "mimetype": "text/x-python",
   "name": "python",
   "nbconvert_exporter": "python",
   "pygments_lexer": "ipython3",
   "version": "3.11.8"
  }
 },
 "nbformat": 4,
 "nbformat_minor": 2
}

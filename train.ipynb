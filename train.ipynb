{
 "cells": [
  {
   "cell_type": "code",
   "execution_count": 1,
   "metadata": {},
   "outputs": [
    {
     "name": "stderr",
     "output_type": "stream",
     "text": [
      "/home/nicbat/miniconda3/envs/drawenv/lib/python3.11/site-packages/tqdm/auto.py:21: TqdmWarning: IProgress not found. Please update jupyter and ipywidgets. See https://ipywidgets.readthedocs.io/en/stable/user_install.html\n",
      "  from .autonotebook import tqdm as notebook_tqdm\n"
     ]
    }
   ],
   "source": [
    "from tqdm import tqdm\n",
    "\n",
    "import torch\n",
    "from torch import nn\n",
    "from torch.utils.data import DataLoader\n",
    "\n",
    "from data import DrawingDataset, collate_batch\n",
    "\n",
    "# from mamba import Mamba, MambaConfig\n",
    "from mamba_ssm import Mamba\n",
    "# from mamba_ssm.modules.mamba_simple import Block\n",
    "from mamba_ssm.models.mixer_seq_simple import create_block"
   ]
  },
  {
   "cell_type": "code",
   "execution_count": 2,
   "metadata": {},
   "outputs": [
    {
     "name": "stdout",
     "output_type": "stream",
     "text": [
      "True\n",
      "NVIDIA GeForce RTX 3050 Ti Laptop GPU\n",
      "_CudaDeviceProperties(name='NVIDIA GeForce RTX 3050 Ti Laptop GPU', major=8, minor=6, total_memory=4095MB, multi_processor_count=20)\n"
     ]
    }
   ],
   "source": [
    "print(torch.cuda.is_available())\n",
    "print(torch.cuda.get_device_name())\n",
    "print(torch.cuda.get_device_properties(0))"
   ]
  },
  {
   "cell_type": "code",
   "execution_count": 3,
   "metadata": {},
   "outputs": [
    {
     "name": "stderr",
     "output_type": "stream",
     "text": [
      "  0%|          | 1/345 [00:00<01:38,  3.49it/s]\n",
      "  0%|          | 1/345 [00:00<00:03, 99.41it/s]\n",
      "  0%|          | 1/345 [00:00<00:03, 95.13it/s]\n"
     ]
    }
   ],
   "source": [
    "train_dataset = DrawingDataset(data_path=\"./data\", split=\"train\", max_length=100)\n",
    "val_dataset = DrawingDataset(data_path=\"./data\", split=\"valid\", max_length=100)\n",
    "test_dataset = DrawingDataset(data_path=\"./data\", split=\"test\", max_length=100)\n",
    "\n",
    "train = DataLoader(dataset=train_dataset, batch_size=64, shuffle=True, collate_fn=collate_batch)\n",
    "val = DataLoader(dataset=val_dataset, batch_size=64, shuffle=True, collate_fn=collate_batch)\n",
    "test = DataLoader(dataset=test_dataset, batch_size=64, shuffle=True, collate_fn=collate_batch)"
   ]
  },
  {
   "cell_type": "code",
   "execution_count": 4,
   "metadata": {},
   "outputs": [],
   "source": [
    "# class mambaBlock(nn.Module):\n",
    "#     def __init__(self, d_model, d_state, d_conv, expand, n_layers):\n",
    "#         super(mambaBlock, self).__init__()\n",
    "#         self.d_model = d_model\n",
    "#         self.d_state = d_state\n",
    "#         self.d_conv = d_conv\n",
    "#         self.expand = expand\n",
    "#         self.n_layers = n_layers\n",
    "#         self.layers = []\n",
    "\n",
    "#         self.layers = nn.ModuleList([Mamba(d_model, d_state, d_conv, expand) for _ in range(n_layers)])\n",
    "\n",
    "#     def forward(self, x):\n",
    "#         for layer in self.layers:\n",
    "#             x = layer(x)\n",
    "#         return x\n",
    "\n",
    "class customModel(nn.Module):\n",
    "    def __init__(self, n_layers):\n",
    "        super(customModel, self).__init__()\n",
    "        # self.d_model = d_model\n",
    "        self.n_layers = n_layers\n",
    "        # self.m1 = mambaBlock(5, d_state, d_conv, expand, n_layers)\n",
    "        # self.leftm = mambaBlock(5, d_state, d_conv, expand, n_layers)\n",
    "        # self.rightm = mambaBlock(5, d_state, d_conv, expand, n_layers)\n",
    "        self.m1 = nn.ModuleList([create_block(5, device='cuda', layer_idx='i') for i in range(n_layers)])\n",
    "        self.leftm = nn.ModuleList([create_block(5, device='cuda', layer_idx='i') for i in range(n_layers)])\n",
    "        self.rightm = nn.ModuleList([create_block(5, device='cuda', layer_idx='i') for i in range(n_layers)])\n",
    "\n",
    "    def forward(self, x): # x is of shape (B, L, 5) (Batchsize, sequence length, dimension)\n",
    "        # x = self.m1(x)\n",
    "        hidden_states, residuals = x, None\n",
    "        for layer in self.m1:\n",
    "            hidden_states, residuals = layer(hidden_states, residuals)\n",
    "        \n",
    "        left_hidden_states, left_residuals = hidden_states, residuals\n",
    "        right_hidden_states, right_residuals = hidden_states, residuals\n",
    "\n",
    "        for layer in self.leftm:\n",
    "            left_hidden_states, left_residuals = layer(left_hidden_states, left_residuals)\n",
    "        for layer in self.rightm:\n",
    "            right_hidden_states, right_residuals = layer(right_hidden_states, right_residuals)\n",
    "        return left_hidden_states[:, :, :2], right_hidden_states[:, :, 2:]"
   ]
  },
  {
   "cell_type": "code",
   "execution_count": 8,
   "metadata": {},
   "outputs": [
    {
     "name": "stderr",
     "output_type": "stream",
     "text": [
      "  0%|          | 0/1094 [00:00<?, ?it/s]"
     ]
    },
    {
     "name": "stderr",
     "output_type": "stream",
     "text": [
      "100%|██████████| 1094/1094 [00:26<00:00, 40.80it/s]\n"
     ]
    },
    {
     "name": "stdout",
     "output_type": "stream",
     "text": [
      "Epoch: 1, Loss: 1073.641845703125, offset_loss: 940.0738525390625, state_loss: 133.56805419921875\n"
     ]
    },
    {
     "name": "stderr",
     "output_type": "stream",
     "text": [
      "100%|██████████| 1094/1094 [00:26<00:00, 40.98it/s]\n"
     ]
    },
    {
     "name": "stdout",
     "output_type": "stream",
     "text": [
      "Epoch: 2, Loss: 987.791015625, offset_loss: 856.3636474609375, state_loss: 131.42738342285156\n"
     ]
    },
    {
     "name": "stderr",
     "output_type": "stream",
     "text": [
      "100%|██████████| 1094/1094 [00:29<00:00, 36.60it/s]\n"
     ]
    },
    {
     "name": "stdout",
     "output_type": "stream",
     "text": [
      "Epoch: 3, Loss: 968.4552612304688, offset_loss: 836.7730712890625, state_loss: 131.6822052001953\n"
     ]
    },
    {
     "name": "stderr",
     "output_type": "stream",
     "text": [
      "100%|██████████| 1094/1094 [00:30<00:00, 35.81it/s]\n"
     ]
    },
    {
     "name": "stdout",
     "output_type": "stream",
     "text": [
      "Epoch: 4, Loss: 1494.5880126953125, offset_loss: 1363.9757080078125, state_loss: 130.61233520507812\n"
     ]
    },
    {
     "name": "stderr",
     "output_type": "stream",
     "text": [
      "100%|██████████| 1094/1094 [00:32<00:00, 33.16it/s]"
     ]
    },
    {
     "name": "stdout",
     "output_type": "stream",
     "text": [
      "Epoch: 5, Loss: 1000.082763671875, offset_loss: 869.1807250976562, state_loss: 130.9020538330078\n"
     ]
    },
    {
     "name": "stderr",
     "output_type": "stream",
     "text": [
      "\n"
     ]
    }
   ],
   "source": [
    "model = customModel(n_layers=4).to(\"cuda\")\n",
    "\n",
    "offset_crit = nn.MSELoss()\n",
    "state_crit = nn.CrossEntropyLoss()\n",
    "optimizer = torch.optim.Adam(model.parameters(), lr=1e-3)\n",
    "\n",
    "print_every = 500\n",
    "epochs = 5\n",
    "\n",
    "for epoch in range(epochs):\n",
    "    loss = None\n",
    "    offset_loss = None\n",
    "    state_loss = None\n",
    "    for data in tqdm(train):\n",
    "    # for i, data in enumerate(train):\n",
    "        inputs, targets = data\n",
    "        inputs = inputs.to(\"cuda\")\n",
    "        targets = targets.to(\"cuda\")\n",
    "        optimizer.zero_grad()\n",
    "        offsets, states = model(inputs)\n",
    "        offset_loss = offset_crit(offsets, targets[:, :, :2])\n",
    "        state_loss = state_crit(states, targets[:, :, 2:])\n",
    "        loss = offset_loss + state_loss\n",
    "        loss.backward()\n",
    "        optimizer.step()\n",
    "        # if i % print_every == 0:\n",
    "        #     print(f\"Epoch: {epoch+1}, Batch: {i}/{len(train)}, Loss: {loss}, offset_loss: {offset_loss}, state_loss: {state_loss}\")\n",
    "    print(f\"Epoch: {epoch+1}, Loss: {loss}, offset_loss: {offset_loss}, state_loss: {state_loss}\")"
   ]
  },
  {
   "cell_type": "code",
   "execution_count": null,
   "metadata": {},
   "outputs": [
    {
     "data": {
      "text/plain": [
       "True"
      ]
     },
     "execution_count": 14,
     "metadata": {},
     "output_type": "execute_result"
    }
   ],
   "source": []
  }
 ],
 "metadata": {
  "kernelspec": {
   "display_name": "drawenv",
   "language": "python",
   "name": "python3"
  },
  "language_info": {
   "codemirror_mode": {
    "name": "ipython",
    "version": 3
   },
   "file_extension": ".py",
   "mimetype": "text/x-python",
   "name": "python",
   "nbconvert_exporter": "python",
   "pygments_lexer": "ipython3",
   "version": "3.11.8"
  }
 },
 "nbformat": 4,
 "nbformat_minor": 2
}

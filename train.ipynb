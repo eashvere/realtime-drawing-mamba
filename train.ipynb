{
 "cells": [
  {
   "cell_type": "code",
   "execution_count": 1,
   "metadata": {},
   "outputs": [
    {
     "name": "stderr",
     "output_type": "stream",
     "text": [
      "2024-03-08 16:19:11.542600: I tensorflow/core/platform/cpu_feature_guard.cc:182] This TensorFlow binary is optimized to use available CPU instructions in performance-critical operations.\n",
      "To enable the following instructions: AVX2 FMA, in other operations, rebuild TensorFlow with the appropriate compiler flags.\n",
      "2024-03-08 16:19:12.152634: W tensorflow/compiler/tf2tensorrt/utils/py_utils.cc:38] TF-TRT Warning: Could not find TensorRT\n"
     ]
    }
   ],
   "source": [
    "import time\n",
    "import math\n",
    "from functools import partial\n",
    "from tqdm.auto import tqdm\n",
    "from tqdm.utils import _term_move_up\n",
    "\n",
    "prefix = _term_move_up() + '\\r'\n",
    "\n",
    "import torch\n",
    "from torch import nn\n",
    "from torch.utils.data import DataLoader\n",
    "from torch.utils.tensorboard import SummaryWriter\n",
    "\n",
    "# from mamba import Mamba, MambaConfig\n",
    "from mamba_ssm import Mamba\n",
    "# from mamba_ssm.modules.mamba_simple import Block\n",
    "from mamba_ssm.models.mixer_seq_simple import create_block, _init_weights\n",
    "\n",
    "from transformers import get_cosine_schedule_with_warmup\n",
    "\n",
    "from data import DrawingDataset\n",
    "from customModel import customModel\n",
    "\n",
    "%load_ext autoreload\n",
    "%autoreload 2"
   ]
  },
  {
   "cell_type": "code",
   "execution_count": 2,
   "metadata": {},
   "outputs": [
    {
     "name": "stdout",
     "output_type": "stream",
     "text": [
      "True\n",
      "NVIDIA GeForce GTX 1080\n",
      "_CudaDeviceProperties(name='NVIDIA GeForce GTX 1080', major=6, minor=1, total_memory=8110MB, multi_processor_count=20)\n"
     ]
    }
   ],
   "source": [
    "print(torch.cuda.is_available())\n",
    "print(torch.cuda.get_device_name())\n",
    "print(torch.cuda.get_device_properties(0))"
   ]
  },
  {
   "cell_type": "code",
   "execution_count": 3,
   "metadata": {},
   "outputs": [
    {
     "name": "stdout",
     "output_type": "stream",
     "text": [
      "['./data/The Eiffel Tower.npz', './data/The Great Wall of China.npz', './data/The Mona Lisa.npz', './data/aircraft carrier.npz', './data/airplane.npz', './data/alarm clock.npz', './data/ambulance.npz', './data/angel.npz', './data/animal migration.npz', './data/ant.npz', './data/anvil.npz', './data/apple.npz', './data/arm.npz', './data/asparagus.npz', './data/axe.npz', './data/backpack.npz', './data/banana.npz', './data/bandage.npz', './data/barn.npz', './data/baseball bat.npz', './data/baseball.npz', './data/basket.npz', './data/basketball.npz', './data/bat.npz', './data/bathtub.npz', './data/beach.npz', './data/bear.npz', './data/beard.npz', './data/bed.npz', './data/bee.npz', './data/belt.npz', './data/bench.npz', './data/bicycle.npz', './data/binoculars.npz', './data/bird.npz', './data/birthday cake.npz', './data/blackberry.npz', './data/blueberry.npz', './data/book.npz', './data/boomerang.npz', './data/bottlecap.npz', './data/bowtie.npz', './data/bracelet.npz', './data/brain.npz', './data/bread.npz', './data/bridge.npz', './data/broccoli.npz', './data/broom.npz', './data/bucket.npz', './data/bulldozer.npz', './data/bus.npz', './data/bush.npz', './data/butterfly.npz', './data/cactus.npz', './data/cake.npz', './data/calculator.npz', './data/calendar.npz', './data/camel.npz', './data/camera.npz', './data/camouflage.npz', './data/campfire.npz', './data/candle.npz', './data/cannon.npz', './data/canoe.npz', './data/car.npz', './data/carrot.npz', './data/castle.npz', './data/cat.npz', './data/ceiling fan.npz', './data/cell phone.npz', './data/cello.npz', './data/chair.npz', './data/chandelier.npz', './data/church.npz', './data/circle.npz', './data/clarinet.npz', './data/clock.npz', './data/cloud.npz', './data/coffee cup.npz', './data/compass.npz', './data/computer.npz', './data/cookie.npz', './data/cooler.npz', './data/couch.npz', './data/cow.npz', './data/crab.npz', './data/crayon.npz', './data/crocodile.npz', './data/crown.npz', './data/cruise ship.npz', './data/cup.npz', './data/diamond.npz', './data/dishwasher.npz', './data/diving board.npz', './data/dog.npz', './data/dolphin.npz', './data/donut.npz', './data/door.npz', './data/dragon.npz', './data/dresser.npz', './data/drill.npz', './data/drums.npz', './data/duck.npz', './data/dumbbell.npz', './data/ear.npz', './data/elbow.npz', './data/elephant.npz', './data/envelope.npz', './data/eraser.npz', './data/eye.npz', './data/eyeglasses.npz', './data/face.npz', './data/fan.npz', './data/feather.npz', './data/fence.npz', './data/finger.npz', './data/fire hydrant.npz', './data/fireplace.npz', './data/firetruck.npz', './data/fish.npz', './data/flamingo.npz', './data/flashlight.npz', './data/flip flops.npz', './data/floor lamp.npz', './data/flower.npz', './data/flying saucer.npz', './data/foot.npz', './data/fork.npz', './data/frog.npz', './data/frying pan.npz', './data/garden hose.npz', './data/garden.npz', './data/giraffe.npz', './data/goatee.npz', './data/golf club.npz', './data/grapes.npz', './data/grass.npz', './data/guitar.npz', './data/hamburger.npz', './data/hammer.npz', './data/hand.npz', './data/harp.npz', './data/hat.npz', './data/headphones.npz', './data/hedgehog.npz', './data/helicopter.npz', './data/helmet.npz', './data/hexagon.npz', './data/hockey puck.npz', './data/hockey stick.npz', './data/horse.npz', './data/hospital.npz', './data/hot air balloon.npz', './data/hot dog.npz', './data/hot tub.npz', './data/hourglass.npz', './data/house plant.npz', './data/house.npz', './data/hurricane.npz', './data/ice cream.npz', './data/jacket.npz', './data/jail.npz', './data/kangaroo.npz', './data/key.npz', './data/keyboard.npz', './data/knee.npz', './data/knife.npz', './data/ladder.npz', './data/lantern.npz', './data/laptop.npz', './data/leaf.npz', './data/leg.npz', './data/light bulb.npz', './data/lighter.npz', './data/lighthouse.npz', './data/lightning.npz', './data/line.npz', './data/lion.npz', './data/lipstick.npz', './data/lobster.npz', './data/lollipop.npz', './data/mailbox.npz', './data/map.npz', './data/marker.npz', './data/matches.npz', './data/megaphone.npz', './data/mermaid.npz', './data/microphone.npz', './data/microwave.npz', './data/monkey.npz', './data/moon.npz', './data/mosquito.npz', './data/motorbike.npz', './data/mountain.npz', './data/mouse.npz', './data/moustache.npz', './data/mouth.npz', './data/mug.npz', './data/mushroom.npz', './data/nail.npz', './data/necklace.npz', './data/nose.npz', './data/ocean.npz', './data/octagon.npz', './data/octopus.npz', './data/onion.npz', './data/oven.npz', './data/owl.npz', './data/paint can.npz', './data/paintbrush.npz', './data/palm tree.npz', './data/panda.npz', './data/pants.npz', './data/paper clip.npz', './data/parachute.npz', './data/parrot.npz', './data/passport.npz', './data/peanut.npz', './data/pear.npz', './data/peas.npz', './data/pencil.npz', './data/penguin.npz', './data/piano.npz', './data/pickup truck.npz', './data/picture frame.npz', './data/pig.npz', './data/pillow.npz', './data/pineapple.npz', './data/pizza.npz', './data/pliers.npz', './data/police car.npz', './data/pond.npz', './data/pool.npz', './data/popsicle.npz', './data/postcard.npz', './data/potato.npz', './data/power outlet.npz', './data/purse.npz', './data/rabbit.npz', './data/raccoon.npz', './data/radio.npz', './data/rain.npz', './data/rainbow.npz', './data/rake.npz', './data/remote control.npz', './data/rhinoceros.npz', './data/rifle.npz', './data/river.npz', './data/roller coaster.npz', './data/rollerskates.npz', './data/sailboat.npz', './data/sandwich.npz', './data/saw.npz', './data/saxophone.npz', './data/school bus.npz', './data/scissors.npz', './data/scorpion.npz', './data/screwdriver.npz', './data/sea turtle.npz', './data/see saw.npz', './data/shark.npz', './data/sheep.npz', './data/shoe.npz', './data/shorts.npz', './data/shovel.npz', './data/sink.npz', './data/skateboard.npz', './data/skull.npz', './data/skyscraper.npz', './data/sleeping bag.npz', './data/smiley face.npz', './data/snail.npz', './data/snake.npz', './data/snorkel.npz', './data/snowflake.npz', './data/snowman.npz', './data/soccer ball.npz', './data/sock.npz', './data/speedboat.npz', './data/spider.npz', './data/spoon.npz', './data/spreadsheet.npz', './data/square.npz', './data/squiggle.npz', './data/squirrel.npz', './data/stairs.npz', './data/star.npz', './data/steak.npz', './data/stereo.npz', './data/stethoscope.npz', './data/stitches.npz', './data/stop sign.npz', './data/stove.npz', './data/strawberry.npz', './data/streetlight.npz', './data/string bean.npz', './data/submarine.npz', './data/suitcase.npz', './data/sun.npz', './data/swan.npz', './data/sweater.npz', './data/swing set.npz', './data/sword.npz', './data/syringe.npz', './data/t-shirt.npz', './data/table.npz', './data/teapot.npz', './data/teddy-bear.npz', './data/telephone.npz', './data/television.npz', './data/tennis racquet.npz', './data/tent.npz', './data/tiger.npz', './data/toaster.npz', './data/toe.npz', './data/toilet.npz', './data/tooth.npz', './data/toothbrush.npz', './data/toothpaste.npz', './data/tornado.npz', './data/tractor.npz', './data/traffic light.npz', './data/train.npz', './data/tree.npz', './data/triangle.npz', './data/trombone.npz', './data/truck.npz', './data/trumpet.npz', './data/umbrella.npz', './data/underwear.npz', './data/van.npz', './data/vase.npz', './data/violin.npz', './data/washing machine.npz', './data/watermelon.npz', './data/waterslide.npz', './data/whale.npz', './data/wheel.npz', './data/windmill.npz', './data/wine bottle.npz', './data/wine glass.npz', './data/wristwatch.npz', './data/yoga.npz', './data/zebra.npz', './data/zigzag.npz']\n"
     ]
    },
    {
     "name": "stderr",
     "output_type": "stream",
     "text": [
      "  0%|          | 0/345 [00:00<?, ?it/s]"
     ]
    },
    {
     "name": "stderr",
     "output_type": "stream",
     "text": [
      "  0%|          | 1/345 [00:00<02:55,  1.96it/s]\n"
     ]
    },
    {
     "name": "stdout",
     "output_type": "stream",
     "text": [
      "['./data/The Eiffel Tower.npz', './data/The Great Wall of China.npz', './data/The Mona Lisa.npz', './data/aircraft carrier.npz', './data/airplane.npz', './data/alarm clock.npz', './data/ambulance.npz', './data/angel.npz', './data/animal migration.npz', './data/ant.npz', './data/anvil.npz', './data/apple.npz', './data/arm.npz', './data/asparagus.npz', './data/axe.npz', './data/backpack.npz', './data/banana.npz', './data/bandage.npz', './data/barn.npz', './data/baseball bat.npz', './data/baseball.npz', './data/basket.npz', './data/basketball.npz', './data/bat.npz', './data/bathtub.npz', './data/beach.npz', './data/bear.npz', './data/beard.npz', './data/bed.npz', './data/bee.npz', './data/belt.npz', './data/bench.npz', './data/bicycle.npz', './data/binoculars.npz', './data/bird.npz', './data/birthday cake.npz', './data/blackberry.npz', './data/blueberry.npz', './data/book.npz', './data/boomerang.npz', './data/bottlecap.npz', './data/bowtie.npz', './data/bracelet.npz', './data/brain.npz', './data/bread.npz', './data/bridge.npz', './data/broccoli.npz', './data/broom.npz', './data/bucket.npz', './data/bulldozer.npz', './data/bus.npz', './data/bush.npz', './data/butterfly.npz', './data/cactus.npz', './data/cake.npz', './data/calculator.npz', './data/calendar.npz', './data/camel.npz', './data/camera.npz', './data/camouflage.npz', './data/campfire.npz', './data/candle.npz', './data/cannon.npz', './data/canoe.npz', './data/car.npz', './data/carrot.npz', './data/castle.npz', './data/cat.npz', './data/ceiling fan.npz', './data/cell phone.npz', './data/cello.npz', './data/chair.npz', './data/chandelier.npz', './data/church.npz', './data/circle.npz', './data/clarinet.npz', './data/clock.npz', './data/cloud.npz', './data/coffee cup.npz', './data/compass.npz', './data/computer.npz', './data/cookie.npz', './data/cooler.npz', './data/couch.npz', './data/cow.npz', './data/crab.npz', './data/crayon.npz', './data/crocodile.npz', './data/crown.npz', './data/cruise ship.npz', './data/cup.npz', './data/diamond.npz', './data/dishwasher.npz', './data/diving board.npz', './data/dog.npz', './data/dolphin.npz', './data/donut.npz', './data/door.npz', './data/dragon.npz', './data/dresser.npz', './data/drill.npz', './data/drums.npz', './data/duck.npz', './data/dumbbell.npz', './data/ear.npz', './data/elbow.npz', './data/elephant.npz', './data/envelope.npz', './data/eraser.npz', './data/eye.npz', './data/eyeglasses.npz', './data/face.npz', './data/fan.npz', './data/feather.npz', './data/fence.npz', './data/finger.npz', './data/fire hydrant.npz', './data/fireplace.npz', './data/firetruck.npz', './data/fish.npz', './data/flamingo.npz', './data/flashlight.npz', './data/flip flops.npz', './data/floor lamp.npz', './data/flower.npz', './data/flying saucer.npz', './data/foot.npz', './data/fork.npz', './data/frog.npz', './data/frying pan.npz', './data/garden hose.npz', './data/garden.npz', './data/giraffe.npz', './data/goatee.npz', './data/golf club.npz', './data/grapes.npz', './data/grass.npz', './data/guitar.npz', './data/hamburger.npz', './data/hammer.npz', './data/hand.npz', './data/harp.npz', './data/hat.npz', './data/headphones.npz', './data/hedgehog.npz', './data/helicopter.npz', './data/helmet.npz', './data/hexagon.npz', './data/hockey puck.npz', './data/hockey stick.npz', './data/horse.npz', './data/hospital.npz', './data/hot air balloon.npz', './data/hot dog.npz', './data/hot tub.npz', './data/hourglass.npz', './data/house plant.npz', './data/house.npz', './data/hurricane.npz', './data/ice cream.npz', './data/jacket.npz', './data/jail.npz', './data/kangaroo.npz', './data/key.npz', './data/keyboard.npz', './data/knee.npz', './data/knife.npz', './data/ladder.npz', './data/lantern.npz', './data/laptop.npz', './data/leaf.npz', './data/leg.npz', './data/light bulb.npz', './data/lighter.npz', './data/lighthouse.npz', './data/lightning.npz', './data/line.npz', './data/lion.npz', './data/lipstick.npz', './data/lobster.npz', './data/lollipop.npz', './data/mailbox.npz', './data/map.npz', './data/marker.npz', './data/matches.npz', './data/megaphone.npz', './data/mermaid.npz', './data/microphone.npz', './data/microwave.npz', './data/monkey.npz', './data/moon.npz', './data/mosquito.npz', './data/motorbike.npz', './data/mountain.npz', './data/mouse.npz', './data/moustache.npz', './data/mouth.npz', './data/mug.npz', './data/mushroom.npz', './data/nail.npz', './data/necklace.npz', './data/nose.npz', './data/ocean.npz', './data/octagon.npz', './data/octopus.npz', './data/onion.npz', './data/oven.npz', './data/owl.npz', './data/paint can.npz', './data/paintbrush.npz', './data/palm tree.npz', './data/panda.npz', './data/pants.npz', './data/paper clip.npz', './data/parachute.npz', './data/parrot.npz', './data/passport.npz', './data/peanut.npz', './data/pear.npz', './data/peas.npz', './data/pencil.npz', './data/penguin.npz', './data/piano.npz', './data/pickup truck.npz', './data/picture frame.npz', './data/pig.npz', './data/pillow.npz', './data/pineapple.npz', './data/pizza.npz', './data/pliers.npz', './data/police car.npz', './data/pond.npz', './data/pool.npz', './data/popsicle.npz', './data/postcard.npz', './data/potato.npz', './data/power outlet.npz', './data/purse.npz', './data/rabbit.npz', './data/raccoon.npz', './data/radio.npz', './data/rain.npz', './data/rainbow.npz', './data/rake.npz', './data/remote control.npz', './data/rhinoceros.npz', './data/rifle.npz', './data/river.npz', './data/roller coaster.npz', './data/rollerskates.npz', './data/sailboat.npz', './data/sandwich.npz', './data/saw.npz', './data/saxophone.npz', './data/school bus.npz', './data/scissors.npz', './data/scorpion.npz', './data/screwdriver.npz', './data/sea turtle.npz', './data/see saw.npz', './data/shark.npz', './data/sheep.npz', './data/shoe.npz', './data/shorts.npz', './data/shovel.npz', './data/sink.npz', './data/skateboard.npz', './data/skull.npz', './data/skyscraper.npz', './data/sleeping bag.npz', './data/smiley face.npz', './data/snail.npz', './data/snake.npz', './data/snorkel.npz', './data/snowflake.npz', './data/snowman.npz', './data/soccer ball.npz', './data/sock.npz', './data/speedboat.npz', './data/spider.npz', './data/spoon.npz', './data/spreadsheet.npz', './data/square.npz', './data/squiggle.npz', './data/squirrel.npz', './data/stairs.npz', './data/star.npz', './data/steak.npz', './data/stereo.npz', './data/stethoscope.npz', './data/stitches.npz', './data/stop sign.npz', './data/stove.npz', './data/strawberry.npz', './data/streetlight.npz', './data/string bean.npz', './data/submarine.npz', './data/suitcase.npz', './data/sun.npz', './data/swan.npz', './data/sweater.npz', './data/swing set.npz', './data/sword.npz', './data/syringe.npz', './data/t-shirt.npz', './data/table.npz', './data/teapot.npz', './data/teddy-bear.npz', './data/telephone.npz', './data/television.npz', './data/tennis racquet.npz', './data/tent.npz', './data/tiger.npz', './data/toaster.npz', './data/toe.npz', './data/toilet.npz', './data/tooth.npz', './data/toothbrush.npz', './data/toothpaste.npz', './data/tornado.npz', './data/tractor.npz', './data/traffic light.npz', './data/train.npz', './data/tree.npz', './data/triangle.npz', './data/trombone.npz', './data/truck.npz', './data/trumpet.npz', './data/umbrella.npz', './data/underwear.npz', './data/van.npz', './data/vase.npz', './data/violin.npz', './data/washing machine.npz', './data/watermelon.npz', './data/waterslide.npz', './data/whale.npz', './data/wheel.npz', './data/windmill.npz', './data/wine bottle.npz', './data/wine glass.npz', './data/wristwatch.npz', './data/yoga.npz', './data/zebra.npz', './data/zigzag.npz']\n"
     ]
    },
    {
     "name": "stderr",
     "output_type": "stream",
     "text": [
      "  0%|          | 1/345 [00:00<00:06, 51.89it/s]\n"
     ]
    },
    {
     "name": "stdout",
     "output_type": "stream",
     "text": [
      "['./data/The Eiffel Tower.npz', './data/The Great Wall of China.npz', './data/The Mona Lisa.npz', './data/aircraft carrier.npz', './data/airplane.npz', './data/alarm clock.npz', './data/ambulance.npz', './data/angel.npz', './data/animal migration.npz', './data/ant.npz', './data/anvil.npz', './data/apple.npz', './data/arm.npz', './data/asparagus.npz', './data/axe.npz', './data/backpack.npz', './data/banana.npz', './data/bandage.npz', './data/barn.npz', './data/baseball bat.npz', './data/baseball.npz', './data/basket.npz', './data/basketball.npz', './data/bat.npz', './data/bathtub.npz', './data/beach.npz', './data/bear.npz', './data/beard.npz', './data/bed.npz', './data/bee.npz', './data/belt.npz', './data/bench.npz', './data/bicycle.npz', './data/binoculars.npz', './data/bird.npz', './data/birthday cake.npz', './data/blackberry.npz', './data/blueberry.npz', './data/book.npz', './data/boomerang.npz', './data/bottlecap.npz', './data/bowtie.npz', './data/bracelet.npz', './data/brain.npz', './data/bread.npz', './data/bridge.npz', './data/broccoli.npz', './data/broom.npz', './data/bucket.npz', './data/bulldozer.npz', './data/bus.npz', './data/bush.npz', './data/butterfly.npz', './data/cactus.npz', './data/cake.npz', './data/calculator.npz', './data/calendar.npz', './data/camel.npz', './data/camera.npz', './data/camouflage.npz', './data/campfire.npz', './data/candle.npz', './data/cannon.npz', './data/canoe.npz', './data/car.npz', './data/carrot.npz', './data/castle.npz', './data/cat.npz', './data/ceiling fan.npz', './data/cell phone.npz', './data/cello.npz', './data/chair.npz', './data/chandelier.npz', './data/church.npz', './data/circle.npz', './data/clarinet.npz', './data/clock.npz', './data/cloud.npz', './data/coffee cup.npz', './data/compass.npz', './data/computer.npz', './data/cookie.npz', './data/cooler.npz', './data/couch.npz', './data/cow.npz', './data/crab.npz', './data/crayon.npz', './data/crocodile.npz', './data/crown.npz', './data/cruise ship.npz', './data/cup.npz', './data/diamond.npz', './data/dishwasher.npz', './data/diving board.npz', './data/dog.npz', './data/dolphin.npz', './data/donut.npz', './data/door.npz', './data/dragon.npz', './data/dresser.npz', './data/drill.npz', './data/drums.npz', './data/duck.npz', './data/dumbbell.npz', './data/ear.npz', './data/elbow.npz', './data/elephant.npz', './data/envelope.npz', './data/eraser.npz', './data/eye.npz', './data/eyeglasses.npz', './data/face.npz', './data/fan.npz', './data/feather.npz', './data/fence.npz', './data/finger.npz', './data/fire hydrant.npz', './data/fireplace.npz', './data/firetruck.npz', './data/fish.npz', './data/flamingo.npz', './data/flashlight.npz', './data/flip flops.npz', './data/floor lamp.npz', './data/flower.npz', './data/flying saucer.npz', './data/foot.npz', './data/fork.npz', './data/frog.npz', './data/frying pan.npz', './data/garden hose.npz', './data/garden.npz', './data/giraffe.npz', './data/goatee.npz', './data/golf club.npz', './data/grapes.npz', './data/grass.npz', './data/guitar.npz', './data/hamburger.npz', './data/hammer.npz', './data/hand.npz', './data/harp.npz', './data/hat.npz', './data/headphones.npz', './data/hedgehog.npz', './data/helicopter.npz', './data/helmet.npz', './data/hexagon.npz', './data/hockey puck.npz', './data/hockey stick.npz', './data/horse.npz', './data/hospital.npz', './data/hot air balloon.npz', './data/hot dog.npz', './data/hot tub.npz', './data/hourglass.npz', './data/house plant.npz', './data/house.npz', './data/hurricane.npz', './data/ice cream.npz', './data/jacket.npz', './data/jail.npz', './data/kangaroo.npz', './data/key.npz', './data/keyboard.npz', './data/knee.npz', './data/knife.npz', './data/ladder.npz', './data/lantern.npz', './data/laptop.npz', './data/leaf.npz', './data/leg.npz', './data/light bulb.npz', './data/lighter.npz', './data/lighthouse.npz', './data/lightning.npz', './data/line.npz', './data/lion.npz', './data/lipstick.npz', './data/lobster.npz', './data/lollipop.npz', './data/mailbox.npz', './data/map.npz', './data/marker.npz', './data/matches.npz', './data/megaphone.npz', './data/mermaid.npz', './data/microphone.npz', './data/microwave.npz', './data/monkey.npz', './data/moon.npz', './data/mosquito.npz', './data/motorbike.npz', './data/mountain.npz', './data/mouse.npz', './data/moustache.npz', './data/mouth.npz', './data/mug.npz', './data/mushroom.npz', './data/nail.npz', './data/necklace.npz', './data/nose.npz', './data/ocean.npz', './data/octagon.npz', './data/octopus.npz', './data/onion.npz', './data/oven.npz', './data/owl.npz', './data/paint can.npz', './data/paintbrush.npz', './data/palm tree.npz', './data/panda.npz', './data/pants.npz', './data/paper clip.npz', './data/parachute.npz', './data/parrot.npz', './data/passport.npz', './data/peanut.npz', './data/pear.npz', './data/peas.npz', './data/pencil.npz', './data/penguin.npz', './data/piano.npz', './data/pickup truck.npz', './data/picture frame.npz', './data/pig.npz', './data/pillow.npz', './data/pineapple.npz', './data/pizza.npz', './data/pliers.npz', './data/police car.npz', './data/pond.npz', './data/pool.npz', './data/popsicle.npz', './data/postcard.npz', './data/potato.npz', './data/power outlet.npz', './data/purse.npz', './data/rabbit.npz', './data/raccoon.npz', './data/radio.npz', './data/rain.npz', './data/rainbow.npz', './data/rake.npz', './data/remote control.npz', './data/rhinoceros.npz', './data/rifle.npz', './data/river.npz', './data/roller coaster.npz', './data/rollerskates.npz', './data/sailboat.npz', './data/sandwich.npz', './data/saw.npz', './data/saxophone.npz', './data/school bus.npz', './data/scissors.npz', './data/scorpion.npz', './data/screwdriver.npz', './data/sea turtle.npz', './data/see saw.npz', './data/shark.npz', './data/sheep.npz', './data/shoe.npz', './data/shorts.npz', './data/shovel.npz', './data/sink.npz', './data/skateboard.npz', './data/skull.npz', './data/skyscraper.npz', './data/sleeping bag.npz', './data/smiley face.npz', './data/snail.npz', './data/snake.npz', './data/snorkel.npz', './data/snowflake.npz', './data/snowman.npz', './data/soccer ball.npz', './data/sock.npz', './data/speedboat.npz', './data/spider.npz', './data/spoon.npz', './data/spreadsheet.npz', './data/square.npz', './data/squiggle.npz', './data/squirrel.npz', './data/stairs.npz', './data/star.npz', './data/steak.npz', './data/stereo.npz', './data/stethoscope.npz', './data/stitches.npz', './data/stop sign.npz', './data/stove.npz', './data/strawberry.npz', './data/streetlight.npz', './data/string bean.npz', './data/submarine.npz', './data/suitcase.npz', './data/sun.npz', './data/swan.npz', './data/sweater.npz', './data/swing set.npz', './data/sword.npz', './data/syringe.npz', './data/t-shirt.npz', './data/table.npz', './data/teapot.npz', './data/teddy-bear.npz', './data/telephone.npz', './data/television.npz', './data/tennis racquet.npz', './data/tent.npz', './data/tiger.npz', './data/toaster.npz', './data/toe.npz', './data/toilet.npz', './data/tooth.npz', './data/toothbrush.npz', './data/toothpaste.npz', './data/tornado.npz', './data/tractor.npz', './data/traffic light.npz', './data/train.npz', './data/tree.npz', './data/triangle.npz', './data/trombone.npz', './data/truck.npz', './data/trumpet.npz', './data/umbrella.npz', './data/underwear.npz', './data/van.npz', './data/vase.npz', './data/violin.npz', './data/washing machine.npz', './data/watermelon.npz', './data/waterslide.npz', './data/whale.npz', './data/wheel.npz', './data/windmill.npz', './data/wine bottle.npz', './data/wine glass.npz', './data/wristwatch.npz', './data/yoga.npz', './data/zebra.npz', './data/zigzag.npz']\n"
     ]
    },
    {
     "name": "stderr",
     "output_type": "stream",
     "text": [
      "  0%|          | 1/345 [00:00<00:08, 41.99it/s]\n"
     ]
    }
   ],
   "source": [
    "batch_size = 64\n",
    "max_length = 100\n",
    "\n",
    "train_dataset = DrawingDataset(data_path=\"./data\", split=\"train\", max_length=max_length)\n",
    "val_dataset = DrawingDataset(data_path=\"./data\", split=\"valid\", max_length=max_length)\n",
    "test_dataset = DrawingDataset(data_path=\"./data\", split=\"test\", max_length=max_length)\n",
    "\n",
    "train = DataLoader(dataset=train_dataset, batch_size=batch_size, shuffle=True)\n",
    "val = DataLoader(dataset=val_dataset, batch_size=batch_size, shuffle=True)\n",
    "test = DataLoader(dataset=test_dataset, batch_size=batch_size, shuffle=True)"
   ]
  },
  {
   "cell_type": "code",
   "execution_count": 9,
   "metadata": {},
   "outputs": [
    {
     "name": "stdout",
     "output_type": "stream",
     "text": [
      "0.004042673293062811\n"
     ]
    }
   ],
   "source": [
    "log_interval = 25\n",
    "epochs = 10\n",
    "\n",
    "batches = len(train)\n",
    "\n",
    "model = customModel(nb=4, no=2, ns=2, embed_dim=256).to(\"cuda\")\n",
    "\n",
    "offset_crit = nn.MSELoss(reduction='none')\n",
    "state_crit = nn.CrossEntropyLoss()\n",
    "\n",
    "#optimizer = torch.optim.RAdam(model.parameters(), lr=5e-4)\n",
    "warmup_ratio = 0.03\n",
    "\n",
    "print(0.05 * math.sqrt(batch_size / (batches * epochs)))\n",
    "optimizer = torch.optim.AdamW(model.parameters(), \n",
    "                              lr=1e-3, betas=(0.99, 0.95), eps=1e-4,\n",
    "                              weight_decay=0.05 * math.sqrt(batch_size / (batches * epochs)))   \n",
    "scheduler = get_cosine_schedule_with_warmup(optimizer, \n",
    "                                            num_warmup_steps=1,\n",
    "                                            num_training_steps=epochs)\n",
    "\n",
    "writer = SummaryWriter('./logs')\n",
    "\n",
    "def train_model(model, data_loader, optimizer, epoch):\n",
    "    model.train()\n",
    "    \n",
    "    size = len(data_loader)\n",
    "    \n",
    "    # Total Losses\n",
    "    total_loss = 0\n",
    "    total_offset_loss = 0\n",
    "    total_state_loss = 0\n",
    "    \n",
    "    # Running Losses\n",
    "    running_loss = 0\n",
    "    running_offset_loss = 0\n",
    "    running_state_loss = 0\n",
    "    \n",
    "    running_correct = 0\n",
    "    running_total = 0\n",
    "    \n",
    "    running_mse = 0\n",
    "    \n",
    "    start_time = time.time()\n",
    "    \n",
    "    for i, data in enumerate(tqdm(data_loader)):\n",
    "        optimizer.zero_grad()\n",
    "        \n",
    "        inputs, targets = data\n",
    "        inputs = inputs.to(\"cuda\")\n",
    "        targets = targets.to(\"cuda\")\n",
    "        \n",
    "        offsets, states = model(inputs)\n",
    "        \n",
    "        # Split Target\n",
    "        offset_target = targets[:, :, :2]\n",
    "        state_target = targets[:, :, 2:].argmax(dim=-1)\n",
    "        no_pad_mask = state_target != 2\n",
    "        \n",
    "        # Masked MSE Loss for offset\n",
    "        offset_loss = offset_crit(offsets, offset_target)\n",
    "        offset_loss_mask = offset_loss * no_pad_mask.unsqueeze(-1).float()\n",
    "        \n",
    "        offset_loss = offset_loss_mask.sum() / no_pad_mask.sum()\n",
    "        \n",
    "        # Cross Entropy Loss for State\n",
    "        state_loss = state_crit(states.transpose(1, 2), state_target)\n",
    "        loss = offset_loss + state_loss\n",
    "        \n",
    "        # Calculate other metrics (accuracy)\n",
    "        with torch.no_grad():\n",
    "            states_softmax = torch.nn.functional.softmax(states, dim=-1)\n",
    "            states_pred = states_softmax.argmax(dim=-1)\n",
    "            \n",
    "            no_pad_mask = state_target.flatten() != 2\n",
    "\n",
    "            running_correct += (states_pred.flatten()[no_pad_mask] == state_target.flatten()[no_pad_mask]).sum().item()\n",
    "            running_total += states_pred.flatten()[no_pad_mask].size().numel()\n",
    "            \n",
    "            flat_offsets_pred = offsets.reshape(-1, 2)[no_pad_mask, :]\n",
    "            flat_offset_target = targets[:, :, :2].reshape(-1, 2)[no_pad_mask, :]\n",
    "            running_mse += nn.functional.mse_loss(flat_offsets_pred, flat_offset_target)\n",
    "        \n",
    "        # Backprop\n",
    "        loss.backward(retain_graph=True)\n",
    "        \n",
    "        # Gradient Clipping\n",
    "        for name, param in model.named_parameters():\n",
    "            torch.nn.utils.clip_grad_norm_(param, max_norm=1.5)\n",
    "        \n",
    "        # Optimizer Steps\n",
    "        optimizer.step()\n",
    "        \n",
    "        running_loss += loss.item()\n",
    "        running_offset_loss += offset_loss.item()\n",
    "        running_state_loss += state_loss.item()\n",
    "        \n",
    "        total_loss += loss.item()\n",
    "        total_offset_loss += offset_loss.item()\n",
    "        total_state_loss += state_loss.item()\n",
    "        \n",
    "        # Print speed, losses, and accuracy every 25 batchs\n",
    "        if i % log_interval == 0 and i > 0:\n",
    "            ms_per_batch = (time.time() - start_time) * 1000 / log_interval\n",
    "            cur_loss = running_loss / log_interval\n",
    "            cur_offset_loss = running_offset_loss / log_interval\n",
    "            cur_state_loss = running_state_loss / log_interval\n",
    "            cur_accuracy = running_correct / running_total\n",
    "            cur_mse = running_mse / log_interval\n",
    "            tqdm.write(f'{prefix}| epoch {(epoch+1):3d} | {i:5d}/{size:5d} batches '\n",
    "                  f'| ms/batch {ms_per_batch:5.2f} | '\n",
    "                  f'offset_loss {cur_offset_loss:5.2f} | state_loss {cur_state_loss:5.4f} | '\n",
    "                  f'accuracy {cur_accuracy:5.4f} | mse {cur_mse:5.2f}')\n",
    "            time.sleep(0)\n",
    "            running_loss = 0\n",
    "            running_offset_loss = 0\n",
    "            running_state_loss = 0\n",
    "            running_correct = 0\n",
    "            running_total = 0\n",
    "            running_mse = 0\n",
    "            start_time = time.time()\n",
    "    \n",
    "    return total_loss / size, total_offset_loss / size, total_state_loss / size\n",
    "        \n",
    "def evaluate_model(model, data_loader):\n",
    "    model.eval()\n",
    "    size = len(data_loader)\n",
    "    \n",
    "    # Running Losses\n",
    "    running_loss = 0\n",
    "    running_offset_loss = 0\n",
    "    running_state_loss = 0\n",
    "    \n",
    "    # Correct\n",
    "    correct = 0\n",
    "    total_samples = 0\n",
    "    \n",
    "    with torch.no_grad():\n",
    "        for data in tqdm(data_loader):\n",
    "            inputs, targets = data\n",
    "            inputs = inputs.to(\"cuda\")\n",
    "            targets = targets.to(\"cuda\")\n",
    "            \n",
    "            offsets, states = model(inputs)\n",
    "            \n",
    "            # Masked MSE Loss\n",
    "            offset_target = targets[:, :, :2]\n",
    "            state_target = targets[:, :, 2:].argmax(dim=-1)\n",
    "            no_pad_mask = state_target != 2\n",
    "            \n",
    "            offset_loss = offset_crit(offsets, offset_target)\n",
    "            offset_loss_mask = offset_loss * no_pad_mask.unsqueeze(-1).float()\n",
    "            offset_loss = offset_loss_mask.sum() / no_pad_mask.sum()\n",
    "            \n",
    "            state_loss = state_crit(states.transpose(1, 2), state_target)\n",
    "            loss = offset_loss + state_loss\n",
    "            \n",
    "            # Accuracy Calculation\n",
    "            states_softmax = torch.nn.functional.softmax(states, dim=-1)\n",
    "            states_pred = states_softmax.argmax(dim=-1)\n",
    "            \n",
    "            no_pad_mask = no_pad_mask.flatten()\n",
    "            \n",
    "            correct += (states_pred.flatten()[no_pad_mask] == state_target.flatten()[no_pad_mask]).sum().item()\n",
    "            total_samples += states_pred.flatten()[no_pad_mask].size().numel()\n",
    "            \n",
    "            running_loss += loss.item()\n",
    "            running_offset_loss += offset_loss.item()\n",
    "            running_state_loss += state_loss.item()\n",
    "    \n",
    "    return running_loss / size, running_offset_loss / size, running_state_loss / size, correct / total_samples\n",
    "            \n"
   ]
  },
  {
   "cell_type": "code",
   "execution_count": 10,
   "metadata": {},
   "outputs": [
    {
     "data": {
      "application/vnd.jupyter.widget-view+json": {
       "model_id": "99a1d9cf635a4d38bc039bba92068425",
       "version_major": 2,
       "version_minor": 0
      },
      "text/plain": [
       "  0%|          | 0/979 [00:00<?, ?it/s]"
      ]
     },
     "metadata": {},
     "output_type": "display_data"
    },
    {
     "name": "stdout",
     "output_type": "stream",
     "text": [
      "| epoch   1 |   975/  979 batches | ms/batch 135.17 | offset_loss 3500.68 | state_loss 1.0961 | accuracy 0.6347 | mse 1750.34\n",
      "Training: Epoch: 1, offset_loss: 3496.2877, state_loss: 1.0961\n"
     ]
    },
    {
     "data": {
      "application/vnd.jupyter.widget-view+json": {
       "model_id": "ec6a62673a024760b772bdc172bfe6d7",
       "version_major": 2,
       "version_minor": 0
      },
      "text/plain": [
       "  0%|          | 0/36 [00:00<?, ?it/s]"
      ]
     },
     "metadata": {},
     "output_type": "display_data"
    },
    {
     "name": "stdout",
     "output_type": "stream",
     "text": [
      "Validation: Epoch: 1, offset_loss: 3543.78, state_loss: 1.0964, accuracy: 0.6022\n"
     ]
    },
    {
     "data": {
      "application/vnd.jupyter.widget-view+json": {
       "model_id": "dbb17a9d972b430b929e958af97678d6",
       "version_major": 2,
       "version_minor": 0
      },
      "text/plain": [
       "  0%|          | 0/979 [00:00<?, ?it/s]"
      ]
     },
     "metadata": {},
     "output_type": "display_data"
    },
    {
     "name": "stdout",
     "output_type": "stream",
     "text": [
      "| epoch   2 |   975/  979 batches | ms/batch 139.68 | offset_loss 1838.56 | state_loss 0.2427 | accuracy 0.8538 | mse 919.288\n",
      "Training: Epoch: 2, offset_loss: 2596.0839, state_loss: 0.2922\n"
     ]
    },
    {
     "data": {
      "application/vnd.jupyter.widget-view+json": {
       "model_id": "304ae54cb6d340fab76b8e0e36e8f72e",
       "version_major": 2,
       "version_minor": 0
      },
      "text/plain": [
       "  0%|          | 0/36 [00:00<?, ?it/s]"
      ]
     },
     "metadata": {},
     "output_type": "display_data"
    },
    {
     "name": "stdout",
     "output_type": "stream",
     "text": [
      "Validation: Epoch: 2, offset_loss: 1632.14, state_loss: 0.2354, accuracy: 0.8568\n"
     ]
    },
    {
     "data": {
      "application/vnd.jupyter.widget-view+json": {
       "model_id": "db32c23d70a741f49be7695a1e889178",
       "version_major": 2,
       "version_minor": 0
      },
      "text/plain": [
       "  0%|          | 0/979 [00:00<?, ?it/s]"
      ]
     },
     "metadata": {},
     "output_type": "display_data"
    },
    {
     "name": "stdout",
     "output_type": "stream",
     "text": [
      "| epoch   3 |   975/  979 batches | ms/batch 142.35 | offset_loss 1762.67 | state_loss 0.2371 | accuracy 0.8561 | mse 881.33\n",
      "Training: Epoch: 3, offset_loss: 1762.3638, state_loss: 0.2413\n"
     ]
    },
    {
     "data": {
      "application/vnd.jupyter.widget-view+json": {
       "model_id": "6d11c28df0b243a4826c2082e2c80334",
       "version_major": 2,
       "version_minor": 0
      },
      "text/plain": [
       "  0%|          | 0/36 [00:00<?, ?it/s]"
      ]
     },
     "metadata": {},
     "output_type": "display_data"
    },
    {
     "name": "stdout",
     "output_type": "stream",
     "text": [
      "Validation: Epoch: 3, offset_loss: 1504.01, state_loss: 0.2256, accuracy: 0.8597\n"
     ]
    },
    {
     "data": {
      "application/vnd.jupyter.widget-view+json": {
       "model_id": "6803ba60b5fe44349f58339eef5b6258",
       "version_major": 2,
       "version_minor": 0
      },
      "text/plain": [
       "  0%|          | 0/979 [00:00<?, ?it/s]"
      ]
     },
     "metadata": {},
     "output_type": "display_data"
    },
    {
     "name": "stdout",
     "output_type": "stream",
     "text": [
      "| epoch   4 |   975/  979 batches | ms/batch 138.16 | offset_loss 1632.56 | state_loss 0.2301 | accuracy 0.8618 | mse 816.28\n",
      "Training: Epoch: 4, offset_loss: 1652.4899, state_loss: 0.2322\n"
     ]
    },
    {
     "data": {
      "application/vnd.jupyter.widget-view+json": {
       "model_id": "5dbe1e67f3ce48a4939642bc2540ad7c",
       "version_major": 2,
       "version_minor": 0
      },
      "text/plain": [
       "  0%|          | 0/36 [00:00<?, ?it/s]"
      ]
     },
     "metadata": {},
     "output_type": "display_data"
    },
    {
     "name": "stdout",
     "output_type": "stream",
     "text": [
      "Validation: Epoch: 4, offset_loss: 1460.48, state_loss: 0.2214, accuracy: 0.8607\n"
     ]
    },
    {
     "data": {
      "application/vnd.jupyter.widget-view+json": {
       "model_id": "f541e8f884a54edbb189a38a12f83e83",
       "version_major": 2,
       "version_minor": 0
      },
      "text/plain": [
       "  0%|          | 0/979 [00:00<?, ?it/s]"
      ]
     },
     "metadata": {},
     "output_type": "display_data"
    },
    {
     "name": "stdout",
     "output_type": "stream",
     "text": [
      "| epoch   5 |   975/  979 batches | ms/batch 142.01 | offset_loss 1572.22 | state_loss 0.2238 | accuracy 0.8607 | mse 786.11\n",
      "Training: Epoch: 5, offset_loss: 1595.5822, state_loss: 0.2261\n"
     ]
    },
    {
     "data": {
      "application/vnd.jupyter.widget-view+json": {
       "model_id": "cbf82e07c8a44ba7ab884c96a67aacf5",
       "version_major": 2,
       "version_minor": 0
      },
      "text/plain": [
       "  0%|          | 0/36 [00:00<?, ?it/s]"
      ]
     },
     "metadata": {},
     "output_type": "display_data"
    },
    {
     "name": "stdout",
     "output_type": "stream",
     "text": [
      "Validation: Epoch: 5, offset_loss: 1411.98, state_loss: 0.2126, accuracy: 0.8669\n"
     ]
    },
    {
     "data": {
      "application/vnd.jupyter.widget-view+json": {
       "model_id": "5d847f3538dc40acb808c3c3206e5fc0",
       "version_major": 2,
       "version_minor": 0
      },
      "text/plain": [
       "  0%|          | 0/979 [00:00<?, ?it/s]"
      ]
     },
     "metadata": {},
     "output_type": "display_data"
    },
    {
     "name": "stdout",
     "output_type": "stream",
     "text": [
      "| epoch   6 |   975/  979 batches | ms/batch 142.04 | offset_loss 1510.87 | state_loss 0.2206 | accuracy 0.8641 | mse 755.43\n",
      "Training: Epoch: 6, offset_loss: 1539.5202, state_loss: 0.2210\n"
     ]
    },
    {
     "data": {
      "application/vnd.jupyter.widget-view+json": {
       "model_id": "986b840052d5493ba63ca46c3edaaf3a",
       "version_major": 2,
       "version_minor": 0
      },
      "text/plain": [
       "  0%|          | 0/36 [00:00<?, ?it/s]"
      ]
     },
     "metadata": {},
     "output_type": "display_data"
    },
    {
     "name": "stdout",
     "output_type": "stream",
     "text": [
      "Validation: Epoch: 6, offset_loss: 1364.94, state_loss: 0.2093, accuracy: 0.8689\n"
     ]
    },
    {
     "data": {
      "application/vnd.jupyter.widget-view+json": {
       "model_id": "4ead7ae28f8440fd8b439dc3863b42bd",
       "version_major": 2,
       "version_minor": 0
      },
      "text/plain": [
       "  0%|          | 0/979 [00:00<?, ?it/s]"
      ]
     },
     "metadata": {},
     "output_type": "display_data"
    },
    {
     "name": "stdout",
     "output_type": "stream",
     "text": [
      "| epoch   7 |   975/  979 batches | ms/batch 140.70 | offset_loss 1555.77 | state_loss 0.2189 | accuracy 0.8681 | mse 777.89\n",
      "Training: Epoch: 7, offset_loss: 1488.0704, state_loss: 0.2183\n"
     ]
    },
    {
     "data": {
      "application/vnd.jupyter.widget-view+json": {
       "model_id": "e6dd6f3ed3794420accfe27228747b74",
       "version_major": 2,
       "version_minor": 0
      },
      "text/plain": [
       "  0%|          | 0/36 [00:00<?, ?it/s]"
      ]
     },
     "metadata": {},
     "output_type": "display_data"
    },
    {
     "name": "stdout",
     "output_type": "stream",
     "text": [
      "Validation: Epoch: 7, offset_loss: 1303.40, state_loss: 0.2061, accuracy: 0.8715\n"
     ]
    },
    {
     "data": {
      "application/vnd.jupyter.widget-view+json": {
       "model_id": "bb9fd739cf2544db9596acdaa3ab73bc",
       "version_major": 2,
       "version_minor": 0
      },
      "text/plain": [
       "  0%|          | 0/979 [00:00<?, ?it/s]"
      ]
     },
     "metadata": {},
     "output_type": "display_data"
    },
    {
     "name": "stdout",
     "output_type": "stream",
     "text": [
      "| epoch   8 |   975/  979 batches | ms/batch 143.29 | offset_loss 1435.87 | state_loss 0.2150 | accuracy 0.8668 | mse 717.94\n",
      "Training: Epoch: 8, offset_loss: 1458.7201, state_loss: 0.2156\n"
     ]
    },
    {
     "data": {
      "application/vnd.jupyter.widget-view+json": {
       "model_id": "94e44df3dec34c15bf8c4e21249521da",
       "version_major": 2,
       "version_minor": 0
      },
      "text/plain": [
       "  0%|          | 0/36 [00:00<?, ?it/s]"
      ]
     },
     "metadata": {},
     "output_type": "display_data"
    },
    {
     "name": "stdout",
     "output_type": "stream",
     "text": [
      "Validation: Epoch: 8, offset_loss: 1282.30, state_loss: 0.2049, accuracy: 0.8720\n"
     ]
    },
    {
     "data": {
      "application/vnd.jupyter.widget-view+json": {
       "model_id": "9fce61ace87c47018829ce45ddad3d25",
       "version_major": 2,
       "version_minor": 0
      },
      "text/plain": [
       "  0%|          | 0/979 [00:00<?, ?it/s]"
      ]
     },
     "metadata": {},
     "output_type": "display_data"
    },
    {
     "name": "stdout",
     "output_type": "stream",
     "text": [
      "| epoch   9 |   975/  979 batches | ms/batch 144.09 | offset_loss 1440.14 | state_loss 0.2125 | accuracy 0.8682 | mse 720.07\n",
      "Training: Epoch: 9, offset_loss: 1430.1525, state_loss: 0.2141\n"
     ]
    },
    {
     "data": {
      "application/vnd.jupyter.widget-view+json": {
       "model_id": "573235633d684252af5b3138fcd12271",
       "version_major": 2,
       "version_minor": 0
      },
      "text/plain": [
       "  0%|          | 0/36 [00:00<?, ?it/s]"
      ]
     },
     "metadata": {},
     "output_type": "display_data"
    },
    {
     "name": "stdout",
     "output_type": "stream",
     "text": [
      "Validation: Epoch: 9, offset_loss: 1258.91, state_loss: 0.2033, accuracy: 0.8717\n"
     ]
    },
    {
     "data": {
      "application/vnd.jupyter.widget-view+json": {
       "model_id": "465e965c3da6457ea1e232486ee77b86",
       "version_major": 2,
       "version_minor": 0
      },
      "text/plain": [
       "  0%|          | 0/979 [00:00<?, ?it/s]"
      ]
     },
     "metadata": {},
     "output_type": "display_data"
    },
    {
     "name": "stdout",
     "output_type": "stream",
     "text": [
      "| epoch  10 |   975/  979 batches | ms/batch 141.00 | offset_loss 1390.59 | state_loss 0.2139 | accuracy 0.8669 | mse 695.29\n",
      "Training: Epoch: 10, offset_loss: 1412.6797, state_loss: 0.2133\n"
     ]
    },
    {
     "data": {
      "application/vnd.jupyter.widget-view+json": {
       "model_id": "760457bf937541f5ad8e7804a329a3f4",
       "version_major": 2,
       "version_minor": 0
      },
      "text/plain": [
       "  0%|          | 0/36 [00:00<?, ?it/s]"
      ]
     },
     "metadata": {},
     "output_type": "display_data"
    },
    {
     "name": "stdout",
     "output_type": "stream",
     "text": [
      "Validation: Epoch: 10, offset_loss: 1249.36, state_loss: 0.2025, accuracy: 0.8726\n"
     ]
    }
   ],
   "source": [
    "torch.autograd.set_detect_anomaly(True)\n",
    "for epoch in range(epochs):\n",
    "    train_loss, train_offset_loss, train_state_loss = train_model(model, train, optimizer, epoch)\n",
    "    print(f\"Training: Epoch: {epoch+1}, offset_loss: {train_offset_loss:5.4f}, state_loss: {train_state_loss:5.4f}\")\n",
    "    writer.add_scalar(\"Train/Loss/Epoch\", train_loss, epoch)\n",
    "    writer.add_scalar(\"Train/Offset_Loss/Epoch\", train_offset_loss, epoch)\n",
    "    writer.add_scalar(\"Train/State_Loss/Epoch\", train_state_loss, epoch)\n",
    "    \n",
    "    val_loss, val_offset_loss, val_state_loss, val_accuracy = evaluate_model(model, val)\n",
    "    print(f\"Validation: Epoch: {epoch+1}, offset_loss: {val_offset_loss:5.2f}, state_loss: {val_state_loss:5.4f}, accuracy: {val_accuracy:5.4f}\")\n",
    "    writer.add_scalar(\"Train/Loss/Epoch\", val_loss, epoch)\n",
    "    writer.add_scalar(\"Train/Offset_Loss/Epoch\", val_offset_loss, epoch)\n",
    "    writer.add_scalar(\"Train/State_Loss/Epoch\", val_state_loss, epoch)\n",
    "    \n",
    "    scheduler.step()"
   ]
  },
  {
   "cell_type": "code",
   "execution_count": 11,
   "metadata": {},
   "outputs": [
    {
     "data": {
      "application/vnd.jupyter.widget-view+json": {
       "model_id": "692daab79d5f4c8cb984d1aac1e6a71f",
       "version_major": 2,
       "version_minor": 0
      },
      "text/plain": [
       "  0%|          | 0/35 [00:00<?, ?it/s]"
      ]
     },
     "metadata": {},
     "output_type": "display_data"
    },
    {
     "name": "stdout",
     "output_type": "stream",
     "text": [
      "Test: offset_loss: 1377.14, state_loss: 0.2021, accuracy: 0.8731\n"
     ]
    }
   ],
   "source": [
    "test_loss, test_offset_loss, test_state_loss, test_accuracy = evaluate_model(model, test)\n",
    "print(f\"Test: offset_loss: {test_offset_loss:5.2f}, state_loss: {test_state_loss:5.4f}, accuracy: {test_accuracy:5.4f}\")"
   ]
  },
  {
   "cell_type": "code",
   "execution_count": 14,
   "metadata": {},
   "outputs": [],
   "source": [
    "model.save('./saved/model1.pth')"
   ]
  },
  {
   "cell_type": "code",
   "execution_count": 15,
   "metadata": {},
   "outputs": [],
   "source": [
    "loaded_model = customModel(nb=4, no=2, ns=2, embed_dim=256).to(\"cuda\")\n",
    "loaded_model.load('./saved/model1.pth')"
   ]
  },
  {
   "cell_type": "code",
   "execution_count": 16,
   "metadata": {},
   "outputs": [
    {
     "data": {
      "application/vnd.jupyter.widget-view+json": {
       "model_id": "71ada894d2eb422aac755b635efb2601",
       "version_major": 2,
       "version_minor": 0
      },
      "text/plain": [
       "  0%|          | 0/35 [00:00<?, ?it/s]"
      ]
     },
     "metadata": {},
     "output_type": "display_data"
    },
    {
     "name": "stdout",
     "output_type": "stream",
     "text": [
      "Test: offset_loss: 1368.64, state_loss: 0.2021, accuracy: 0.8731\n"
     ]
    }
   ],
   "source": [
    "test_loss, test_offset_loss, test_state_loss, test_accuracy = evaluate_model(loaded_model, test)\n",
    "print(f\"Test: offset_loss: {test_offset_loss:5.2f}, state_loss: {test_state_loss:5.4f}, accuracy: {test_accuracy:5.4f}\")"
   ]
  },
  {
   "cell_type": "code",
   "execution_count": 19,
   "metadata": {},
   "outputs": [
    {
     "data": {
      "image/svg+xml": [
       "<svg xmlns=\"http://www.w3.org/2000/svg\" xmlns:ev=\"http://www.w3.org/2001/xml-events\" xmlns:xlink=\"http://www.w3.org/1999/xlink\" baseProfile=\"full\" height=\"1470.0\" version=\"1.1\" width=\"1315.0\"><defs/><rect fill=\"white\" height=\"1470.0\" width=\"1315.0\" x=\"0\" y=\"0\"/><path d=\"M1290.0,40.0 m-125.0,-15.0 l-145.0,5.0 -195.0,50.0 l-250.0,100.0 -200.0,140.0 l-165.0,170.0 -110.0,200.0 l-60.0,230.0 -15.0,250.0 l65.0,275.0 \" fill=\"none\" stroke=\"black\" stroke-width=\"1\"/></svg>"
      ],
      "text/plain": [
       "<IPython.core.display.SVG object>"
      ]
     },
     "metadata": {},
     "output_type": "display_data"
    },
    {
     "data": {
      "image/svg+xml": [
       "<svg xmlns=\"http://www.w3.org/2000/svg\" xmlns:ev=\"http://www.w3.org/2001/xml-events\" xmlns:xlink=\"http://www.w3.org/1999/xlink\" baseProfile=\"full\" height=\"2148.6883610486984\" version=\"1.1\" width=\"2032.805678844452\"><defs/><rect fill=\"white\" height=\"2148.6883610486984\" width=\"2032.805678844452\" x=\"0\" y=\"0\"/><path d=\"M1290.0,314.64541256427765 m-125.0,-15.0 l-145.0,5.0 -195.0,50.0 l-250.0,100.0 -200.0,140.0 l-165.0,170.0 -110.0,200.0 l-60.0,230.0 -15.0,250.0 l65.0,275.0 91.99905395507812,151.36499404907227 l120.33193588256836,115.67468643188477 156.29362106323242,83.65748405456543 l203.92671585083008,47.770185470581055 251.9550323486328,5.575598478317261 l233.2891845703125,-43.68151664733887 197.07735061645508,-90.84225654602051 l168.10001373291016,-128.26404571533203 135.05691528320312,-149.20390129089355 l100.14190673828125,-170.61161041259766 61.79751396179199,-198.82665634155273 l17.5014066696167,-230.4446029663086 -34.765799045562744,-216.1448860168457 l-82.00888633728027,-174.4894027709961 -114.3538761138916,-135.3915500640869 l-143.88997077941895,-99.85637664794922 -168.49489212036133,-63.08728218078613 l-186.59292221069336,-28.60731601715088 -176.44882202148438,9.134613275527954 m-389.6990203857422,291.3384246826172 l-14.016733169555664,-174.76961135864258 19.956650733947754,-349.32395935058594 l62.34062194824219,-139.9952507019043 98.00058364868164,-1.8866842985153198 l141.17525100708008,117.70062446594238 139.5113754272461,194.9411392211914 l79.09251689910889,149.23556327819824 m460.06011962890625,8.947814702987671 l143.17142486572266,-178.47900390625 191.2716293334961,-232.40447998046875 l102.12032318115234,-63.6761474609375 38.50320816040039,65.12564659118652 l15.40224552154541,230.90320587158203 -54.11350727081299,297.3741912841797 l-65.61533451080322,178.21746826171875 m-846.5397644042969,281.51512145996094 l6.208240389823914,4.859934449195862 40.339579582214355,21.752710342407227 l49.58773136138916,10.78351616859436 43.2749605178833,-18.463300466537476 l17.21871256828308,-54.78036880493164 -34.80401039123535,-38.666815757751465 l-63.736538887023926,-1.2526556849479675 -37.49702453613281,19.557476043701172 l6.030825972557068,6.028429865837097 31.528639793395996,-16.810593605041504 l27.67331600189209,-37.87193775177002 -12.75125503540039,-27.16768741607666 l-47.26064682006836,-2.2386109828948975 -33.317389488220215,23.780155181884766 l2.124841809272766,12.139425277709961 26.264727115631104,-7.313860654830933 l25.877504348754883,-35.53914546966553 -6.465838551521301,-33.416337966918945 l-33.88958692550659,-8.3767831325531 -37.22047567367554,26.184210777282715 l-5.334017276763916,24.911937713623047 23.484511375427246,3.3810490369796753 l29.398915767669678,-26.56376838684082 5.84718644618988,-41.83219909667969 \" fill=\"none\" stroke=\"black\" stroke-width=\"1\"/></svg>"
      ],
      "text/plain": [
       "<IPython.core.display.SVG object>"
      ]
     },
     "metadata": {},
     "output_type": "display_data"
    },
    {
     "data": {
      "image/svg+xml": [
       "<svg xmlns=\"http://www.w3.org/2000/svg\" xmlns:ev=\"http://www.w3.org/2001/xml-events\" xmlns:xlink=\"http://www.w3.org/1999/xlink\" baseProfile=\"full\" height=\"2800.0\" version=\"1.1\" width=\"3410.0\"><defs/><rect fill=\"white\" height=\"2800.0\" width=\"3410.0\" x=\"0\" y=\"0\"/><path d=\"M1290.0,465.0 m-125.0,-15.0 l-145.0,5.0 -195.0,50.0 l-250.0,100.0 -200.0,140.0 l-165.0,170.0 -110.0,200.0 l-60.0,230.0 -15.0,250.0 l65.0,275.0 140.0,295.0 l170.0,240.0 185.0,170.0 l165.0,95.0 200.0,55.0 l285.0,35.0 265.0,15.0 l385.0,-10.0 345.0,-85.0 l195.0,-95.0 225.0,-130.0 l400.0,-335.0 140.0,-185.0 l105.0,-180.0 80.0,-215.0 l10.0,-220.0 -50.0,-240.0 l-165.0,-370.0 -70.0,-90.0 l-230.0,-150.0 -375.0,-130.0 l-295.0,-70.0 -245.0,-30.0 l-530.0,125.0 -290.0,125.0 m-380.0,25.0 l0.0,-435.0 35.0,-55.0 l150.0,130.0 105.0,280.0 m1390.0,-135.0 l90.0,-100.0 210.0,-160.0 l65.0,235.0 30.0,205.0 m-1595.0,590.0 l15.0,60.0 25.0,5.0 l15.0,-35.0 -10.0,-70.0 l-25.0,35.0 m780.0,-70.0 l25.0,20.0 75.0,0.0 l-10.0,-35.0 -25.0,-10.0 l-20.0,15.0 m20.0,730.0 l30.0,25.0 575.0,40.0 l500.0,0.0 160.0,-15.0 m-1265.0,-20.0 l230.0,45.0 420.0,145.0 l205.0,40.0 m-875.0,-240.0 l85.0,185.0 355.0,520.0 l100.0,200.0 \" fill=\"none\" stroke=\"black\" stroke-width=\"1\"/></svg>"
      ],
      "text/plain": [
       "<IPython.core.display.SVG object>"
      ]
     },
     "metadata": {},
     "output_type": "display_data"
    }
   ],
   "source": [
    "from utils import draw_strokes\n",
    "\n",
    "@torch.inference_mode()\n",
    "def generate(model, input_seq):\n",
    "    prev = input_seq\n",
    "    \n",
    "    i = 0\n",
    "    while i < 60:\n",
    "        offset, state = model.forward(prev)\n",
    "        indices = torch.argmax(state, dim=-1)\n",
    "        one_hot = torch.nn.functional.one_hot(indices, 3)\n",
    "        pred = torch.cat((offset, one_hot), dim=-1)\n",
    "        next_seg = pred[:, -1:, :]\n",
    "        prev = torch.cat((prev, next_seg), dim=1)\n",
    "        i += 1\n",
    "    \n",
    "    return prev\n",
    "\n",
    "strokes = train_dataset[10][0]\n",
    "i = (strokes[:10]).unsqueeze(0)\n",
    "\n",
    "output_pred = generate(model, i.to(\"cuda\")).cpu().numpy()[0]\n",
    "output_actual = strokes[:70].numpy()\n",
    "draw_strokes(i[0], svg_filename='./input.svg')\n",
    "draw_strokes(output_pred, svg_filename='./sample.svg')\n",
    "draw_strokes(output_actual, svg_filename='./actual.svg')"
   ]
  }
 ],
 "metadata": {
  "kernelspec": {
   "display_name": "drawenv",
   "language": "python",
   "name": "python3"
  },
  "language_info": {
   "codemirror_mode": {
    "name": "ipython",
    "version": 3
   },
   "file_extension": ".py",
   "mimetype": "text/x-python",
   "name": "python",
   "nbconvert_exporter": "python",
   "pygments_lexer": "ipython3",
   "version": "3.11.7"
  }
 },
 "nbformat": 4,
 "nbformat_minor": 2
}

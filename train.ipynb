{
 "cells": [
  {
   "cell_type": "code",
   "execution_count": 1,
   "metadata": {},
   "outputs": [],
   "source": [
    "import time\n",
    "import math\n",
    "from tqdm.auto import tqdm\n",
    "from tqdm.utils import _term_move_up\n",
    "\n",
    "prefix = _term_move_up() + '\\r'\n",
    "\n",
    "import torch\n",
    "from torch import nn\n",
    "from torch.utils.data import DataLoader\n",
    "from torch.utils.tensorboard import SummaryWriter\n",
    "\n",
    "from data import DrawingDataset\n",
    "from customModel import customModel, EarlyStopper\n",
    "\n",
    "%load_ext autoreload\n",
    "%autoreload 2"
   ]
  },
  {
   "cell_type": "code",
   "execution_count": 2,
   "metadata": {},
   "outputs": [
    {
     "name": "stdout",
     "output_type": "stream",
     "text": [
      "True\n",
      "NVIDIA GeForce RTX 3050 Ti Laptop GPU\n",
      "_CudaDeviceProperties(name='NVIDIA GeForce RTX 3050 Ti Laptop GPU', major=8, minor=6, total_memory=4095MB, multi_processor_count=20)\n"
     ]
    }
   ],
   "source": [
    "print(torch.cuda.is_available())\n",
    "print(torch.cuda.get_device_name())\n",
    "print(torch.cuda.get_device_properties(0))"
   ]
  },
  {
   "cell_type": "code",
   "execution_count": 3,
   "metadata": {},
   "outputs": [
    {
     "name": "stdout",
     "output_type": "stream",
     "text": [
      "['./data/cat.npz', './data/sailboat.npz', './data/marker.npz', './data/headphones.npz', './data/airplane.npz']\n"
     ]
    },
    {
     "name": "stderr",
     "output_type": "stream",
     "text": [
      "  0%|          | 0/5 [00:00<?, ?it/s]"
     ]
    },
    {
     "name": "stderr",
     "output_type": "stream",
     "text": [
      "100%|██████████| 5/5 [00:02<00:00,  1.69it/s]\n"
     ]
    },
    {
     "name": "stdout",
     "output_type": "stream",
     "text": [
      "['./data/cat.npz', './data/sailboat.npz', './data/marker.npz', './data/headphones.npz', './data/airplane.npz']\n"
     ]
    },
    {
     "name": "stderr",
     "output_type": "stream",
     "text": [
      "100%|██████████| 5/5 [00:00<00:00, 38.64it/s]\n"
     ]
    },
    {
     "name": "stdout",
     "output_type": "stream",
     "text": [
      "['./data/cat.npz', './data/sailboat.npz', './data/marker.npz', './data/headphones.npz', './data/airplane.npz']\n"
     ]
    },
    {
     "name": "stderr",
     "output_type": "stream",
     "text": [
      "100%|██████████| 5/5 [00:00<00:00, 36.61it/s]\n"
     ]
    }
   ],
   "source": [
    "batch_size = 256\n",
    "max_length = 100\n",
    "\n",
    "train_dataset = DrawingDataset(data_path=\"./data\", split=\"train\", max_length=max_length)\n",
    "val_dataset = DrawingDataset(data_path=\"./data\", split=\"valid\", max_length=max_length)\n",
    "test_dataset = DrawingDataset(data_path=\"./data\", split=\"test\", max_length=max_length)\n",
    "\n",
    "train = DataLoader(dataset=train_dataset, batch_size=batch_size, shuffle=True)\n",
    "val = DataLoader(dataset=val_dataset, batch_size=batch_size, shuffle=True)\n",
    "test = DataLoader(dataset=test_dataset, batch_size=batch_size, shuffle=True)"
   ]
  },
  {
   "cell_type": "code",
   "execution_count": 4,
   "metadata": {},
   "outputs": [
    {
     "name": "stdout",
     "output_type": "stream",
     "text": [
      "0.004888602220003379\n"
     ]
    }
   ],
   "source": [
    "log_interval = 25\n",
    "epochs = 20\n",
    "\n",
    "batches = len(train)\n",
    "\n",
    "model = customModel(nb=4, no=2, ns=2, embed_dim=128).to(\"cuda\")\n",
    "\n",
    "offset_crit = nn.MSELoss(reduction='none')\n",
    "state_crit = nn.CrossEntropyLoss()\n",
    "\n",
    "#optimizer = torch.optim.RAdam(model.parameters(), lr=5e-4)\n",
    "#warmup_ratio = 0.03s\n",
    "\n",
    "print(0.05 * math.sqrt(batch_size / (batches * epochs)))\n",
    "optimizer = torch.optim.AdamW(model.parameters(), \n",
    "                              lr=1e-3, betas=(0.99, 0.95), eps=1e-4,\n",
    "                              weight_decay=0.05 * math.sqrt(batch_size / (batches * epochs)))   \n",
    "# scheduler = get_cosine_schedule_with_warmup(optimizer, \n",
    "#                                             num_warmup_steps=1,\n",
    "#                                             num_training_steps=epochs)\n",
    "scheduler = torch.optim.lr_scheduler.CosineAnnealingLR(optimizer=optimizer, \n",
    "                                                       T_max=epochs, eta_min=1e-5)\n",
    "\n",
    "writer = SummaryWriter('./logs/embed_128')\n",
    "\n",
    "def train_model(model, data_loader, optimizer, epoch):\n",
    "    model.train()\n",
    "    \n",
    "    size = len(data_loader)\n",
    "    \n",
    "    # Total Losses\n",
    "    total_loss = 0\n",
    "    total_offset_loss = 0\n",
    "    total_state_loss = 0\n",
    "    \n",
    "    # Running Losses\n",
    "    running_loss = 0\n",
    "    running_offset_loss = 0\n",
    "    running_state_loss = 0\n",
    "    \n",
    "    running_correct = 0\n",
    "    running_total = 0\n",
    "    \n",
    "    running_mse = 0\n",
    "    \n",
    "    start_time = time.time()\n",
    "    \n",
    "    for i, data in enumerate(tqdm(data_loader)):\n",
    "        optimizer.zero_grad()\n",
    "        \n",
    "        inputs, targets = data\n",
    "        inputs = inputs.to(\"cuda\")\n",
    "        targets = targets.to(\"cuda\")\n",
    "        \n",
    "        offsets, states = model(inputs)\n",
    "        \n",
    "        # Split Target\n",
    "        offset_target = targets[:, :, :2]\n",
    "        state_target = targets[:, :, 2:].argmax(dim=-1)\n",
    "        no_pad_mask = state_target != 2\n",
    "        \n",
    "        # Masked MSE Loss for offset\n",
    "        offset_loss = offset_crit(offsets, offset_target)\n",
    "        offset_loss_mask = offset_loss * no_pad_mask.unsqueeze(-1).float()\n",
    "        \n",
    "        offset_loss = offset_loss_mask.sum() / no_pad_mask.sum()\n",
    "        \n",
    "        # Cross Entropy Loss for State\n",
    "        state_loss = state_crit(states.transpose(1, 2), state_target)\n",
    "        loss = offset_loss + state_loss\n",
    "        \n",
    "        # Calculate other metrics (accuracy)\n",
    "        with torch.no_grad():\n",
    "            states_softmax = torch.nn.functional.softmax(states, dim=-1)\n",
    "            states_pred = states_softmax.argmax(dim=-1)\n",
    "            \n",
    "            no_pad_mask = state_target.flatten() != 2\n",
    "\n",
    "            running_correct += (states_pred.flatten()[no_pad_mask] == state_target.flatten()[no_pad_mask]).sum().item()\n",
    "            running_total += states_pred.flatten()[no_pad_mask].size().numel()\n",
    "            \n",
    "            flat_offsets_pred = offsets.reshape(-1, 2)[no_pad_mask, :]\n",
    "            flat_offset_target = targets[:, :, :2].reshape(-1, 2)[no_pad_mask, :]\n",
    "            running_mse += nn.functional.mse_loss(flat_offsets_pred, flat_offset_target)\n",
    "        \n",
    "        # Backprop\n",
    "        loss.backward(retain_graph=True)\n",
    "        \n",
    "        # Gradient Clipping\n",
    "        for name, param in model.named_parameters():\n",
    "            torch.nn.utils.clip_grad_norm_(param, max_norm=1.5)\n",
    "        \n",
    "        # Optimizer Steps\n",
    "        optimizer.step()\n",
    "        \n",
    "        running_loss += loss.item()\n",
    "        running_offset_loss += offset_loss.item()\n",
    "        running_state_loss += state_loss.item()\n",
    "        \n",
    "        total_loss += loss.item()\n",
    "        total_offset_loss += offset_loss.item()\n",
    "        total_state_loss += state_loss.item()\n",
    "        \n",
    "        # Print speed, losses, and accuracy every 25 batchs\n",
    "        if i % log_interval == 0 and i > 0:\n",
    "            ms_per_batch = (time.time() - start_time) * 1000 / log_interval\n",
    "            cur_loss = running_loss / log_interval\n",
    "            cur_offset_loss = running_offset_loss / log_interval\n",
    "            cur_state_loss = running_state_loss / log_interval\n",
    "            cur_accuracy = running_correct / running_total\n",
    "            cur_mse = running_mse / log_interval\n",
    "            tqdm.write(f'{prefix}| epoch {(epoch+1):3d} | {i:5d}/{size:5d} batches '\n",
    "                  f'| ms/batch {ms_per_batch:5.2f} | '\n",
    "                  f'offset_loss {cur_offset_loss/2:5.2f} | state_loss {cur_state_loss:5.4f} | '\n",
    "                  f'accuracy {cur_accuracy:5.4f} | mse {cur_mse:5.2f}')\n",
    "            time.sleep(0)\n",
    "            running_loss = 0\n",
    "            running_offset_loss = 0\n",
    "            running_state_loss = 0\n",
    "            running_correct = 0\n",
    "            running_total = 0\n",
    "            running_mse = 0\n",
    "            start_time = time.time()\n",
    "    \n",
    "    return total_loss / size, total_offset_loss / size, total_state_loss / size\n",
    "        \n",
    "def evaluate_model(model, data_loader):\n",
    "    model.eval()\n",
    "    size = len(data_loader)\n",
    "    \n",
    "    # Running Losses\n",
    "    running_loss = 0\n",
    "    running_offset_loss = 0\n",
    "    running_state_loss = 0\n",
    "    \n",
    "    # Correct\n",
    "    correct = 0\n",
    "    total_samples = 0\n",
    "    \n",
    "    with torch.no_grad():\n",
    "        for data in tqdm(data_loader):\n",
    "            inputs, targets = data\n",
    "            inputs = inputs.to(\"cuda\")\n",
    "            targets = targets.to(\"cuda\")\n",
    "            \n",
    "            offsets, states = model(inputs)\n",
    "            \n",
    "            # Masked MSE Loss\n",
    "            offset_target = targets[:, :, :2]\n",
    "            state_target = targets[:, :, 2:].argmax(dim=-1)\n",
    "            no_pad_mask = state_target != 2\n",
    "            \n",
    "            offset_loss = offset_crit(offsets, offset_target)\n",
    "            offset_loss_mask = offset_loss * no_pad_mask.unsqueeze(-1).float()\n",
    "            offset_loss = offset_loss_mask.sum() / no_pad_mask.sum()\n",
    "            \n",
    "            state_loss = state_crit(states.transpose(1, 2), state_target)\n",
    "            loss = offset_loss + state_loss\n",
    "            \n",
    "            # Accuracy Calculation\n",
    "            states_softmax = torch.nn.functional.softmax(states, dim=-1)\n",
    "            states_pred = states_softmax.argmax(dim=-1)\n",
    "            \n",
    "            no_pad_mask = no_pad_mask.flatten()\n",
    "            \n",
    "            correct += (states_pred.flatten()[no_pad_mask] == state_target.flatten()[no_pad_mask]).sum().item()\n",
    "            total_samples += states_pred.flatten()[no_pad_mask].size().numel()\n",
    "            \n",
    "            running_loss += loss.item()\n",
    "            running_offset_loss += offset_loss.item()\n",
    "            running_state_loss += state_loss.item()\n",
    "    \n",
    "    return running_loss / size, running_offset_loss / size, running_state_loss / size, correct / total_samples\n",
    "            \n"
   ]
  },
  {
   "cell_type": "code",
   "execution_count": 5,
   "metadata": {},
   "outputs": [
    {
     "data": {
      "text/plain": [
       "<torch.autograd.anomaly_mode.set_detect_anomaly at 0x7f5d72922fd0>"
      ]
     },
     "execution_count": 5,
     "metadata": {},
     "output_type": "execute_result"
    }
   ],
   "source": [
    "torch.autograd.set_detect_anomaly(True)"
   ]
  },
  {
   "cell_type": "code",
   "execution_count": 6,
   "metadata": {},
   "outputs": [
    {
     "data": {
      "application/vnd.jupyter.widget-view+json": {
       "model_id": "d6b4daf2b447424ca3680f2e333d04a9",
       "version_major": 2,
       "version_minor": 0
      },
      "text/plain": [
       "  0%|          | 0/1339 [00:00<?, ?it/s]"
      ]
     },
     "metadata": {},
     "output_type": "display_data"
    },
    {
     "name": "stdout",
     "output_type": "stream",
     "text": [
      "| epoch   1 |  1325/ 1339 batches | ms/batch 378.28 | offset_loss 1371.51 | state_loss 0.1509 | accuracy 0.8933 | mse 1371.51\n",
      "Training: Epoch: 1, offset_loss: 1657.9511, state_loss: 0.1828\n"
     ]
    },
    {
     "data": {
      "application/vnd.jupyter.widget-view+json": {
       "model_id": "3dc5a67f79e7489789f366bd46fab2a0",
       "version_major": 2,
       "version_minor": 0
      },
      "text/plain": [
       "  0%|          | 0/48 [00:00<?, ?it/s]"
      ]
     },
     "metadata": {},
     "output_type": "display_data"
    },
    {
     "name": "stdout",
     "output_type": "stream",
     "text": [
      "Validation: Epoch: 1, offset_loss: 1226.17, state_loss: 0.1445, accuracy: 0.8979\n"
     ]
    },
    {
     "data": {
      "application/vnd.jupyter.widget-view+json": {
       "model_id": "1d710edeb45c4ad9bfe7c23a774484b3",
       "version_major": 2,
       "version_minor": 0
      },
      "text/plain": [
       "  0%|          | 0/1339 [00:00<?, ?it/s]"
      ]
     },
     "metadata": {},
     "output_type": "display_data"
    },
    {
     "name": "stdout",
     "output_type": "stream",
     "text": [
      "| epoch   2 |  1325/ 1339 batches | ms/batch 377.47 | offset_loss 1297.93 | state_loss 0.1425 | accuracy 0.8940 | mse 1297.93\n",
      "Training: Epoch: 2, offset_loss: 1318.7371, state_loss: 0.1459\n"
     ]
    },
    {
     "data": {
      "application/vnd.jupyter.widget-view+json": {
       "model_id": "556e1f8786c3468ba6d6fe786b5f1d2d",
       "version_major": 2,
       "version_minor": 0
      },
      "text/plain": [
       "  0%|          | 0/48 [00:00<?, ?it/s]"
      ]
     },
     "metadata": {},
     "output_type": "display_data"
    },
    {
     "name": "stdout",
     "output_type": "stream",
     "text": [
      "Validation: Epoch: 2, offset_loss: 1172.58, state_loss: 0.1356, accuracy: 0.8974\n"
     ]
    },
    {
     "data": {
      "application/vnd.jupyter.widget-view+json": {
       "model_id": "7888beef50704da88e203668d1a803b8",
       "version_major": 2,
       "version_minor": 0
      },
      "text/plain": [
       "  0%|          | 0/1339 [00:00<?, ?it/s]"
      ]
     },
     "metadata": {},
     "output_type": "display_data"
    },
    {
     "name": "stdout",
     "output_type": "stream",
     "text": [
      "| epoch   3 |  1325/ 1339 batches | ms/batch 380.11 | offset_loss 1262.83 | state_loss 0.1386 | accuracy 0.8956 | mse 1262.83\n",
      "Training: Epoch: 3, offset_loss: 1271.3038, state_loss: 0.1402\n"
     ]
    },
    {
     "data": {
      "application/vnd.jupyter.widget-view+json": {
       "model_id": "147d7eb604804f87b47c50805128faff",
       "version_major": 2,
       "version_minor": 0
      },
      "text/plain": [
       "  0%|          | 0/48 [00:00<?, ?it/s]"
      ]
     },
     "metadata": {},
     "output_type": "display_data"
    },
    {
     "name": "stdout",
     "output_type": "stream",
     "text": [
      "Validation: Epoch: 3, offset_loss: 1136.37, state_loss: 0.1306, accuracy: 0.8984\n"
     ]
    },
    {
     "data": {
      "application/vnd.jupyter.widget-view+json": {
       "model_id": "6e82308c49084b07993af26b61fb2f06",
       "version_major": 2,
       "version_minor": 0
      },
      "text/plain": [
       "  0%|          | 0/1339 [00:00<?, ?it/s]"
      ]
     },
     "metadata": {},
     "output_type": "display_data"
    },
    {
     "name": "stdout",
     "output_type": "stream",
     "text": [
      "| epoch   4 |  1325/ 1339 batches | ms/batch 371.67 | offset_loss 1243.22 | state_loss 0.1377 | accuracy 0.8960 | mse 1243.22\n",
      "Training: Epoch: 4, offset_loss: 1242.9401, state_loss: 0.1372\n"
     ]
    },
    {
     "data": {
      "application/vnd.jupyter.widget-view+json": {
       "model_id": "a524a0c1835e448ca370e08ca4b38304",
       "version_major": 2,
       "version_minor": 0
      },
      "text/plain": [
       "  0%|          | 0/48 [00:00<?, ?it/s]"
      ]
     },
     "metadata": {},
     "output_type": "display_data"
    },
    {
     "name": "stdout",
     "output_type": "stream",
     "text": [
      "Validation: Epoch: 4, offset_loss: 1102.68, state_loss: 0.1280, accuracy: 0.8987\n"
     ]
    },
    {
     "data": {
      "application/vnd.jupyter.widget-view+json": {
       "model_id": "72ec1d0c7d074fc9b0c8f554ea3f5747",
       "version_major": 2,
       "version_minor": 0
      },
      "text/plain": [
       "  0%|          | 0/1339 [00:00<?, ?it/s]"
      ]
     },
     "metadata": {},
     "output_type": "display_data"
    },
    {
     "name": "stdout",
     "output_type": "stream",
     "text": [
      "| epoch   5 |  1325/ 1339 batches | ms/batch 352.79 | offset_loss 1197.53 | state_loss 0.1340 | accuracy 0.8975 | mse 1197.53\n",
      "Training: Epoch: 5, offset_loss: 1222.5059, state_loss: 0.1352\n"
     ]
    },
    {
     "data": {
      "application/vnd.jupyter.widget-view+json": {
       "model_id": "778c54007826400f9a05d21ae2d3721c",
       "version_major": 2,
       "version_minor": 0
      },
      "text/plain": [
       "  0%|          | 0/48 [00:00<?, ?it/s]"
      ]
     },
     "metadata": {},
     "output_type": "display_data"
    },
    {
     "name": "stdout",
     "output_type": "stream",
     "text": [
      "Validation: Epoch: 5, offset_loss: 1090.30, state_loss: 0.1273, accuracy: 0.8965\n"
     ]
    },
    {
     "data": {
      "application/vnd.jupyter.widget-view+json": {
       "model_id": "e4f1deb2d5624428bc39aa4a5d066d04",
       "version_major": 2,
       "version_minor": 0
      },
      "text/plain": [
       "  0%|          | 0/1339 [00:00<?, ?it/s]"
      ]
     },
     "metadata": {},
     "output_type": "display_data"
    },
    {
     "name": "stdout",
     "output_type": "stream",
     "text": [
      "| epoch   6 |  1325/ 1339 batches | ms/batch 353.46 | offset_loss 1183.97 | state_loss 0.1337 | accuracy 0.8954 | mse 1183.97\n",
      "Training: Epoch: 6, offset_loss: 1206.5846, state_loss: 0.1336\n"
     ]
    },
    {
     "data": {
      "application/vnd.jupyter.widget-view+json": {
       "model_id": "07c653745c984d44b05bd1c293989478",
       "version_major": 2,
       "version_minor": 0
      },
      "text/plain": [
       "  0%|          | 0/48 [00:00<?, ?it/s]"
      ]
     },
     "metadata": {},
     "output_type": "display_data"
    },
    {
     "name": "stdout",
     "output_type": "stream",
     "text": [
      "Validation: Epoch: 6, offset_loss: 1072.40, state_loss: 0.1255, accuracy: 0.9010\n"
     ]
    },
    {
     "data": {
      "application/vnd.jupyter.widget-view+json": {
       "model_id": "a5a03aca8a6a43e3899da8e4c2e52357",
       "version_major": 2,
       "version_minor": 0
      },
      "text/plain": [
       "  0%|          | 0/1339 [00:00<?, ?it/s]"
      ]
     },
     "metadata": {},
     "output_type": "display_data"
    },
    {
     "name": "stdout",
     "output_type": "stream",
     "text": [
      "| epoch   7 |  1325/ 1339 batches | ms/batch 358.36 | offset_loss 1212.18 | state_loss 0.1319 | accuracy 0.8972 | mse 1212.18\n",
      "Training: Epoch: 7, offset_loss: 1194.0941, state_loss: 0.1323\n"
     ]
    },
    {
     "data": {
      "application/vnd.jupyter.widget-view+json": {
       "model_id": "a905a5af790b48ac923b957be07fdcc2",
       "version_major": 2,
       "version_minor": 0
      },
      "text/plain": [
       "  0%|          | 0/48 [00:00<?, ?it/s]"
      ]
     },
     "metadata": {},
     "output_type": "display_data"
    },
    {
     "name": "stdout",
     "output_type": "stream",
     "text": [
      "Validation: Epoch: 7, offset_loss: 1065.23, state_loss: 0.1236, accuracy: 0.9005\n"
     ]
    },
    {
     "data": {
      "application/vnd.jupyter.widget-view+json": {
       "model_id": "6074b0f4be774ee6826f88aee06d72d5",
       "version_major": 2,
       "version_minor": 0
      },
      "text/plain": [
       "  0%|          | 0/1339 [00:00<?, ?it/s]"
      ]
     },
     "metadata": {},
     "output_type": "display_data"
    },
    {
     "name": "stdout",
     "output_type": "stream",
     "text": [
      "| epoch   8 |  1325/ 1339 batches | ms/batch 352.73 | offset_loss 1177.79 | state_loss 0.1322 | accuracy 0.8980 | mse 1177.79\n",
      "Training: Epoch: 8, offset_loss: 1183.0508, state_loss: 0.1313\n"
     ]
    },
    {
     "data": {
      "application/vnd.jupyter.widget-view+json": {
       "model_id": "45ca163011024abea20b58e2b9a3b7d0",
       "version_major": 2,
       "version_minor": 0
      },
      "text/plain": [
       "  0%|          | 0/48 [00:00<?, ?it/s]"
      ]
     },
     "metadata": {},
     "output_type": "display_data"
    },
    {
     "name": "stdout",
     "output_type": "stream",
     "text": [
      "Validation: Epoch: 8, offset_loss: 1064.79, state_loss: 0.1237, accuracy: 0.8988\n"
     ]
    },
    {
     "data": {
      "application/vnd.jupyter.widget-view+json": {
       "model_id": "d8fa73c845584cbca18a3d805990057f",
       "version_major": 2,
       "version_minor": 0
      },
      "text/plain": [
       "  0%|          | 0/1339 [00:00<?, ?it/s]"
      ]
     },
     "metadata": {},
     "output_type": "display_data"
    },
    {
     "name": "stdout",
     "output_type": "stream",
     "text": [
      "| epoch   9 |  1325/ 1339 batches | ms/batch 370.56 | offset_loss 1149.83 | state_loss 0.1297 | accuracy 0.8989 | mse 1149.83\n",
      "Training: Epoch: 9, offset_loss: 1169.9459, state_loss: 0.1304\n"
     ]
    },
    {
     "data": {
      "application/vnd.jupyter.widget-view+json": {
       "model_id": "a02634a1bb8140e6b0b995814a3664f9",
       "version_major": 2,
       "version_minor": 0
      },
      "text/plain": [
       "  0%|          | 0/48 [00:00<?, ?it/s]"
      ]
     },
     "metadata": {},
     "output_type": "display_data"
    },
    {
     "name": "stdout",
     "output_type": "stream",
     "text": [
      "Validation: Epoch: 9, offset_loss: 1051.21, state_loss: 0.1217, accuracy: 0.9011\n"
     ]
    },
    {
     "data": {
      "application/vnd.jupyter.widget-view+json": {
       "model_id": "7659029c828546cd9336da81890e4a01",
       "version_major": 2,
       "version_minor": 0
      },
      "text/plain": [
       "  0%|          | 0/1339 [00:00<?, ?it/s]"
      ]
     },
     "metadata": {},
     "output_type": "display_data"
    },
    {
     "name": "stdout",
     "output_type": "stream",
     "text": [
      "| epoch  10 |  1325/ 1339 batches | ms/batch 362.99 | offset_loss 1157.65 | state_loss 0.1295 | accuracy 0.8981 | mse 1157.65\n",
      "Training: Epoch: 10, offset_loss: 1162.9619, state_loss: 0.1296\n"
     ]
    },
    {
     "data": {
      "application/vnd.jupyter.widget-view+json": {
       "model_id": "0a71964676d84d75a998edca0d76473d",
       "version_major": 2,
       "version_minor": 0
      },
      "text/plain": [
       "  0%|          | 0/48 [00:00<?, ?it/s]"
      ]
     },
     "metadata": {},
     "output_type": "display_data"
    },
    {
     "name": "stdout",
     "output_type": "stream",
     "text": [
      "Validation: Epoch: 10, offset_loss: 1048.23, state_loss: 0.1212, accuracy: 0.9010\n"
     ]
    },
    {
     "data": {
      "application/vnd.jupyter.widget-view+json": {
       "model_id": "24cc4689bb624f07b19bd531c198573b",
       "version_major": 2,
       "version_minor": 0
      },
      "text/plain": [
       "  0%|          | 0/1339 [00:00<?, ?it/s]"
      ]
     },
     "metadata": {},
     "output_type": "display_data"
    },
    {
     "name": "stdout",
     "output_type": "stream",
     "text": [
      "| epoch  11 |  1325/ 1339 batches | ms/batch 359.04 | offset_loss 1168.12 | state_loss 0.1297 | accuracy 0.8978 | mse 1168.12\n",
      "Training: Epoch: 11, offset_loss: 1154.3088, state_loss: 0.1289\n"
     ]
    },
    {
     "data": {
      "application/vnd.jupyter.widget-view+json": {
       "model_id": "d4bc46b845e941ed95ee2a6e8533cafa",
       "version_major": 2,
       "version_minor": 0
      },
      "text/plain": [
       "  0%|          | 0/48 [00:00<?, ?it/s]"
      ]
     },
     "metadata": {},
     "output_type": "display_data"
    },
    {
     "name": "stdout",
     "output_type": "stream",
     "text": [
      "Validation: Epoch: 11, offset_loss: 1047.14, state_loss: 0.1216, accuracy: 0.9021\n"
     ]
    },
    {
     "data": {
      "application/vnd.jupyter.widget-view+json": {
       "model_id": "22e2df32187c4eff8c198136e66c839c",
       "version_major": 2,
       "version_minor": 0
      },
      "text/plain": [
       "  0%|          | 0/1339 [00:00<?, ?it/s]"
      ]
     },
     "metadata": {},
     "output_type": "display_data"
    },
    {
     "name": "stdout",
     "output_type": "stream",
     "text": [
      "| epoch  12 |  1325/ 1339 batches | ms/batch 359.99 | offset_loss 1145.94 | state_loss 0.1292 | accuracy 0.8986 | mse 1145.94\n",
      "Training: Epoch: 12, offset_loss: 1146.8692, state_loss: 0.1284\n"
     ]
    },
    {
     "data": {
      "application/vnd.jupyter.widget-view+json": {
       "model_id": "f2955208dd7f42eeb4ba8b3f4016c68a",
       "version_major": 2,
       "version_minor": 0
      },
      "text/plain": [
       "  0%|          | 0/48 [00:00<?, ?it/s]"
      ]
     },
     "metadata": {},
     "output_type": "display_data"
    },
    {
     "name": "stdout",
     "output_type": "stream",
     "text": [
      "Validation: Epoch: 12, offset_loss: 1035.00, state_loss: 0.1203, accuracy: 0.9024\n"
     ]
    },
    {
     "data": {
      "application/vnd.jupyter.widget-view+json": {
       "model_id": "4956ec49111f440abea683be378bae83",
       "version_major": 2,
       "version_minor": 0
      },
      "text/plain": [
       "  0%|          | 0/1339 [00:00<?, ?it/s]"
      ]
     },
     "metadata": {},
     "output_type": "display_data"
    },
    {
     "name": "stdout",
     "output_type": "stream",
     "text": [
      "| epoch  13 |  1325/ 1339 batches | ms/batch 362.24 | offset_loss 1148.26 | state_loss 0.1287 | accuracy 0.8997 | mse 1148.26\n",
      "Training: Epoch: 13, offset_loss: 1138.7549, state_loss: 0.1280\n"
     ]
    },
    {
     "data": {
      "application/vnd.jupyter.widget-view+json": {
       "model_id": "683dd88abc2c46c7b514117ff1583808",
       "version_major": 2,
       "version_minor": 0
      },
      "text/plain": [
       "  0%|          | 0/48 [00:00<?, ?it/s]"
      ]
     },
     "metadata": {},
     "output_type": "display_data"
    },
    {
     "name": "stdout",
     "output_type": "stream",
     "text": [
      "Validation: Epoch: 13, offset_loss: 1032.65, state_loss: 0.1197, accuracy: 0.9020\n"
     ]
    },
    {
     "data": {
      "application/vnd.jupyter.widget-view+json": {
       "model_id": "27a8ebf051104e3a83ad158ed6832c56",
       "version_major": 2,
       "version_minor": 0
      },
      "text/plain": [
       "  0%|          | 0/1339 [00:00<?, ?it/s]"
      ]
     },
     "metadata": {},
     "output_type": "display_data"
    },
    {
     "name": "stdout",
     "output_type": "stream",
     "text": [
      "| epoch  14 |  1325/ 1339 batches | ms/batch 417.29 | offset_loss 1133.35 | state_loss 0.1259 | accuracy 0.9000 | mse 1133.35\n",
      "Training: Epoch: 14, offset_loss: 1132.7834, state_loss: 0.1275\n"
     ]
    },
    {
     "data": {
      "application/vnd.jupyter.widget-view+json": {
       "model_id": "e598a842cca24fccaa1bfcd03103d93d",
       "version_major": 2,
       "version_minor": 0
      },
      "text/plain": [
       "  0%|          | 0/48 [00:00<?, ?it/s]"
      ]
     },
     "metadata": {},
     "output_type": "display_data"
    },
    {
     "name": "stdout",
     "output_type": "stream",
     "text": [
      "Validation: Epoch: 14, offset_loss: 1033.86, state_loss: 0.1196, accuracy: 0.9030\n"
     ]
    },
    {
     "data": {
      "application/vnd.jupyter.widget-view+json": {
       "model_id": "ced37bb52fc546c4ba1fa3d32065fc75",
       "version_major": 2,
       "version_minor": 0
      },
      "text/plain": [
       "  0%|          | 0/1339 [00:00<?, ?it/s]"
      ]
     },
     "metadata": {},
     "output_type": "display_data"
    },
    {
     "name": "stdout",
     "output_type": "stream",
     "text": [
      "| epoch  15 |  1325/ 1339 batches | ms/batch 387.63 | offset_loss 1136.04 | state_loss 0.1280 | accuracy 0.8992 | mse 1136.04\n",
      "Training: Epoch: 15, offset_loss: 1127.2670, state_loss: 0.1272\n"
     ]
    },
    {
     "data": {
      "application/vnd.jupyter.widget-view+json": {
       "model_id": "d543580fc03842ca9ae20a816d280810",
       "version_major": 2,
       "version_minor": 0
      },
      "text/plain": [
       "  0%|          | 0/48 [00:00<?, ?it/s]"
      ]
     },
     "metadata": {},
     "output_type": "display_data"
    },
    {
     "name": "stdout",
     "output_type": "stream",
     "text": [
      "Validation: Epoch: 15, offset_loss: 1029.61, state_loss: 0.1194, accuracy: 0.9031\n"
     ]
    },
    {
     "data": {
      "application/vnd.jupyter.widget-view+json": {
       "model_id": "89fc95a480c14b39845e9362a0059b1a",
       "version_major": 2,
       "version_minor": 0
      },
      "text/plain": [
       "  0%|          | 0/1339 [00:00<?, ?it/s]"
      ]
     },
     "metadata": {},
     "output_type": "display_data"
    },
    {
     "name": "stdout",
     "output_type": "stream",
     "text": [
      "| epoch  16 |  1325/ 1339 batches | ms/batch 356.95 | offset_loss 1115.80 | state_loss 0.1283 | accuracy 0.8989 | mse 1115.80\n",
      "Training: Epoch: 16, offset_loss: 1121.8881, state_loss: 0.1269\n"
     ]
    },
    {
     "data": {
      "application/vnd.jupyter.widget-view+json": {
       "model_id": "b146da5a545b40b2b7ea4b47989d13b2",
       "version_major": 2,
       "version_minor": 0
      },
      "text/plain": [
       "  0%|          | 0/48 [00:00<?, ?it/s]"
      ]
     },
     "metadata": {},
     "output_type": "display_data"
    },
    {
     "name": "stdout",
     "output_type": "stream",
     "text": [
      "Validation: Epoch: 16, offset_loss: 1027.09, state_loss: 0.1189, accuracy: 0.9033\n"
     ]
    },
    {
     "data": {
      "application/vnd.jupyter.widget-view+json": {
       "model_id": "3c1bd54cde6743528f6ce65c56f51ab7",
       "version_major": 2,
       "version_minor": 0
      },
      "text/plain": [
       "  0%|          | 0/1339 [00:00<?, ?it/s]"
      ]
     },
     "metadata": {},
     "output_type": "display_data"
    },
    {
     "name": "stdout",
     "output_type": "stream",
     "text": [
      "| epoch  17 |  1325/ 1339 batches | ms/batch 358.27 | offset_loss 1172.17 | state_loss 0.1274 | accuracy 0.8998 | mse 1172.17\n",
      "Training: Epoch: 17, offset_loss: 1117.2882, state_loss: 0.1267\n"
     ]
    },
    {
     "data": {
      "application/vnd.jupyter.widget-view+json": {
       "model_id": "23c7d07dccc54e168e831c83cb2f2fdd",
       "version_major": 2,
       "version_minor": 0
      },
      "text/plain": [
       "  0%|          | 0/48 [00:00<?, ?it/s]"
      ]
     },
     "metadata": {},
     "output_type": "display_data"
    },
    {
     "name": "stdout",
     "output_type": "stream",
     "text": [
      "Validation: Epoch: 17, offset_loss: 1025.50, state_loss: 0.1188, accuracy: 0.9031\n"
     ]
    },
    {
     "data": {
      "application/vnd.jupyter.widget-view+json": {
       "model_id": "ee17f11490864dc182f9cb82330b1cbf",
       "version_major": 2,
       "version_minor": 0
      },
      "text/plain": [
       "  0%|          | 0/1339 [00:00<?, ?it/s]"
      ]
     },
     "metadata": {},
     "output_type": "display_data"
    },
    {
     "name": "stdout",
     "output_type": "stream",
     "text": [
      "| epoch  18 |  1325/ 1339 batches | ms/batch 352.61 | offset_loss 1095.47 | state_loss 0.1275 | accuracy 0.8986 | mse 1095.47\n",
      "Training: Epoch: 18, offset_loss: 1114.5111, state_loss: 0.1266\n"
     ]
    },
    {
     "data": {
      "application/vnd.jupyter.widget-view+json": {
       "model_id": "b37222fa4f35454fa431b975100ad420",
       "version_major": 2,
       "version_minor": 0
      },
      "text/plain": [
       "  0%|          | 0/48 [00:00<?, ?it/s]"
      ]
     },
     "metadata": {},
     "output_type": "display_data"
    },
    {
     "name": "stdout",
     "output_type": "stream",
     "text": [
      "Validation: Epoch: 18, offset_loss: 1020.94, state_loss: 0.1187, accuracy: 0.9027\n"
     ]
    },
    {
     "data": {
      "application/vnd.jupyter.widget-view+json": {
       "model_id": "1c1d1e8235b24611af1aef58e8a2baab",
       "version_major": 2,
       "version_minor": 0
      },
      "text/plain": [
       "  0%|          | 0/1339 [00:00<?, ?it/s]"
      ]
     },
     "metadata": {},
     "output_type": "display_data"
    },
    {
     "name": "stdout",
     "output_type": "stream",
     "text": [
      "| epoch  19 |  1325/ 1339 batches | ms/batch 387.09 | offset_loss 1114.49 | state_loss 0.1262 | accuracy 0.8996 | mse 1114.49\n",
      "Training: Epoch: 19, offset_loss: 1111.4784, state_loss: 0.1264\n"
     ]
    },
    {
     "data": {
      "application/vnd.jupyter.widget-view+json": {
       "model_id": "9861d4fca27d461d95946265044aac14",
       "version_major": 2,
       "version_minor": 0
      },
      "text/plain": [
       "  0%|          | 0/48 [00:00<?, ?it/s]"
      ]
     },
     "metadata": {},
     "output_type": "display_data"
    },
    {
     "name": "stdout",
     "output_type": "stream",
     "text": [
      "Validation: Epoch: 19, offset_loss: 1022.25, state_loss: 0.1186, accuracy: 0.9029\n"
     ]
    },
    {
     "data": {
      "application/vnd.jupyter.widget-view+json": {
       "model_id": "6e5d4ca18fa84b7795afeb5071a00fb2",
       "version_major": 2,
       "version_minor": 0
      },
      "text/plain": [
       "  0%|          | 0/1339 [00:00<?, ?it/s]"
      ]
     },
     "metadata": {},
     "output_type": "display_data"
    },
    {
     "name": "stdout",
     "output_type": "stream",
     "text": [
      "| epoch  20 |  1325/ 1339 batches | ms/batch 369.99 | offset_loss 1085.23 | state_loss 0.1253 | accuracy 0.9005 | mse 1085.23\n",
      "Training: Epoch: 20, offset_loss: 1110.8829, state_loss: 0.1264\n"
     ]
    },
    {
     "data": {
      "application/vnd.jupyter.widget-view+json": {
       "model_id": "71665ae4ac3d4735bea256944e70a8df",
       "version_major": 2,
       "version_minor": 0
      },
      "text/plain": [
       "  0%|          | 0/48 [00:00<?, ?it/s]"
      ]
     },
     "metadata": {},
     "output_type": "display_data"
    },
    {
     "name": "stdout",
     "output_type": "stream",
     "text": [
      "Validation: Epoch: 20, offset_loss: 1021.06, state_loss: 0.1185, accuracy: 0.9027\n"
     ]
    }
   ],
   "source": [
    "early_stopper = EarlyStopper(patience=3, min_delta=20)\n",
    "for epoch in range(epochs):\n",
    "    train_loss, train_offset_loss, train_state_loss = train_model(model, train, optimizer, epoch)\n",
    "    print(f\"Training: Epoch: {epoch+1}, offset_loss: {train_offset_loss/2:5.4f}, state_loss: {train_state_loss:5.4f}\")\n",
    "    writer.add_scalar(\"Train/Offset_Loss/Epoch\", train_offset_loss/2, epoch)\n",
    "    writer.add_scalar(\"Train/State_Loss/Epoch\", train_state_loss, epoch)\n",
    "    \n",
    "    val_loss, val_offset_loss, val_state_loss, val_accuracy = evaluate_model(model, val)\n",
    "    print(f\"Validation: Epoch: {epoch+1}, offset_loss: {val_offset_loss/2:5.2f}, state_loss: {val_state_loss:5.4f}, accuracy: {val_accuracy:5.4f}\")\n",
    "    writer.add_scalar(\"Validation/Offset_Loss/Epoch\", val_offset_loss/2, epoch)\n",
    "    writer.add_scalar(\"Validation/State_Loss/Epoch\", val_state_loss, epoch)\n",
    "    writer.add_scalar(\"Validation/State_Accuracy/Epoch\", val_accuracy, epoch)\n",
    "    \n",
    "    if early_stopper.early_stop(val_offset_loss):\n",
    "        break\n",
    "    \n",
    "    scheduler.step()"
   ]
  },
  {
   "cell_type": "code",
   "execution_count": 7,
   "metadata": {},
   "outputs": [
    {
     "data": {
      "application/vnd.jupyter.widget-view+json": {
       "model_id": "720086cf5469495fa97bdf3c78dade8a",
       "version_major": 2,
       "version_minor": 0
      },
      "text/plain": [
       "  0%|          | 0/48 [00:00<?, ?it/s]"
      ]
     },
     "metadata": {},
     "output_type": "display_data"
    },
    {
     "name": "stdout",
     "output_type": "stream",
     "text": [
      "Test: offset_loss: 1029.20, state_loss: 0.1187, accuracy: 0.9023\n"
     ]
    }
   ],
   "source": [
    "test_loss, test_offset_loss, test_state_loss, test_accuracy = evaluate_model(model, test)\n",
    "print(f\"Test: offset_loss: {test_offset_loss/2:5.2f}, state_loss: {test_state_loss:5.4f}, accuracy: {test_accuracy:5.4f}\")"
   ]
  },
  {
   "cell_type": "code",
   "execution_count": 8,
   "metadata": {},
   "outputs": [],
   "source": [
    "model.save('./saved/embed_128.pth')"
   ]
  },
  {
   "cell_type": "code",
   "execution_count": 9,
   "metadata": {},
   "outputs": [],
   "source": [
    "loaded_model = customModel(nb=4, no=2, ns=2, embed_dim=64).to(\"cuda\")\n",
    "loaded_model.load('./saved/embed_64.pth')"
   ]
  },
  {
   "cell_type": "code",
   "execution_count": 10,
   "metadata": {},
   "outputs": [
    {
     "data": {
      "application/vnd.jupyter.widget-view+json": {
       "model_id": "7da246a472e9433e9936e8d64dcb88dc",
       "version_major": 2,
       "version_minor": 0
      },
      "text/plain": [
       "  0%|          | 0/48 [00:00<?, ?it/s]"
      ]
     },
     "metadata": {},
     "output_type": "display_data"
    },
    {
     "name": "stdout",
     "output_type": "stream",
     "text": [
      "Test: offset_loss: 2128.20, state_loss: 0.1222, accuracy: 0.9005\n"
     ]
    }
   ],
   "source": [
    "test_loss, test_offset_loss, test_state_loss, test_accuracy = evaluate_model(loaded_model, test)\n",
    "print(f\"Test: offset_loss: {test_offset_loss:5.2f}, state_loss: {test_state_loss:5.4f}, accuracy: {test_accuracy:5.4f}\")"
   ]
  },
  {
   "cell_type": "code",
   "execution_count": 8,
   "metadata": {},
   "outputs": [
    {
     "data": {
      "image/svg+xml": [
       "<svg xmlns=\"http://www.w3.org/2000/svg\" xmlns:ev=\"http://www.w3.org/2001/xml-events\" xmlns:xlink=\"http://www.w3.org/1999/xlink\" baseProfile=\"full\" height=\"1470.0\" version=\"1.1\" width=\"1315.0\"><defs/><rect fill=\"white\" height=\"1470.0\" width=\"1315.0\" x=\"0\" y=\"0\"/><path d=\"M1290.0,40.0 m-125.0,-15.0 l-145.0,5.0 -195.0,50.0 l-250.0,100.0 -200.0,140.0 l-165.0,170.0 -110.0,200.0 l-60.0,230.0 -15.0,250.0 l65.0,275.0 \" fill=\"none\" stroke=\"black\" stroke-width=\"1\"/></svg>"
      ],
      "text/plain": [
       "<IPython.core.display.SVG object>"
      ]
     },
     "metadata": {},
     "output_type": "display_data"
    },
    {
     "data": {
      "image/svg+xml": [
       "<svg xmlns=\"http://www.w3.org/2000/svg\" xmlns:ev=\"http://www.w3.org/2001/xml-events\" xmlns:xlink=\"http://www.w3.org/1999/xlink\" baseProfile=\"full\" height=\"1473.918435079977\" version=\"1.1\" width=\"1315.0\"><defs/><rect fill=\"white\" height=\"1473.918435079977\" width=\"1315.0\" x=\"0\" y=\"0\"/><path d=\"M1290.0,40.0 m-125.0,-15.0 l-145.0,5.0 -195.0,50.0 l-250.0,100.0 -200.0,140.0 l-165.0,170.0 -110.0,200.0 l-60.0,230.0 -15.0,250.0 l65.0,275.0 -0.052495431154966354,0.08910048753023148 l-0.09297335520386696,0.1023724116384983 -0.0925240758806467,0.09782863780856133 l-0.03147723153233528,0.07129504345357418 -0.052495431154966354,0.08910048753023148 l-0.0450708344578743,0.058665769174695015 -0.052495431154966354,0.08910048753023148 l-0.07232228294014931,0.06766716949641705 -0.045366883277893066,0.05034166853874922 l-0.04558032378554344,0.05064724013209343 -0.04736727103590965,0.060332538560032845 l-0.05249544978141785,0.08910048753023148 -0.04541594535112381,0.06043218541890383 l-0.047328248620033264,0.059830350801348686 -0.047516822814941406,0.0602039135992527 l-0.04124045372009277,0.06491742096841335 -0.0474805012345314,0.059874141588807106 l-0.07306710816919804,0.06845848634839058 -0.047400202602148056,0.06022377870976925 l-0.0734699796885252,0.06867854855954647 -0.04735346883535385,0.06045543123036623 l-0.044792722910642624,0.060459673404693604 -0.04742184653878212,0.060188984498381615 l-0.045322440564632416,0.06085652858018875 -0.04107773303985596,0.06486846599727869 l-0.04500601440668106,0.057443478144705296 -0.04474323242902756,0.0503084622323513 l-0.045599695295095444,0.05050337873399258 -0.05249544978141785,0.08910048753023148 l-0.04553517326712608,0.060618408024311066 -0.045226551592350006,0.05011295434087515 l-0.047458261251449585,0.06007329560816288 -0.04750605672597885,0.060066431760787964 l-0.04739638417959213,0.05993125960230827 -0.04524819552898407,0.05019939038902521 l-0.047353506088256836,0.06007157266139984 -0.04564594477415085,0.05043026991188526 l-0.05249544978141785,0.08910048753023148 -0.05249544978141785,0.08910048753023148 l-0.04772018641233444,0.0595518434420228 -0.04566449671983719,0.05047314800322056 l-0.041175540536642075,0.06513319909572601 -0.047570858150720596,0.05972645245492458 l-0.04741327837109566,0.05996543448418379 -0.044954605400562286,0.0575444009155035 l-0.047620199620723724,0.06020462140440941 -0.04745110869407654,0.060028345324099064 l-0.04743870347738266,0.05998234264552593 -0.04141060635447502,0.06513954140245914 l-0.047521889209747314,0.05988898687064648 -0.04744768142700195,0.06003166548907757 l-0.04747606813907623,0.05999842192977667 -0.04110090434551239,0.06489692255854607 l-0.05249544978141785,0.08910048753023148 -0.04590792581439018,0.05013767629861832 l-0.04522021859884262,0.06085140164941549 -0.04752688109874725,0.06010408978909254 l-0.05249544978141785,0.08910048753023148 -0.041222721338272095,0.06472808308899403 l-0.047457627952098846,0.05978682544082403 \" fill=\"none\" stroke=\"black\" stroke-width=\"1\"/></svg>"
      ],
      "text/plain": [
       "<IPython.core.display.SVG object>"
      ]
     },
     "metadata": {},
     "output_type": "display_data"
    },
    {
     "data": {
      "image/svg+xml": [
       "<svg xmlns=\"http://www.w3.org/2000/svg\" xmlns:ev=\"http://www.w3.org/2001/xml-events\" xmlns:xlink=\"http://www.w3.org/1999/xlink\" baseProfile=\"full\" height=\"2800.0\" version=\"1.1\" width=\"3410.0\"><defs/><rect fill=\"white\" height=\"2800.0\" width=\"3410.0\" x=\"0\" y=\"0\"/><path d=\"M1290.0,465.0 m-125.0,-15.0 l-145.0,5.0 -195.0,50.0 l-250.0,100.0 -200.0,140.0 l-165.0,170.0 -110.0,200.0 l-60.0,230.0 -15.0,250.0 l65.0,275.0 140.0,295.0 l170.0,240.0 185.0,170.0 l165.0,95.0 200.0,55.0 l285.0,35.0 265.0,15.0 l385.0,-10.0 345.0,-85.0 l195.0,-95.0 225.0,-130.0 l400.0,-335.0 140.0,-185.0 l105.0,-180.0 80.0,-215.0 l10.0,-220.0 -50.0,-240.0 l-165.0,-370.0 -70.0,-90.0 l-230.0,-150.0 -375.0,-130.0 l-295.0,-70.0 -245.0,-30.0 l-530.0,125.0 -290.0,125.0 m-380.0,25.0 l0.0,-435.0 35.0,-55.0 l150.0,130.0 105.0,280.0 m1390.0,-135.0 l90.0,-100.0 210.0,-160.0 l65.0,235.0 30.0,205.0 m-1595.0,590.0 l15.0,60.0 25.0,5.0 l15.0,-35.0 -10.0,-70.0 l-25.0,35.0 m780.0,-70.0 l25.0,20.0 75.0,0.0 l-10.0,-35.0 -25.0,-10.0 l-20.0,15.0 m20.0,730.0 l30.0,25.0 575.0,40.0 l500.0,0.0 160.0,-15.0 m-1265.0,-20.0 l230.0,45.0 420.0,145.0 l205.0,40.0 m-875.0,-240.0 l85.0,185.0 355.0,520.0 l100.0,200.0 \" fill=\"none\" stroke=\"black\" stroke-width=\"1\"/></svg>"
      ],
      "text/plain": [
       "<IPython.core.display.SVG object>"
      ]
     },
     "metadata": {},
     "output_type": "display_data"
    }
   ],
   "source": [
    "from utils import draw_strokes\n",
    "\n",
    "@torch.inference_mode()\n",
    "def generate(model, input_seq):\n",
    "    prev = input_seq\n",
    "    \n",
    "    i = 0\n",
    "    while i < 60:\n",
    "        offset, state = model.forward(prev)\n",
    "        indices = torch.argmax(state, dim=-1)\n",
    "        one_hot = torch.nn.functional.one_hot(indices, 3)\n",
    "        pred = torch.cat((offset, one_hot), dim=-1)\n",
    "        next_seg = pred[:, -1:, :]\n",
    "        prev = torch.cat((prev, next_seg), dim=1)\n",
    "        i += 1\n",
    "    \n",
    "    return prev\n",
    "\n",
    "strokes = train_dataset[10][0]\n",
    "i = (strokes[:10]).unsqueeze(0)\n",
    "\n",
    "output_pred = generate(model, i.to(\"cuda\")).cpu().numpy()[0]\n",
    "output_actual = strokes[:70].numpy()\n",
    "draw_strokes(i[0], svg_filename='./input.svg')\n",
    "draw_strokes(output_pred, svg_filename='./sample.svg')\n",
    "draw_strokes(output_actual, svg_filename='./actual.svg')"
   ]
  }
 ],
 "metadata": {
  "kernelspec": {
   "display_name": "drawenv",
   "language": "python",
   "name": "python3"
  },
  "language_info": {
   "codemirror_mode": {
    "name": "ipython",
    "version": 3
   },
   "file_extension": ".py",
   "mimetype": "text/x-python",
   "name": "python",
   "nbconvert_exporter": "python",
   "pygments_lexer": "ipython3",
   "version": "3.11.8"
  }
 },
 "nbformat": 4,
 "nbformat_minor": 2
}
